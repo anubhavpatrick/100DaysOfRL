{
 "cells": [
  {
   "cell_type": "code",
   "execution_count": 1,
   "metadata": {
    "colab": {
     "base_uri": "https://localhost:8080/",
     "height": 228
    },
    "colab_type": "code",
    "id": "boWDpbXsHWTY",
    "outputId": "697136fc-87ef-4e25-ca0e-5574bd6f7508"
   },
   "outputs": [
    {
     "name": "stdout",
     "output_type": "stream",
     "text": [
      "Requirement already satisfied: gym in /Users/anubhavpatrick/miniconda3/envs/style-transfer/lib/python3.7/site-packages (0.15.3)\n",
      "Requirement already satisfied: cloudpickle~=1.2.0 in /Users/anubhavpatrick/miniconda3/envs/style-transfer/lib/python3.7/site-packages (from gym) (1.2.2)\n",
      "Requirement already satisfied: numpy>=1.10.4 in /Users/anubhavpatrick/miniconda3/envs/style-transfer/lib/python3.7/site-packages (from gym) (1.17.2)\n",
      "Requirement already satisfied: six in /Users/anubhavpatrick/miniconda3/envs/style-transfer/lib/python3.7/site-packages (from gym) (1.12.0)\n",
      "Requirement already satisfied: scipy in /Users/anubhavpatrick/miniconda3/envs/style-transfer/lib/python3.7/site-packages (from gym) (1.1.0)\n",
      "Requirement already satisfied: pyglet<=1.3.2,>=1.2.0 in /Users/anubhavpatrick/miniconda3/envs/style-transfer/lib/python3.7/site-packages (from gym) (1.3.2)\n",
      "Requirement already satisfied: future in /Users/anubhavpatrick/miniconda3/envs/style-transfer/lib/python3.7/site-packages (from pyglet<=1.3.2,>=1.2.0->gym) (0.18.1)\n"
     ]
    }
   ],
   "source": [
    "#Reference => sentdex tutorial on Youtube\n",
    "!pip install gym #already installed"
   ]
  },
  {
   "cell_type": "code",
   "execution_count": 2,
   "metadata": {
    "colab": {
     "base_uri": "https://localhost:8080/",
     "height": 35
    },
    "colab_type": "code",
    "id": "b8jAVyvSH4-F",
    "outputId": "f3c3d8e7-8dd9-435c-d391-c025cd1c13f5"
   },
   "outputs": [
    {
     "data": {
      "text/plain": [
       "array([-0.58779031,  0.        ])"
      ]
     },
     "execution_count": 2,
     "metadata": {},
     "output_type": "execute_result"
    }
   ],
   "source": [
    "import gym\n",
    "env = gym.make('MountainCar-v0') #for discription https://github.com/openai/gym/wiki/MountainCar-v0\n",
    "env.reset()"
   ]
  },
  {
   "cell_type": "code",
   "execution_count": 3,
   "metadata": {
    "colab": {
     "base_uri": "https://localhost:8080/",
     "height": 381
    },
    "colab_type": "code",
    "id": "swozPaMXMMzG",
    "outputId": "911a440b-c955-4ae9-fae4-eb8272067d7a"
   },
   "outputs": [
    {
     "name": "stdout",
     "output_type": "stream",
     "text": [
      "[-5.87311848e-01  4.78466374e-04]\n",
      "[-0.58635844  0.00095341]\n",
      "[-0.58493711  0.00142133]\n",
      "[-0.58405833  0.00087878]\n",
      "[-0.58272859  0.00132974]\n",
      "[-0.58195769  0.00077089]\n",
      "[-0.58075134  0.00120635]\n",
      "[-0.58011844  0.0006329 ]\n",
      "[-0.57906367  0.00105477]\n",
      "[-5.78594835e-01  4.68838525e-04]\n",
      "[-0.57671539  0.00187944]\n",
      "[-0.57343926  0.00327613]\n",
      "[-0.56979072  0.00364854]\n",
      "[-0.56579685  0.00399388]\n",
      "[-0.56048733  0.00530952]\n",
      "[-0.55390171  0.00658562]\n",
      "[-0.54708914  0.00681258]\n",
      "[-0.54010053  0.00698861]\n",
      "[-0.53398821  0.00611232]\n",
      "[-0.52679798  0.00719023]\n",
      "[-0.52058376  0.00621422]\n",
      "[-0.51339215  0.00719161]\n",
      "[-0.50527708  0.00811507]\n",
      "[-0.49629935  0.00897773]\n",
      "[-0.48652614  0.00977321]\n",
      "[-0.4780304   0.00849574]\n",
      "[-0.46887536  0.00915504]\n",
      "[-0.45912891  0.00974646]\n",
      "[-0.45086297  0.00826594]\n",
      "[-0.44413823  0.00672474]\n",
      "[-0.43900381  0.00513441]\n",
      "[-0.43349707  0.00550674]\n",
      "[-0.42965789  0.00383918]\n",
      "[-0.42751398  0.00214391]\n",
      "[-0.42608077  0.00143321]\n",
      "[-0.42536855  0.00071222]\n",
      "[-4.25382448e-01 -1.38935610e-05]\n",
      "[-0.42612235 -0.0007399 ]\n",
      "[-0.42858295 -0.0024606 ]\n",
      "[-0.43174656 -0.00316361]\n",
      "[-0.43659038 -0.00484382]\n",
      "[-0.44307937 -0.00648899]\n",
      "[-0.4501664  -0.00708703]\n",
      "[-0.45779974 -0.00763333]\n",
      "[-0.46692336 -0.00912363]\n",
      "[-0.47547001 -0.00854665]\n",
      "[-0.48337637 -0.00790636]\n",
      "[-0.49158367 -0.0082073 ]\n",
      "[-0.50003071 -0.00844704]\n",
      "[-0.50865436 -0.00862365]\n",
      "[-0.51639006 -0.0077357 ]\n",
      "[-0.52317982 -0.00678976]\n",
      "[-0.53097272 -0.0077929 ]\n",
      "[-0.53971032 -0.0087376 ]\n",
      "[-0.54732714 -0.00761681]\n",
      "[-0.55376614 -0.006439  ]\n",
      "[-0.55997919 -0.00621305]\n",
      "[-0.56491993 -0.00494074]\n",
      "[-0.57055156 -0.00563163]\n",
      "[-0.57483221 -0.00428064]\n",
      "[-0.57773011 -0.0028979 ]\n",
      "[-0.58122381 -0.0034937 ]\n",
      "[-0.58528748 -0.00406366]\n",
      "[-0.58789111 -0.00260363]\n",
      "[-0.58901554 -0.00112443]\n",
      "[-0.58965248 -0.00063694]\n",
      "[-0.59079726 -0.00114478]\n",
      "[-5.90441452e-01  3.55804873e-04]\n",
      "[-5.90587680e-01 -1.46228111e-04]\n",
      "[-0.59123487 -0.00064719]\n",
      "[-0.59237826 -0.00114339]\n",
      "[-0.59400945 -0.0016312 ]\n",
      "[-0.59611649 -0.00210703]\n",
      "[-0.59868392 -0.00256743]\n",
      "[-0.59969296 -0.00100904]\n",
      "[-0.60113624 -0.00144328]\n",
      "[-0.60300322 -0.00186698]\n",
      "[-0.60528028 -0.00227706]\n",
      "[-0.60595085 -0.00067056]\n",
      "[-0.60701004 -0.00105919]\n",
      "[-6.07450147e-01 -4.40111344e-04]\n",
      "[-6.07267985e-01  1.82162307e-04]\n",
      "[-0.60646487  0.00080311]\n",
      "[-0.60504665  0.00141823]\n",
      "[-0.60302362  0.00202303]\n",
      "[-0.60041053  0.00261309]\n",
      "[-0.59622643  0.00418409]\n",
      "[-0.59050193  0.0057245 ]\n",
      "[-0.58427902  0.00622291]\n",
      "[-0.57760351  0.00667551]\n",
      "[-0.57152474  0.00607877]\n",
      "[-0.56508776  0.00643698]\n",
      "[-0.55834042  0.00674734]\n",
      "[-0.55133298  0.00700743]\n",
      "[-0.54311778  0.0082152 ]\n",
      "[-0.53475627  0.00836151]\n",
      "[-0.52531109  0.00944518]\n",
      "[-0.51685308  0.00845802]\n",
      "[-0.50744565  0.00940743]\n",
      "[-0.49915932  0.00828633]\n",
      "[-0.49205612  0.0071032 ]\n",
      "[-0.48618914  0.00586698]\n",
      "[-0.48160215  0.004587  ]\n",
      "[-0.47732929  0.00427285]\n",
      "[-0.47440235  0.00292695]\n",
      "[-0.47084304  0.00355931]\n",
      "[-0.46667775  0.00416529]\n",
      "[-0.46193729  0.00474046]\n",
      "[-0.45865666  0.00328063]\n",
      "[-0.45586002  0.00279664]\n",
      "[-0.45256794  0.00329209]\n",
      "[-0.45080456  0.00176338]\n",
      "[-4.50582807e-01  2.21750614e-04]\n",
      "[-0.44990431  0.0006785 ]\n",
      "[-0.45077402 -0.00086972]\n",
      "[-4.51185593e-01 -4.11568283e-04]\n",
      "[-4.51135999e-01  4.95945270e-05]\n",
      "[-0.4526256  -0.00148961]\n",
      "[-0.4536435  -0.00101789]\n",
      "[-0.45618221 -0.00253871]\n",
      "[-0.45822311 -0.0020409 ]\n",
      "[-0.45975119 -0.00152808]\n",
      "[-0.4607552  -0.00100401]\n",
      "[-0.46222775 -0.00147255]\n",
      "[-0.46315799 -0.00093024]\n",
      "[-0.46553905 -0.00238106]\n",
      "[-0.46735337 -0.00181431]\n",
      "[-0.47058752 -0.00323416]\n",
      "[-0.47421759 -0.00363007]\n",
      "[-0.47721666 -0.00299907]\n",
      "[-0.48156248 -0.00434582]\n",
      "[-0.48522273 -0.00366025]\n",
      "[-0.48817017 -0.00294744]\n",
      "[-0.49238282 -0.00421265]\n",
      "[-0.49682925 -0.00444643]\n",
      "[-0.50247624 -0.00564699]\n",
      "[-0.50928154 -0.0068053 ]\n",
      "[-0.51519418 -0.00591265]\n",
      "[-0.52016986 -0.00497567]\n",
      "[-0.52517125 -0.00500139]\n",
      "[-0.52916084 -0.0039896 ]\n",
      "[-0.53410873 -0.00494788]\n",
      "[-0.5389778  -0.00486907]\n",
      "[-0.54473157 -0.00575377]\n",
      "[-0.54932695 -0.00459538]\n",
      "[-0.55272956 -0.00340261]\n",
      "[-0.55691396 -0.00418441]\n",
      "[-0.56184892 -0.00493496]\n",
      "[-0.56549763 -0.00364871]\n",
      "[-0.56983293 -0.0043353 ]\n",
      "[-0.57482258 -0.00498965]\n",
      "[-0.57842957 -0.00360698]\n",
      "[-0.58062717 -0.0021976 ]\n",
      "[-0.58139915 -0.00077198]\n",
      "[-0.58273979 -0.00134064]\n",
      "[-0.5846392  -0.00189941]\n",
      "[-0.58608336 -0.00144416]\n",
      "[-5.86061620e-01  2.17358922e-05]\n",
      "[-5.86574149e-01 -5.12529655e-04]\n",
      "[-0.58761717 -0.00104302]\n",
      "[-0.589183   -0.00156583]\n",
      "[-5.89260109e-01 -7.71131550e-05]\n",
      "[-5.88847941e-01  4.12168221e-04]\n",
      "[-5.88949523e-01 -1.01582257e-04]\n",
      "[-0.58756411  0.00138541]\n",
      "[-0.58670189  0.00086222]\n",
      "[-0.58536923  0.00133267]\n",
      "[-0.58357593  0.0017933 ]\n",
      "[-0.58033522  0.0032407 ]\n",
      "[-0.57567105  0.00466418]\n",
      "[-0.57061792  0.00505313]\n",
      "[-0.56521331  0.00540461]\n",
      "[-0.5584974   0.00671591]\n",
      "[-0.55252024  0.00597717]\n",
      "[-0.54632643  0.00619381]\n",
      "[-0.5409623   0.00536413]\n",
      "[-0.536468   0.0044943]\n",
      "[-0.53287721  0.00359079]\n",
      "[-0.52821683  0.00466037]\n",
      "[-0.52252183  0.00569501]\n",
      "[-0.51683489  0.00568693]\n",
      "[-0.51219869  0.00463621]\n",
      "[-0.50864797  0.00355072]\n",
      "[-0.50620934  0.00243863]\n",
      "[-0.50390108  0.00230827]\n",
      "[-0.50274046  0.00116062]\n",
      "[-0.50073617  0.00200428]\n",
      "[-0.49990322  0.00083295]\n",
      "[-5.00247842e-01 -3.44618271e-04]\n",
      "[-0.50176745 -0.00151961]\n",
      "[-0.50345067 -0.00168322]\n",
      "[-0.50628492 -0.00283424]\n",
      "[-0.51024896 -0.00396404]\n",
      "[-0.51331309 -0.00306414]\n",
      "[-0.51745436 -0.00414127]\n",
      "[-0.52164171 -0.00418735]\n",
      "[-0.52584373 -0.00420203]\n",
      "[-0.53002892 -0.00418519]\n",
      "[-0.53316588 -0.00313696]\n",
      "[-0.53723111 -0.00406522]\n"
     ]
    }
   ],
   "source": [
    "import random\n",
    "done = False\n",
    "\n",
    "while not done:\n",
    "  action = (int(random.random()*10))%3 #action 0->push car left; action 1->do nothing; action 2-> push car right\n",
    "  state, reward, done, _ = env.step(action)# state is a tuple of (position, velocity)\n",
    "  print(state)  \n",
    "\n",
    "  env.render()\n",
    "\n",
    "env.close()\n",
    "\n",
    "#the car needs to build momentum"
   ]
  },
  {
   "cell_type": "markdown",
   "metadata": {
    "colab": {},
    "colab_type": "code",
    "id": "PUOonNqESgB-"
   },
   "source": [
    "## Implementing Q Table\n",
    "\n",
    "We will be implementing SARSAMAX\n",
    "\n",
    "![](SARSAMAX.png)\n",
    "\n",
    "- State contains continous values\n",
    "- Q Table will contains prohibitively large number of state values\n",
    "- We need to **dicretize them** in order to create Q Table\n",
    "- Initially Q Table will contain random values"
   ]
  },
  {
   "cell_type": "code",
   "execution_count": 4,
   "metadata": {},
   "outputs": [
    {
     "name": "stdout",
     "output_type": "stream",
     "text": [
      "[0.6  0.07]\n",
      "[-1.2  -0.07]\n",
      "3\n"
     ]
    }
   ],
   "source": [
    "#display observation space low and high values\n",
    "print(env.observation_space.high)#[position,velocity]\n",
    "print(env.observation_space.low)#[position, velocity]\n",
    "print(env.action_space.n)"
   ]
  },
  {
   "cell_type": "code",
   "execution_count": 5,
   "metadata": {},
   "outputs": [
    {
     "data": {
      "text/plain": [
       "[20, 20]"
      ]
     },
     "execution_count": 5,
     "metadata": {},
     "output_type": "execute_result"
    }
   ],
   "source": [
    "DISCRETE_OS_SIZE = [20] * len(env.observation_space.high)#os->observation space; 20 is the bucket size chosen by us (hyperparameter)\n",
    "DISCRETE_OS_SIZE # We will have 20 discrete combinations for position and velocity. \n",
    "#State space will be 20 * 20 = 400"
   ]
  },
  {
   "cell_type": "code",
   "execution_count": 6,
   "metadata": {},
   "outputs": [
    {
     "data": {
      "text/plain": [
       "array([0.09 , 0.007])"
      ]
     },
     "execution_count": 6,
     "metadata": {},
     "output_type": "execute_result"
    }
   ],
   "source": [
    "#For each of 20 discrete state, we will have a bucket containing some range of position values and some range of velocity value\n",
    "discrete_os_bucket_size = (env.observation_space.high-env.observation_space.low)/DISCRETE_OS_SIZE\n",
    "discrete_os_bucket_size"
   ]
  },
  {
   "cell_type": "code",
   "execution_count": 9,
   "metadata": {},
   "outputs": [
    {
     "name": "stdout",
     "output_type": "stream",
     "text": [
      "(20, 20, 3)\n"
     ]
    },
    {
     "data": {
      "text/plain": [
       "array([[[0., 0., 0.],\n",
       "        [0., 0., 0.],\n",
       "        [0., 0., 0.],\n",
       "        ...,\n",
       "        [0., 0., 0.],\n",
       "        [0., 0., 0.],\n",
       "        [0., 0., 0.]],\n",
       "\n",
       "       [[0., 0., 0.],\n",
       "        [0., 0., 0.],\n",
       "        [0., 0., 0.],\n",
       "        ...,\n",
       "        [0., 0., 0.],\n",
       "        [0., 0., 0.],\n",
       "        [0., 0., 0.]],\n",
       "\n",
       "       [[0., 0., 0.],\n",
       "        [0., 0., 0.],\n",
       "        [0., 0., 0.],\n",
       "        ...,\n",
       "        [0., 0., 0.],\n",
       "        [0., 0., 0.],\n",
       "        [0., 0., 0.]],\n",
       "\n",
       "       ...,\n",
       "\n",
       "       [[0., 0., 0.],\n",
       "        [0., 0., 0.],\n",
       "        [0., 0., 0.],\n",
       "        ...,\n",
       "        [0., 0., 0.],\n",
       "        [0., 0., 0.],\n",
       "        [0., 0., 0.]],\n",
       "\n",
       "       [[0., 0., 0.],\n",
       "        [0., 0., 0.],\n",
       "        [0., 0., 0.],\n",
       "        ...,\n",
       "        [0., 0., 0.],\n",
       "        [0., 0., 0.],\n",
       "        [0., 0., 0.]],\n",
       "\n",
       "       [[0., 0., 0.],\n",
       "        [0., 0., 0.],\n",
       "        [0., 0., 0.],\n",
       "        ...,\n",
       "        [0., 0., 0.],\n",
       "        [0., 0., 0.],\n",
       "        [0., 0., 0.]]])"
      ]
     },
     "execution_count": 9,
     "metadata": {},
     "output_type": "execute_result"
    }
   ],
   "source": [
    "#creating Q Table\n",
    "import numpy as np\n",
    "#Q Table is assigned arbitrarily\n",
    "\n",
    "#q_table = np.random.uniform(low=-2,high=0,size=(DISCRETE_OS_SIZE + [3])) #uniform is used when we want random values drawn from [low,high) range\n",
    "\n",
    "q_table = np.zeros(DISCRETE_OS_SIZE + [3])\n",
    "\n",
    "#low and high are randomly chosen\n",
    "print(q_table.shape)\n",
    "q_table #Q Table is of 3 Dimension  poition_bucket (20) * velocity_bucket (20) * action (3)"
   ]
  },
  {
   "cell_type": "markdown",
   "metadata": {},
   "source": [
    "## Now we will implement SARSAMAX algorithm to fill the Q Table"
   ]
  },
  {
   "cell_type": "code",
   "execution_count": 10,
   "metadata": {},
   "outputs": [],
   "source": [
    "LEARNING_RATE = 0.1 #hyperparameter \n",
    "DISCOUNT = 0.95 #hyperparameter; how important are future rewards  \n",
    "EPISODES = 25000 #hyperparameter\n",
    "RENDER_EVERY = 5000\n",
    "\n",
    "#a helper function to discretize continous states as returned by the environment \n",
    "def get_discrete_state(state):\n",
    "    #discrete_state -> floor((current_state- lowest_state)/bucket_size)\n",
    "    discrete_state = (state - env.observation_space.low) / discrete_os_bucket_size\n",
    "    return tuple(discrete_state.astype(np.int)) #taking the floor value"
   ]
  },
  {
   "cell_type": "code",
   "execution_count": 11,
   "metadata": {},
   "outputs": [],
   "source": [
    "# Exploration settings\n",
    "epsilon = 1  # not a constant, qoing to be decayed\n",
    "START_EPSILON_DECAYING = 1\n",
    "END_EPSILON_DECAYING = EPISODES//2\n",
    "epsilon_decay_value = epsilon/(END_EPSILON_DECAYING - START_EPSILON_DECAYING)"
   ]
  },
  {
   "cell_type": "code",
   "execution_count": 12,
   "metadata": {},
   "outputs": [
    {
     "name": "stdout",
     "output_type": "stream",
     "text": [
      "0\n",
      "5000\n",
      "10000\n"
     ]
    },
    {
     "ename": "KeyboardInterrupt",
     "evalue": "",
     "output_type": "error",
     "traceback": [
      "\u001b[0;31m-----------------------------------------------------------------\u001b[0m",
      "\u001b[0;31mKeyboardInterrupt\u001b[0m               Traceback (most recent call last)",
      "\u001b[0;32m<ipython-input-12-eae6a876912b>\u001b[0m in \u001b[0;36m<module>\u001b[0;34m\u001b[0m\n\u001b[1;32m     21\u001b[0m         \u001b[0;32mif\u001b[0m \u001b[0;32mnot\u001b[0m \u001b[0mdone\u001b[0m\u001b[0;34m:\u001b[0m\u001b[0;34m\u001b[0m\u001b[0;34m\u001b[0m\u001b[0m\n\u001b[1;32m     22\u001b[0m             \u001b[0mq_st_at\u001b[0m\u001b[0;34m=\u001b[0m\u001b[0mq_table\u001b[0m\u001b[0;34m[\u001b[0m\u001b[0mdiscrete_state\u001b[0m\u001b[0;34m+\u001b[0m\u001b[0;34m(\u001b[0m\u001b[0maction\u001b[0m\u001b[0;34m,\u001b[0m\u001b[0;34m)\u001b[0m\u001b[0;34m]\u001b[0m\u001b[0;34m\u001b[0m\u001b[0;34m\u001b[0m\u001b[0m\n\u001b[0;32m---> 23\u001b[0;31m             \u001b[0mq_st_plus_1_a\u001b[0m \u001b[0;34m=\u001b[0m \u001b[0mnp\u001b[0m\u001b[0;34m.\u001b[0m\u001b[0mmax\u001b[0m\u001b[0;34m(\u001b[0m\u001b[0mq_table\u001b[0m\u001b[0;34m[\u001b[0m\u001b[0mnew_discrete_state\u001b[0m\u001b[0;34m]\u001b[0m\u001b[0;34m)\u001b[0m\u001b[0;34m\u001b[0m\u001b[0;34m\u001b[0m\u001b[0m\n\u001b[0m\u001b[1;32m     24\u001b[0m             \u001b[0mnew_q_st_at\u001b[0m \u001b[0;34m=\u001b[0m \u001b[0mq_st_at\u001b[0m \u001b[0;34m+\u001b[0m \u001b[0mLEARNING_RATE\u001b[0m \u001b[0;34m*\u001b[0m \u001b[0;34m(\u001b[0m\u001b[0mreward\u001b[0m \u001b[0;34m+\u001b[0m \u001b[0mDISCOUNT\u001b[0m \u001b[0;34m*\u001b[0m \u001b[0mq_st_plus_1_a\u001b[0m \u001b[0;34m-\u001b[0m \u001b[0mq_st_at\u001b[0m\u001b[0;34m)\u001b[0m\u001b[0;34m\u001b[0m\u001b[0;34m\u001b[0m\u001b[0m\n\u001b[1;32m     25\u001b[0m             \u001b[0mq_table\u001b[0m\u001b[0;34m[\u001b[0m\u001b[0mdiscrete_state\u001b[0m\u001b[0;34m+\u001b[0m\u001b[0;34m(\u001b[0m\u001b[0maction\u001b[0m\u001b[0;34m,\u001b[0m\u001b[0;34m)\u001b[0m\u001b[0;34m]\u001b[0m \u001b[0;34m=\u001b[0m \u001b[0mnew_q_st_at\u001b[0m\u001b[0;34m\u001b[0m\u001b[0;34m\u001b[0m\u001b[0m\n",
      "\u001b[0;32m<__array_function__ internals>\u001b[0m in \u001b[0;36mamax\u001b[0;34m(*args, **kwargs)\u001b[0m\n",
      "\u001b[0;32m~/miniconda3/envs/style-transfer/lib/python3.7/site-packages/numpy/core/fromnumeric.py\u001b[0m in \u001b[0;36mamax\u001b[0;34m(a, axis, out, keepdims, initial, where)\u001b[0m\n\u001b[1;32m   2619\u001b[0m     \"\"\"\n\u001b[1;32m   2620\u001b[0m     return _wrapreduction(a, np.maximum, 'max', axis, None, out,\n\u001b[0;32m-> 2621\u001b[0;31m                           keepdims=keepdims, initial=initial, where=where)\n\u001b[0m\u001b[1;32m   2622\u001b[0m \u001b[0;34m\u001b[0m\u001b[0m\n\u001b[1;32m   2623\u001b[0m \u001b[0;34m\u001b[0m\u001b[0m\n",
      "\u001b[0;32m~/miniconda3/envs/style-transfer/lib/python3.7/site-packages/numpy/core/fromnumeric.py\u001b[0m in \u001b[0;36m_wrapreduction\u001b[0;34m(obj, ufunc, method, axis, dtype, out, **kwargs)\u001b[0m\n\u001b[1;32m     88\u001b[0m                 \u001b[0;32mreturn\u001b[0m \u001b[0mreduction\u001b[0m\u001b[0;34m(\u001b[0m\u001b[0maxis\u001b[0m\u001b[0;34m=\u001b[0m\u001b[0maxis\u001b[0m\u001b[0;34m,\u001b[0m \u001b[0mout\u001b[0m\u001b[0;34m=\u001b[0m\u001b[0mout\u001b[0m\u001b[0;34m,\u001b[0m \u001b[0;34m**\u001b[0m\u001b[0mpasskwargs\u001b[0m\u001b[0;34m)\u001b[0m\u001b[0;34m\u001b[0m\u001b[0;34m\u001b[0m\u001b[0m\n\u001b[1;32m     89\u001b[0m \u001b[0;34m\u001b[0m\u001b[0m\n\u001b[0;32m---> 90\u001b[0;31m     \u001b[0;32mreturn\u001b[0m \u001b[0mufunc\u001b[0m\u001b[0;34m.\u001b[0m\u001b[0mreduce\u001b[0m\u001b[0;34m(\u001b[0m\u001b[0mobj\u001b[0m\u001b[0;34m,\u001b[0m \u001b[0maxis\u001b[0m\u001b[0;34m,\u001b[0m \u001b[0mdtype\u001b[0m\u001b[0;34m,\u001b[0m \u001b[0mout\u001b[0m\u001b[0;34m,\u001b[0m \u001b[0;34m**\u001b[0m\u001b[0mpasskwargs\u001b[0m\u001b[0;34m)\u001b[0m\u001b[0;34m\u001b[0m\u001b[0;34m\u001b[0m\u001b[0m\n\u001b[0m\u001b[1;32m     91\u001b[0m \u001b[0;34m\u001b[0m\u001b[0m\n\u001b[1;32m     92\u001b[0m \u001b[0;34m\u001b[0m\u001b[0m\n",
      "\u001b[0;31mKeyboardInterrupt\u001b[0m: "
     ]
    }
   ],
   "source": [
    "for episode in range(EPISODES):\n",
    "    done = False\n",
    "    discrete_state = get_discrete_state(env.reset()) #we always start with initial discrete state\n",
    "    if episode % RENDER_EVERY == 0:\n",
    "        render=True\n",
    "        print(episode)\n",
    "    else:\n",
    "        render=False\n",
    "        \n",
    "    while not done:\n",
    "        if np.random.random() > epsilon:\n",
    "            # Get action from Q table\n",
    "            action = np.argmax(q_table[discrete_state])\n",
    "        else:\n",
    "            # Get random action\n",
    "            action = np.random.randint(0, env.action_space.n)\n",
    "        state, reward, done, _ = env.step(action)# state is a tuple of (position, velocity)\n",
    "        if render:\n",
    "            env.render()\n",
    "        new_discrete_state = get_discrete_state(state)\n",
    "        if not done:\n",
    "            q_st_at=q_table[discrete_state+(action,)]\n",
    "            q_st_plus_1_a = np.max(q_table[new_discrete_state])\n",
    "            new_q_st_at = q_st_at + LEARNING_RATE * (reward + DISCOUNT * q_st_plus_1_a - q_st_at)\n",
    "            q_table[discrete_state+(action,)] = new_q_st_at\n",
    "        elif state[0] >= env.goal_position: #if the episode terminates because we have achieved our goal\n",
    "            new_q_st_at = q_st_at + LEARNING_RATE * (0 + DISCOUNT * q_st_plus_1_a - q_st_at)\n",
    "        discrete_state = new_discrete_state\n",
    "     # Decaying is being done every episode if episode number is within decaying range\n",
    "    if END_EPSILON_DECAYING >= episode >= START_EPSILON_DECAYING:\n",
    "        epsilon -= epsilon_decay_value\n",
    "env.close()"
   ]
  },
  {
   "cell_type": "code",
   "execution_count": null,
   "metadata": {},
   "outputs": [],
   "source": [
    "discrete_state+(action,)"
   ]
  },
  {
   "cell_type": "code",
   "execution_count": null,
   "metadata": {},
   "outputs": [],
   "source": []
  }
 ],
 "metadata": {
  "colab": {
   "collapsed_sections": [],
   "name": "Day 1 RL Q Learning.ipynb",
   "provenance": []
  },
  "kernelspec": {
   "display_name": "Python 3",
   "language": "python",
   "name": "python3"
  },
  "language_info": {
   "codemirror_mode": {
    "name": "ipython",
    "version": 3
   },
   "file_extension": ".py",
   "mimetype": "text/x-python",
   "name": "python",
   "nbconvert_exporter": "python",
   "pygments_lexer": "ipython3",
   "version": "3.7.4"
  }
 },
 "nbformat": 4,
 "nbformat_minor": 1
}
