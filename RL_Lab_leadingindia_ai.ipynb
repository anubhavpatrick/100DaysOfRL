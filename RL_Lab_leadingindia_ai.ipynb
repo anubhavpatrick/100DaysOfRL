{
  "nbformat": 4,
  "nbformat_minor": 0,
  "metadata": {
    "kernelspec": {
      "name": "python3",
      "display_name": "Python 3"
    },
    "language_info": {
      "codemirror_mode": {
        "name": "ipython",
        "version": 3
      },
      "file_extension": ".py",
      "mimetype": "text/x-python",
      "name": "python",
      "nbconvert_exporter": "python",
      "pygments_lexer": "ipython3",
      "version": "3.7.4"
    },
    "colab": {
      "name": "RL Lab leadingindia_ai.ipynb",
      "provenance": [],
      "collapsed_sections": []
    },
    "accelerator": "GPU"
  },
  "cells": [
    {
      "cell_type": "markdown",
      "metadata": {
        "id": "syqk6CANKegy",
        "colab_type": "text"
      },
      "source": [
        "## Setting Up Colab To Display RL Environment\n",
        "\n",
        "\n",
        "*   Google Colab does not support rendering of Open AI Gym RL Environments\n",
        "*   As a work around we will save agent interaction with the environment as video and display that video\n",
        "*   Few cells given below are dedicated to this purpose only\n",
        "\n"
      ]
    },
    {
      "cell_type": "code",
      "metadata": {
        "id": "ZyQswsq44Vpd",
        "colab_type": "code",
        "outputId": "7f037de4-fcb0-4de4-87af-5ed2569c74dc",
        "colab": {
          "base_uri": "https://localhost:8080/",
          "height": 281
        }
      },
      "source": [
        "!pip install gym pyvirtualdisplay > /dev/null 2>&1\n",
        "!apt-get install -y xvfb python-opengl ffmpeg > /dev/null 2>&1\n",
        "!apt-get update > /dev/null 2>&1\n",
        "!apt-get install cmake > /dev/null 2>&1\n",
        "!pip install --upgrade setuptools 2>&1\n",
        "!pip install ez_setup > /dev/null 2>&1\n",
        "!pip install gym[atari] > /dev/null 2>&1"
      ],
      "execution_count": 1,
      "outputs": [
        {
          "output_type": "stream",
          "text": [
            "Collecting setuptools\n",
            "\u001b[?25l  Downloading https://files.pythonhosted.org/packages/d9/de/554b6310ac87c5b921bc45634b07b11394fe63bc4cb5176f5240addf18ab/setuptools-41.6.0-py2.py3-none-any.whl (582kB)\n",
            "\r\u001b[K     |▋                               | 10kB 19.8MB/s eta 0:00:01\r\u001b[K     |█▏                              | 20kB 1.7MB/s eta 0:00:01\r\u001b[K     |█▊                              | 30kB 2.6MB/s eta 0:00:01\r\u001b[K     |██▎                             | 40kB 1.7MB/s eta 0:00:01\r\u001b[K     |██▉                             | 51kB 2.1MB/s eta 0:00:01\r\u001b[K     |███▍                            | 61kB 2.5MB/s eta 0:00:01\r\u001b[K     |████                            | 71kB 2.9MB/s eta 0:00:01\r\u001b[K     |████▌                           | 81kB 3.3MB/s eta 0:00:01\r\u001b[K     |█████                           | 92kB 3.7MB/s eta 0:00:01\r\u001b[K     |█████▋                          | 102kB 2.8MB/s eta 0:00:01\r\u001b[K     |██████▏                         | 112kB 2.8MB/s eta 0:00:01\r\u001b[K     |██████▊                         | 122kB 2.8MB/s eta 0:00:01\r\u001b[K     |███████▎                        | 133kB 2.8MB/s eta 0:00:01\r\u001b[K     |███████▉                        | 143kB 2.8MB/s eta 0:00:01\r\u001b[K     |████████▍                       | 153kB 2.8MB/s eta 0:00:01\r\u001b[K     |█████████                       | 163kB 2.8MB/s eta 0:00:01\r\u001b[K     |█████████▋                      | 174kB 2.8MB/s eta 0:00:01\r\u001b[K     |██████████▏                     | 184kB 2.8MB/s eta 0:00:01\r\u001b[K     |██████████▊                     | 194kB 2.8MB/s eta 0:00:01\r\u001b[K     |███████████▎                    | 204kB 2.8MB/s eta 0:00:01\r\u001b[K     |███████████▉                    | 215kB 2.8MB/s eta 0:00:01\r\u001b[K     |████████████▍                   | 225kB 2.8MB/s eta 0:00:01\r\u001b[K     |█████████████                   | 235kB 2.8MB/s eta 0:00:01\r\u001b[K     |█████████████▌                  | 245kB 2.8MB/s eta 0:00:01\r\u001b[K     |██████████████                  | 256kB 2.8MB/s eta 0:00:01\r\u001b[K     |██████████████▋                 | 266kB 2.8MB/s eta 0:00:01\r\u001b[K     |███████████████▏                | 276kB 2.8MB/s eta 0:00:01\r\u001b[K     |███████████████▊                | 286kB 2.8MB/s eta 0:00:01\r\u001b[K     |████████████████▎               | 296kB 2.8MB/s eta 0:00:01\r\u001b[K     |████████████████▉               | 307kB 2.8MB/s eta 0:00:01\r\u001b[K     |█████████████████▍              | 317kB 2.8MB/s eta 0:00:01\r\u001b[K     |██████████████████              | 327kB 2.8MB/s eta 0:00:01\r\u001b[K     |██████████████████▌             | 337kB 2.8MB/s eta 0:00:01\r\u001b[K     |███████████████████▏            | 348kB 2.8MB/s eta 0:00:01\r\u001b[K     |███████████████████▊            | 358kB 2.8MB/s eta 0:00:01\r\u001b[K     |████████████████████▎           | 368kB 2.8MB/s eta 0:00:01\r\u001b[K     |████████████████████▉           | 378kB 2.8MB/s eta 0:00:01\r\u001b[K     |█████████████████████▍          | 389kB 2.8MB/s eta 0:00:01\r\u001b[K     |██████████████████████          | 399kB 2.8MB/s eta 0:00:01\r\u001b[K     |██████████████████████▌         | 409kB 2.8MB/s eta 0:00:01\r\u001b[K     |███████████████████████         | 419kB 2.8MB/s eta 0:00:01\r\u001b[K     |███████████████████████▋        | 430kB 2.8MB/s eta 0:00:01\r\u001b[K     |████████████████████████▏       | 440kB 2.8MB/s eta 0:00:01\r\u001b[K     |████████████████████████▊       | 450kB 2.8MB/s eta 0:00:01\r\u001b[K     |█████████████████████████▎      | 460kB 2.8MB/s eta 0:00:01\r\u001b[K     |█████████████████████████▉      | 471kB 2.8MB/s eta 0:00:01\r\u001b[K     |██████████████████████████▍     | 481kB 2.8MB/s eta 0:00:01\r\u001b[K     |███████████████████████████     | 491kB 2.8MB/s eta 0:00:01\r\u001b[K     |███████████████████████████▌    | 501kB 2.8MB/s eta 0:00:01\r\u001b[K     |████████████████████████████    | 512kB 2.8MB/s eta 0:00:01\r\u001b[K     |████████████████████████████▊   | 522kB 2.8MB/s eta 0:00:01\r\u001b[K     |█████████████████████████████▎  | 532kB 2.8MB/s eta 0:00:01\r\u001b[K     |█████████████████████████████▉  | 542kB 2.8MB/s eta 0:00:01\r\u001b[K     |██████████████████████████████▍ | 552kB 2.8MB/s eta 0:00:01\r\u001b[K     |███████████████████████████████ | 563kB 2.8MB/s eta 0:00:01\r\u001b[K     |███████████████████████████████▌| 573kB 2.8MB/s eta 0:00:01\r\u001b[K     |████████████████████████████████| 583kB 2.8MB/s \n",
            "\u001b[31mERROR: datascience 0.10.6 has requirement folium==0.2.1, but you'll have folium 0.8.3 which is incompatible.\u001b[0m\n",
            "\u001b[?25hInstalling collected packages: setuptools\n",
            "  Found existing installation: setuptools 41.4.0\n",
            "    Uninstalling setuptools-41.4.0:\n",
            "      Successfully uninstalled setuptools-41.4.0\n",
            "Successfully installed setuptools-41.6.0\n"
          ],
          "name": "stdout"
        },
        {
          "output_type": "display_data",
          "data": {
            "application/vnd.colab-display-data+json": {
              "pip_warning": {
                "packages": [
                  "pkg_resources"
                ]
              }
            }
          },
          "metadata": {
            "tags": []
          }
        }
      ]
    },
    {
      "cell_type": "code",
      "metadata": {
        "id": "GnszH80B4hRU",
        "colab_type": "code",
        "outputId": "c0fcd660-aae2-4086-c3e1-83ce0a6e07e8",
        "colab": {
          "base_uri": "https://localhost:8080/",
          "height": 81
        }
      },
      "source": [
        "import gym\n",
        "from gym import logger as gymlogger\n",
        "from gym.wrappers import Monitor\n",
        "gymlogger.set_level(40) #error only\n",
        "import tensorflow as tf\n",
        "import numpy as np\n",
        "import random\n",
        "import matplotlib\n",
        "import matplotlib.pyplot as plt\n",
        "%matplotlib inline\n",
        "import math\n",
        "import glob\n",
        "import io\n",
        "import base64\n",
        "from IPython.display import HTML\n",
        "from base64 import b64encode\n",
        "\n",
        "from IPython import display as ipythondisplay"
      ],
      "execution_count": 2,
      "outputs": [
        {
          "output_type": "display_data",
          "data": {
            "text/html": [
              "<p style=\"color: red;\">\n",
              "The default version of TensorFlow in Colab will soon switch to TensorFlow 2.x.<br>\n",
              "We recommend you <a href=\"https://www.tensorflow.org/guide/migrate\" target=\"_blank\">upgrade</a> now \n",
              "or ensure your notebook will continue to use TensorFlow 1.x via the <code>%tensorflow_version 1.x</code> magic:\n",
              "<a href=\"https://colab.research.google.com/notebooks/tensorflow_version.ipynb\" target=\"_blank\">more info</a>.</p>\n"
            ],
            "text/plain": [
              "<IPython.core.display.HTML object>"
            ]
          },
          "metadata": {
            "tags": []
          }
        }
      ]
    },
    {
      "cell_type": "code",
      "metadata": {
        "id": "rcXFssBA4lO1",
        "colab_type": "code",
        "outputId": "0caeec87-6721-4158-a66c-67f0bae81972",
        "colab": {
          "base_uri": "https://localhost:8080/",
          "height": 72
        }
      },
      "source": [
        "from pyvirtualdisplay import Display\n",
        "display = Display(visible=0, size=(700, 450))\n",
        "display.start()"
      ],
      "execution_count": 3,
      "outputs": [
        {
          "output_type": "stream",
          "text": [
            "xdpyinfo was not found, X start can not be checked! Please install xdpyinfo!\n"
          ],
          "name": "stderr"
        },
        {
          "output_type": "execute_result",
          "data": {
            "text/plain": [
              "<Display cmd_param=['Xvfb', '-br', '-nolisten', 'tcp', '-screen', '0', '700x450x24', ':1001'] cmd=['Xvfb', '-br', '-nolisten', 'tcp', '-screen', '0', '700x450x24', ':1001'] oserror=None return_code=None stdout=\"None\" stderr=\"None\" timeout_happened=False>"
            ]
          },
          "metadata": {
            "tags": []
          },
          "execution_count": 3
        }
      ]
    },
    {
      "cell_type": "code",
      "metadata": {
        "id": "GffHUt3l4l90",
        "colab_type": "code",
        "colab": {}
      },
      "source": [
        "\"\"\"\n",
        "Utility functions to enable video recording of gym environment and displaying it\n",
        "To enable video, just do \"env = wrap_env(env)\"\"\n",
        "\"\"\"\n",
        "\n",
        "def show_video():\n",
        "  mp4list = glob.glob('video/*.mp4')\n",
        "  if len(mp4list) > 0:\n",
        "    mp4 = mp4list[0]\n",
        "    video = io.open(mp4, 'r+b').read()\n",
        "    encoded = base64.b64encode(video)\n",
        "    ipythondisplay.display(HTML(data='''<video alt=\"test\" autoplay \n",
        "                loop controls style=\"height: 200px;\">\n",
        "                <source src=\"data:video/mp4;base64,{0}\" type=\"video/mp4\" />\n",
        "             </video>'''.format(encoded.decode('ascii'))))\n",
        "  else: \n",
        "    print(\"Could not find video\")\n",
        "    \n",
        "\n",
        "def wrap_env(env):\n",
        "  env = Monitor(env, './video', force=True)\n",
        "  return env"
      ],
      "execution_count": 0,
      "outputs": []
    },
    {
      "cell_type": "markdown",
      "metadata": {
        "id": "gHEGpHIEzTBW",
        "colab_type": "text"
      },
      "source": [
        "# Q Learning on Mountain Car Environment"
      ]
    },
    {
      "cell_type": "code",
      "metadata": {
        "id": "YjT1-_tLzTBY",
        "colab_type": "code",
        "colab": {
          "base_uri": "https://localhost:8080/",
          "height": 159
        },
        "outputId": "e392975b-efce-48f4-9687-89bf450b04bc"
      },
      "source": [
        "!pip install gym #already installed"
      ],
      "execution_count": 5,
      "outputs": [
        {
          "output_type": "stream",
          "text": [
            "Requirement already satisfied: gym in /usr/local/lib/python3.6/dist-packages (0.15.3)\n",
            "Requirement already satisfied: pyglet<=1.3.2,>=1.2.0 in /usr/local/lib/python3.6/dist-packages (from gym) (1.3.2)\n",
            "Requirement already satisfied: numpy>=1.10.4 in /usr/local/lib/python3.6/dist-packages (from gym) (1.17.3)\n",
            "Requirement already satisfied: scipy in /usr/local/lib/python3.6/dist-packages (from gym) (1.3.1)\n",
            "Requirement already satisfied: cloudpickle~=1.2.0 in /usr/local/lib/python3.6/dist-packages (from gym) (1.2.2)\n",
            "Requirement already satisfied: six in /usr/local/lib/python3.6/dist-packages (from gym) (1.12.0)\n",
            "Requirement already satisfied: future in /usr/local/lib/python3.6/dist-packages (from pyglet<=1.3.2,>=1.2.0->gym) (0.16.0)\n"
          ],
          "name": "stdout"
        }
      ]
    },
    {
      "cell_type": "code",
      "metadata": {
        "id": "LcABxRTczTBm",
        "colab_type": "code",
        "colab": {
          "base_uri": "https://localhost:8080/",
          "height": 35
        },
        "outputId": "5596adad-c658-425f-9ba6-01fa37e56250"
      },
      "source": [
        "import gym\n",
        "env = wrap_env(gym.make('MountainCar-v0')) #for discription https://github.com/openai/gym/wiki/MountainCar-v0\n",
        "env.reset()"
      ],
      "execution_count": 6,
      "outputs": [
        {
          "output_type": "execute_result",
          "data": {
            "text/plain": [
              "array([-0.50459273,  0.        ])"
            ]
          },
          "metadata": {
            "tags": []
          },
          "execution_count": 6
        }
      ]
    },
    {
      "cell_type": "code",
      "metadata": {
        "id": "_G9BV1OFzTBr",
        "colab_type": "code",
        "colab": {
          "base_uri": "https://localhost:8080/",
          "height": 1000
        },
        "outputId": "7e25542c-0a78-447b-8a21-ff0ab88e346a"
      },
      "source": [
        "import random\n",
        "done = False\n",
        "\n",
        "while not done:\n",
        "    action = (int(random.random()*10))%3 #action 0->push car left; action 1->do nothing; action 2-> push car right\n",
        "    state, reward, done, _ = env.step(action)# state is a tuple of (position, velocity)\n",
        "    print(state)\n",
        "\n",
        "env.close()\n"
      ],
      "execution_count": 7,
      "outputs": [
        {
          "output_type": "stream",
          "text": [
            "[-5.04735202e-01 -1.42468084e-04]\n",
            "[-0.50401907  0.00071613]\n",
            "[-5.04449705e-01 -4.30632729e-04]\n",
            "[-5.04023876e-01  4.25828220e-04]\n",
            "[-0.50474478 -0.0007209 ]\n",
            "[-0.506607   -0.00186223]\n",
            "[-0.50959662 -0.00298961]\n",
            "[-0.51169121 -0.0020946 ]\n",
            "[-0.5148751  -0.00318388]\n",
            "[-0.5181244  -0.00324931]\n",
            "[-0.52241476 -0.00429036]\n",
            "[-0.52571401 -0.00329924]\n",
            "[-0.52799738 -0.00228338]\n",
            "[-0.52924777 -0.00125039]\n",
            "[-0.53145579 -0.00220802]\n",
            "[-0.53460489 -0.0031491 ]\n",
            "[-0.53867146 -0.00406657]\n",
            "[-0.54362503 -0.00495356]\n",
            "[-0.54742848 -0.00380346]\n",
            "[-0.55205337 -0.00462489]\n",
            "[-0.55546511 -0.00341174]\n",
            "[-0.55963821 -0.0041731 ]\n",
            "[-0.56354154 -0.00390333]\n",
            "[-0.56814602 -0.00460448]\n",
            "[-0.57141739 -0.00327137]\n",
            "[-0.57533134 -0.00391396]\n",
            "[-0.57785886 -0.00252752]\n",
            "[-0.57998122 -0.00212236]\n",
            "[-0.58168273 -0.00170151]\n",
            "[-0.58395081 -0.00226808]\n",
            "[-0.58676872 -0.00281791]\n",
            "[-0.59011568 -0.00334696]\n",
            "[-0.59296707 -0.00285139]\n",
            "[-0.59430195 -0.00133488]\n",
            "[-5.94110520e-01  1.91430044e-04]\n",
            "[-0.59339419  0.00071633]\n",
            "[-0.59215821  0.00123598]\n",
            "[-0.59141165  0.00074656]\n",
            "[-5.91159990e-01  2.51655438e-04]\n",
            "[-5.91405088e-01 -2.45097656e-04]\n",
            "[-0.59014514  0.00125995]\n",
            "[-0.5893894   0.00075574]\n",
            "[-5.89143429e-01  2.45970984e-04]\n",
            "[-5.89409034e-01 -2.65605849e-04]\n",
            "[-0.59018426 -0.00077523]\n",
            "[-0.59146342 -0.00127915]\n",
            "[-0.59223709 -0.00077368]\n",
            "[-0.59349961 -0.00126252]\n",
            "[-5.93241710e-01  2.57902748e-04]\n",
            "[-0.59246528  0.00077643]\n",
            "[-5.92176011e-01  2.89265313e-04]\n",
            "[-5.92376037e-01 -2.00025958e-04]\n",
            "[-5.92063886e-01  3.12151237e-04]\n",
            "[-0.59124185  0.00082204]\n",
            "[-5.90915964e-01  3.25884997e-04]\n",
            "[-5.91088625e-01 -1.72660963e-04]\n",
            "[-0.59175856 -0.00066994]\n",
            "[-0.59092086  0.00083771]\n",
            "[-5.90581663e-01  3.39195146e-04]\n",
            "[-5.90743471e-01 -1.61807367e-04]\n",
            "[-0.58940509  0.00133838]\n",
            "[-0.58657636  0.00282873]\n",
            "[-0.58427811  0.00229825]\n",
            "[-0.58252727  0.00175084]\n",
            "[-0.57933677  0.0031905 ]\n",
            "[-0.57673017  0.00260659]\n",
            "[-0.57272678  0.00400339]\n",
            "[-0.56735626  0.00537052]\n",
            "[-0.56165849  0.00569776]\n",
            "[-0.55667591  0.00498259]\n",
            "[-0.55244564  0.00423026]\n",
            "[-0.5489993   0.00344634]\n",
            "[-0.54536264  0.00363666]\n",
            "[-0.54056286  0.00479978]\n",
            "[-0.53563591  0.00492695]\n",
            "[-0.5296187   0.00601721]\n",
            "[-0.52255635  0.00706236]\n",
            "[-0.51550181  0.00705454]\n",
            "[-0.50850799  0.00699382]\n",
            "[-0.50262732  0.00588068]\n",
            "[-0.49590382  0.00672349]\n",
            "[-0.4883878   0.00751602]\n",
            "[-0.48113537  0.00725243]\n",
            "[-0.47520056  0.00593481]\n",
            "[-0.47062746  0.0045731 ]\n",
            "[-0.46544997  0.00517749]\n",
            "[-0.4607064   0.00474358]\n",
            "[-0.45643172  0.00427468]\n",
            "[-0.45365739  0.00277433]\n",
            "[-0.45240378  0.00125361]\n",
            "[-0.45168008  0.0007237 ]\n",
            "[-0.4524916  -0.00081152]\n",
            "[-4.52832387e-01 -3.40786608e-04]\n",
            "[-0.45469994 -0.00186756]\n",
            "[-0.45608057 -0.00138063]\n",
            "[-0.45796413 -0.00188356]\n",
            "[-0.45933677 -0.00137264]\n",
            "[-0.4611884  -0.00185163]\n",
            "[-0.46450537 -0.00331698]\n",
            "[-0.46826323 -0.00375786]\n",
            "[-0.4734342  -0.00517097]\n",
            "[-0.47997999 -0.00654579]\n",
            "[-0.48785198 -0.00787199]\n",
            "[-0.49599156 -0.00813958]\n",
            "[-0.50433796 -0.0083464 ]\n",
            "[-0.51382874 -0.00949078]\n",
            "[-0.52239278 -0.00856404]\n",
            "[-0.52996586 -0.00757308]\n",
            "[-0.5374912  -0.00752533]\n",
            "[-0.54491237 -0.00742117]\n",
            "[-0.5521738  -0.00726143]\n",
            "[-0.55822118 -0.00604738]\n",
            "[-0.56400935 -0.00578818]\n",
            "[-0.56849519 -0.00448584]\n",
            "[-0.57364533 -0.00515013]\n",
            "[-0.57742152 -0.00377619]\n",
            "[-0.58079579 -0.00337427]\n",
            "[-0.58474319 -0.0039474 ]\n",
            "[-0.58823458 -0.00349138]\n",
            "[-0.59224422 -0.00400965]\n",
            "[-0.59474266 -0.00249844]\n",
            "[-0.59771156 -0.0029689 ]\n",
            "[-0.60112918 -0.00341762]\n",
            "[-0.60297055 -0.00184137]\n",
            "[-0.60522225 -0.00225169]\n",
            "[-0.60786787 -0.00264562]\n",
            "[-0.61088818 -0.00302031]\n",
            "[-0.61426127 -0.0033731 ]\n",
            "[-0.61796275 -0.00370148]\n",
            "[-0.62096592 -0.00300317]\n",
            "[-0.62424917 -0.00328325]\n",
            "[-0.62778896 -0.00353979]\n",
            "[-0.63155999 -0.00377103]\n",
            "[-0.63553539 -0.0039754 ]\n",
            "[-0.63968696 -0.00415157]\n",
            "[-0.64298536 -0.0032984 ]\n",
            "[-0.64640738 -0.00342202]\n",
            "[-0.64992904 -0.00352165]\n",
            "[-0.65352573 -0.0035967 ]\n",
            "[-0.65517246 -0.00164673]\n",
            "[-0.65585782 -0.00068535]\n",
            "[-0.65457705  0.00128077]\n",
            "[-0.65333903  0.00123802]\n",
            "[-0.65215235  0.00118669]\n",
            "[-0.64902523  0.00312712]\n",
            "[-0.64597946  0.00304577]\n",
            "[-0.64203631  0.00394315]\n",
            "[-0.63622346  0.00581285]\n",
            "[-0.6305819   0.00564156]\n",
            "[-0.62315167  0.00743023]\n",
            "[-0.61498584  0.00816583]\n",
            "[-0.60514317  0.00984267]\n",
            "[-0.59369499  0.01144818]\n",
            "[-0.58172496  0.01197003]\n",
            "[-0.56932119  0.01240377]\n",
            "[-0.55757558  0.01174561]\n",
            "[-0.54657558  0.011     ]\n",
            "[-0.53540339  0.01117219]\n",
            "[-0.52314268  0.01226071]\n",
            "[-0.5098854   0.01325728]\n",
            "[-0.49573093  0.01415446]\n",
            "[-0.48078524  0.0149457 ]\n",
            "[-0.46715976  0.01362548]\n",
            "[-0.45295555  0.01420421]\n",
            "[-0.43827721  0.01467834]\n",
            "[-0.42323182  0.01504539]\n",
            "[-0.40892786  0.01430396]\n",
            "[-0.39446706  0.01446079]\n",
            "[-0.37995071  0.01451635]\n",
            "[-0.36547869  0.01447203]\n",
            "[-0.35314858  0.0123301 ]\n",
            "[-0.34304187  0.01010671]\n",
            "[-0.33322408  0.00981779]\n",
            "[-0.32475773  0.00846635]\n",
            "[-0.3186958   0.00606193]\n",
            "[-0.31307568  0.00562012]\n",
            "[-0.30793158  0.00514409]\n",
            "[-0.30429448  0.0036371 ]\n",
            "[-0.30318605  0.00110843]\n",
            "[-0.30461285 -0.0014268 ]\n",
            "[-0.30656643 -0.00195358]\n",
            "[-0.30903516 -0.00246873]\n",
            "[-0.31400426 -0.00496911]\n",
            "[-0.32044377 -0.00643951]\n",
            "[-0.32931435 -0.00887058]\n",
            "[-0.33956096 -0.0102466 ]\n",
            "[-0.35111878 -0.01155782]\n",
            "[-0.36491324 -0.01379446]\n",
            "[-0.3808534  -0.01594016]\n",
            "[-0.39883173 -0.01797833]\n",
            "[-0.41772411 -0.01889238]\n",
            "[-0.43739727 -0.01967316]\n",
            "[-0.45770976 -0.02031249]\n",
            "[-0.4795132  -0.02180344]\n",
            "[-0.50264632 -0.02313312]\n",
            "[-0.52693648 -0.02429016]\n",
            "[-0.55220161 -0.02526513]\n",
            "[-0.57625248 -0.02405087]\n",
            "[-0.59891009 -0.02265761]\n",
            "[-0.62200766 -0.02309757]\n"
          ],
          "name": "stdout"
        },
        {
          "output_type": "display_data",
          "data": {
            "text/html": [
              "<video alt=\"test\" autoplay \n",
              "                loop controls style=\"height: 200px;\">\n",
              "                <source src=\"data:video/mp4;base64,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\" type=\"video/mp4\" />\n",
              "             </video>"
            ],
            "text/plain": [
              "<IPython.core.display.HTML object>"
            ]
          },
          "metadata": {
            "tags": []
          }
        }
      ]
    },
    {
      "cell_type": "code",
      "metadata": {
        "id": "1idBO8naUWSR",
        "colab_type": "code",
        "colab": {}
      },
      "source": [
        "show_video()#Displays the status of agent in last episode  \n",
        "#the car needs to build momentum"
      ],
      "execution_count": 0,
      "outputs": []
    },
    {
      "cell_type": "code",
      "metadata": {
        "id": "sUfCNdvC8K8i",
        "colab_type": "code",
        "colab": {
          "base_uri": "https://localhost:8080/",
          "height": 35
        },
        "outputId": "9a36cf36-700c-408a-a6fd-99c86e54b6db"
      },
      "source": [
        "#remove video to free memory\n",
        "!rm video/*\n",
        "env = wrap_env(gym.make('MountainCar-v0')) #for discription https://github.com/openai/gym/wiki/MountainCar-v0\n",
        "env.reset()"
      ],
      "execution_count": 8,
      "outputs": [
        {
          "output_type": "execute_result",
          "data": {
            "text/plain": [
              "array([-0.44802843,  0.        ])"
            ]
          },
          "metadata": {
            "tags": []
          },
          "execution_count": 8
        }
      ]
    },
    {
      "cell_type": "markdown",
      "metadata": {
        "id": "P7qplNZKzTBy",
        "colab_type": "text"
      },
      "source": [
        "## Implementing Q Table\n",
        "\n",
        "We will be implementing SARSAMAX\n",
        "\n",
        "![](SARSAMAX.png)\n",
        "\n",
        "- State contains continous values\n",
        "- Q Table will contains prohibitively large number of state values\n",
        "- We need to **dicretize them** in order to create Q Table\n",
        "- Initially Q Table will contain random values"
      ]
    },
    {
      "cell_type": "code",
      "metadata": {
        "id": "wNEKklOXzTB0",
        "colab_type": "code",
        "colab": {
          "base_uri": "https://localhost:8080/",
          "height": 69
        },
        "outputId": "3c0c0a68-67a6-4699-bb4f-43085def8058"
      },
      "source": [
        "#display observation space low and high values\n",
        "print(env.observation_space.high)#[position,velocity]\n",
        "print(env.observation_space.low)#[position, velocity]\n",
        "print(env.action_space.n)"
      ],
      "execution_count": 9,
      "outputs": [
        {
          "output_type": "stream",
          "text": [
            "[0.6  0.07]\n",
            "[-1.2  -0.07]\n",
            "3\n"
          ],
          "name": "stdout"
        }
      ]
    },
    {
      "cell_type": "code",
      "metadata": {
        "id": "GTPoJvwXzTB4",
        "colab_type": "code",
        "colab": {
          "base_uri": "https://localhost:8080/",
          "height": 35
        },
        "outputId": "2cfb7bcf-b42d-40ce-fa8f-ea3c60a4b0a5"
      },
      "source": [
        "DISCRETE_OS_SIZE = [20] * len(env.observation_space.high)#os->observation space; 20 is the bucket size chosen by us (hyperparameter)\n",
        "DISCRETE_OS_SIZE # We will have 20 discrete combinations for position and velocity. \n",
        "#State space will be 20 * 20 = 400"
      ],
      "execution_count": 10,
      "outputs": [
        {
          "output_type": "execute_result",
          "data": {
            "text/plain": [
              "[20, 20]"
            ]
          },
          "metadata": {
            "tags": []
          },
          "execution_count": 10
        }
      ]
    },
    {
      "cell_type": "code",
      "metadata": {
        "id": "CX_m8HbzzTB7",
        "colab_type": "code",
        "colab": {
          "base_uri": "https://localhost:8080/",
          "height": 35
        },
        "outputId": "32862a52-eda6-4b79-ab2b-7d6be2d602c2"
      },
      "source": [
        "#For each of 20 discrete state, we will have a bucket containing some range of position values and some range of velocity value\n",
        "discrete_os_bucket_size = (env.observation_space.high-env.observation_space.low)/DISCRETE_OS_SIZE\n",
        "discrete_os_bucket_size"
      ],
      "execution_count": 11,
      "outputs": [
        {
          "output_type": "execute_result",
          "data": {
            "text/plain": [
              "array([0.09 , 0.007])"
            ]
          },
          "metadata": {
            "tags": []
          },
          "execution_count": 11
        }
      ]
    },
    {
      "cell_type": "code",
      "metadata": {
        "id": "qzjBC2rMzTCE",
        "colab_type": "code",
        "colab": {
          "base_uri": "https://localhost:8080/",
          "height": 884
        },
        "outputId": "fbb11d48-9cc3-4637-ae8f-813973c37585"
      },
      "source": [
        "#creating Q Table\n",
        "import numpy as np\n",
        "#Q Table is assigned arbitrarily\n",
        "\n",
        "#q_table = np.random.uniform(low=-2,high=0,size=(DISCRETE_OS_SIZE + [3])) #uniform is used when we want random values drawn from [low,high) range\n",
        "\n",
        "q_table = np.zeros(DISCRETE_OS_SIZE + [3])\n",
        "\n",
        "#low and high are randomly chosen\n",
        "print(q_table.shape)\n",
        "q_table #Q Table is of 3 Dimension  poition_bucket (20) * velocity_bucket (20) * action (3)"
      ],
      "execution_count": 12,
      "outputs": [
        {
          "output_type": "stream",
          "text": [
            "(20, 20, 3)\n"
          ],
          "name": "stdout"
        },
        {
          "output_type": "execute_result",
          "data": {
            "text/plain": [
              "array([[[0., 0., 0.],\n",
              "        [0., 0., 0.],\n",
              "        [0., 0., 0.],\n",
              "        ...,\n",
              "        [0., 0., 0.],\n",
              "        [0., 0., 0.],\n",
              "        [0., 0., 0.]],\n",
              "\n",
              "       [[0., 0., 0.],\n",
              "        [0., 0., 0.],\n",
              "        [0., 0., 0.],\n",
              "        ...,\n",
              "        [0., 0., 0.],\n",
              "        [0., 0., 0.],\n",
              "        [0., 0., 0.]],\n",
              "\n",
              "       [[0., 0., 0.],\n",
              "        [0., 0., 0.],\n",
              "        [0., 0., 0.],\n",
              "        ...,\n",
              "        [0., 0., 0.],\n",
              "        [0., 0., 0.],\n",
              "        [0., 0., 0.]],\n",
              "\n",
              "       ...,\n",
              "\n",
              "       [[0., 0., 0.],\n",
              "        [0., 0., 0.],\n",
              "        [0., 0., 0.],\n",
              "        ...,\n",
              "        [0., 0., 0.],\n",
              "        [0., 0., 0.],\n",
              "        [0., 0., 0.]],\n",
              "\n",
              "       [[0., 0., 0.],\n",
              "        [0., 0., 0.],\n",
              "        [0., 0., 0.],\n",
              "        ...,\n",
              "        [0., 0., 0.],\n",
              "        [0., 0., 0.],\n",
              "        [0., 0., 0.]],\n",
              "\n",
              "       [[0., 0., 0.],\n",
              "        [0., 0., 0.],\n",
              "        [0., 0., 0.],\n",
              "        ...,\n",
              "        [0., 0., 0.],\n",
              "        [0., 0., 0.],\n",
              "        [0., 0., 0.]]])"
            ]
          },
          "metadata": {
            "tags": []
          },
          "execution_count": 12
        }
      ]
    },
    {
      "cell_type": "markdown",
      "metadata": {
        "id": "K6T8X8GHzTCH",
        "colab_type": "text"
      },
      "source": [
        "## Now we will implement SARSAMAX algorithm to fill the Q Table"
      ]
    },
    {
      "cell_type": "code",
      "metadata": {
        "id": "5pPY4oOtzTCI",
        "colab_type": "code",
        "colab": {}
      },
      "source": [
        "LEARNING_RATE = 0.1 #hyperparameter \n",
        "DISCOUNT = 0.95 #hyperparameter; how important are future rewards  \n",
        "EPISODES = 20000 #hyperparameter\n",
        "RENDER_EVERY = 5000\n",
        "\n",
        "#a helper function to discretize continous states as returned by the environment \n",
        "def get_discrete_state(state):\n",
        "    #discrete_state -> floor((current_state- lowest_state)/bucket_size)\n",
        "    discrete_state = (state - env.observation_space.low) / discrete_os_bucket_size\n",
        "    return tuple(discrete_state.astype(np.int)) #taking the floor value"
      ],
      "execution_count": 0,
      "outputs": []
    },
    {
      "cell_type": "code",
      "metadata": {
        "id": "JpJbiz9qzTCL",
        "colab_type": "code",
        "colab": {}
      },
      "source": [
        "# Exploration settings\n",
        "epsilon = 1  # not a constant, qoing to be decayed\n",
        "START_EPSILON_DECAYING = 1\n",
        "END_EPSILON_DECAYING = EPISODES//2\n",
        "epsilon_decay_value = epsilon/(END_EPSILON_DECAYING - START_EPSILON_DECAYING)"
      ],
      "execution_count": 0,
      "outputs": []
    },
    {
      "cell_type": "code",
      "metadata": {
        "id": "TiaG5YnCzTCP",
        "colab_type": "code",
        "colab": {
          "base_uri": "https://localhost:8080/",
          "height": 291
        },
        "outputId": "52f7fdec-7172-4638-9e4a-d8141eca71e2"
      },
      "source": [
        "for episode in range(EPISODES):\n",
        "    done = False\n",
        "    discrete_state = get_discrete_state(env.reset()) #we always start with initial discrete state\n",
        "    if episode % RENDER_EVERY == 0:\n",
        "        render=True\n",
        "        print(episode)\n",
        "    else:\n",
        "        render=False\n",
        "        \n",
        "    while not done:\n",
        "        if np.random.random() > epsilon:\n",
        "            # Get action from Q table\n",
        "            action = np.argmax(q_table[discrete_state])\n",
        "        else:\n",
        "            # Get random action\n",
        "            action = np.random.randint(0, env.action_space.n)\n",
        "        state, reward, done, _ = env.step(action)# state is a tuple of (position, velocity)\n",
        "        if render:\n",
        "            #env.render() #Will not work in Google Colab\n",
        "            pass\n",
        "        new_discrete_state = get_discrete_state(state)\n",
        "        if not done:\n",
        "            q_st_at=q_table[discrete_state+(action,)]\n",
        "            q_st_plus_1_a = np.max(q_table[new_discrete_state])\n",
        "            new_q_st_at = q_st_at + LEARNING_RATE * (reward + DISCOUNT * q_st_plus_1_a - q_st_at)\n",
        "            q_table[discrete_state+(action,)] = new_q_st_at\n",
        "        elif state[0] >= env.goal_position: #if the episode terminates because we have achieved our goal\n",
        "            new_q_st_at = q_st_at + LEARNING_RATE * (0 + DISCOUNT * q_st_plus_1_a - q_st_at)\n",
        "        discrete_state = new_discrete_state\n",
        "     # Decaying is being done every episode if episode number is within decaying range\n",
        "    if END_EPSILON_DECAYING >= episode >= START_EPSILON_DECAYING:\n",
        "        epsilon -= epsilon_decay_value\n",
        "env.close()\n",
        "show_video()#displays the agent interaction with evironment in last episode"
      ],
      "execution_count": 15,
      "outputs": [
        {
          "output_type": "stream",
          "text": [
            "0\n",
            "5000\n",
            "10000\n",
            "15000\n"
          ],
          "name": "stdout"
        },
        {
          "output_type": "display_data",
          "data": {
            "text/html": [
              "<video alt=\"test\" autoplay \n",
              "                loop controls style=\"height: 200px;\">\n",
              "                <source src=\"data:video/mp4;base64,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\" type=\"video/mp4\" />\n",
              "             </video>"
            ],
            "text/plain": [
              "<IPython.core.display.HTML object>"
            ]
          },
          "metadata": {
            "tags": []
          }
        }
      ]
    },
    {
      "cell_type": "code",
      "metadata": {
        "id": "xe5zRgvrGEs8",
        "colab_type": "code",
        "colab": {}
      },
      "source": [
        "#remove video to free memory\n",
        "!rm video/*"
      ],
      "execution_count": 0,
      "outputs": []
    },
    {
      "cell_type": "markdown",
      "metadata": {
        "id": "E41NbXHDzTCV",
        "colab_type": "text"
      },
      "source": [
        "# QLearning on Cartpole Environment"
      ]
    },
    {
      "cell_type": "code",
      "metadata": {
        "id": "0EcMLzBlzTCX",
        "colab_type": "code",
        "colab": {
          "base_uri": "https://localhost:8080/",
          "height": 159
        },
        "outputId": "6cf315a7-d6a4-4ab4-942b-2284f73307d2"
      },
      "source": [
        "!pip install gym #already installed"
      ],
      "execution_count": 17,
      "outputs": [
        {
          "output_type": "stream",
          "text": [
            "Requirement already satisfied: gym in /usr/local/lib/python3.6/dist-packages (0.15.3)\n",
            "Requirement already satisfied: scipy in /usr/local/lib/python3.6/dist-packages (from gym) (1.3.1)\n",
            "Requirement already satisfied: cloudpickle~=1.2.0 in /usr/local/lib/python3.6/dist-packages (from gym) (1.2.2)\n",
            "Requirement already satisfied: six in /usr/local/lib/python3.6/dist-packages (from gym) (1.12.0)\n",
            "Requirement already satisfied: pyglet<=1.3.2,>=1.2.0 in /usr/local/lib/python3.6/dist-packages (from gym) (1.3.2)\n",
            "Requirement already satisfied: numpy>=1.10.4 in /usr/local/lib/python3.6/dist-packages (from gym) (1.17.3)\n",
            "Requirement already satisfied: future in /usr/local/lib/python3.6/dist-packages (from pyglet<=1.3.2,>=1.2.0->gym) (0.16.0)\n"
          ],
          "name": "stdout"
        }
      ]
    },
    {
      "cell_type": "code",
      "metadata": {
        "id": "ehJB0OUIzTCa",
        "colab_type": "code",
        "colab": {
          "base_uri": "https://localhost:8080/",
          "height": 35
        },
        "outputId": "9da057d1-e02b-4a99-9c34-33142b8ada95"
      },
      "source": [
        "import gym\n",
        "env = wrap_env(gym.make('CartPole-v0')) #for discription https://github.com/openai/gym/wiki/CartPole-v0\n",
        "env.reset()"
      ],
      "execution_count": 18,
      "outputs": [
        {
          "output_type": "execute_result",
          "data": {
            "text/plain": [
              "array([ 0.04625516,  0.02021164,  0.00533506, -0.00316445])"
            ]
          },
          "metadata": {
            "tags": []
          },
          "execution_count": 18
        }
      ]
    },
    {
      "cell_type": "code",
      "metadata": {
        "id": "ErveAVFbzTCd",
        "colab_type": "code",
        "colab": {
          "base_uri": "https://localhost:8080/",
          "height": 447
        },
        "outputId": "dcd125b7-d940-40ec-8f0f-eaabd4f6aca0"
      },
      "source": [
        "import random\n",
        "done = False\n",
        "\n",
        "while not done:\n",
        "  action = (int(random.random()*10))%2 #action 0->push cart left; action 1->push cart right\n",
        "  state, reward, done, _ = env.step(action)# state is a tuple of (cart position, cart velocity, pole angle, pole velocity at tip)\n",
        "  print(state)  \n",
        "\n",
        "env.close()\n",
        "show_video()\n",
        "#the cart need to balance the pole as much as possible"
      ],
      "execution_count": 19,
      "outputs": [
        {
          "output_type": "stream",
          "text": [
            "[ 0.0466594   0.21525667  0.00527178 -0.29415933]\n",
            "[ 0.05096453  0.02005996 -0.00061141  0.00018156]\n",
            "[ 0.05136573  0.21519067 -0.00060778 -0.29269421]\n",
            "[ 0.05566954  0.41032128 -0.00646166 -0.58556876]\n",
            "[ 0.06387597  0.60553314 -0.01817304 -0.88028015]\n",
            "[ 0.07598663  0.80089721 -0.03577864 -1.17862044]\n",
            "[ 0.09200457  0.99646505 -0.05935105 -1.48230114]\n",
            "[ 0.11193388  1.19225863 -0.08899707 -1.79291335]\n",
            "[ 0.13577905  0.9982397  -0.12485534 -1.52916736]\n",
            "[ 0.15574384  0.80482519 -0.15543869 -1.27791616]\n",
            "[ 0.17184035  0.61198824 -0.18099701 -1.03766326]\n",
            "[ 0.18408011  0.41967262 -0.20175028 -0.80682517]\n",
            "[ 0.19247356  0.61690334 -0.21788678 -1.15558373]\n"
          ],
          "name": "stdout"
        },
        {
          "output_type": "display_data",
          "data": {
            "text/html": [
              "<video alt=\"test\" autoplay \n",
              "                loop controls style=\"height: 200px;\">\n",
              "                <source src=\"data:video/mp4;base64,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\" type=\"video/mp4\" />\n",
              "             </video>"
            ],
            "text/plain": [
              "<IPython.core.display.HTML object>"
            ]
          },
          "metadata": {
            "tags": []
          }
        }
      ]
    },
    {
      "cell_type": "code",
      "metadata": {
        "id": "zON-8YA9JrrI",
        "colab_type": "code",
        "colab": {
          "base_uri": "https://localhost:8080/",
          "height": 35
        },
        "outputId": "1aad0cec-5cf7-4b19-88ce-72f86c33c277"
      },
      "source": [
        "#remove video to free memory\n",
        "!rm video/*\n",
        "env = wrap_env(gym.make('CartPole-v0')) #for discription https://github.com/openai/gym/wiki/CartPole-v0\n",
        "env.reset()"
      ],
      "execution_count": 20,
      "outputs": [
        {
          "output_type": "execute_result",
          "data": {
            "text/plain": [
              "array([-0.04098085, -0.04358336,  0.03975057,  0.00405618])"
            ]
          },
          "metadata": {
            "tags": []
          },
          "execution_count": 20
        }
      ]
    },
    {
      "cell_type": "markdown",
      "metadata": {
        "id": "3EpCyYZdzTCj",
        "colab_type": "text"
      },
      "source": [
        "## Implementing Q Table\n",
        "\n",
        "We will be implementing SARSAMAX\n",
        "\n",
        "![](SARSAMAX.png)\n",
        "\n",
        "- State contains continous values\n",
        "- Q Table will contains prohibitively large number of state values\n",
        "- We need to **dicretize them** in order to create Q Table\n",
        "- Initially Q Table will contain random values"
      ]
    },
    {
      "cell_type": "code",
      "metadata": {
        "id": "wG0Q5bcDzTCl",
        "colab_type": "code",
        "colab": {
          "base_uri": "https://localhost:8080/",
          "height": 69
        },
        "outputId": "65c27eae-311d-45d4-d4e7-66c65c61c9b4"
      },
      "source": [
        "#display observation space low and high values\n",
        "print(env.observation_space.high)#[position,cart_velocity,pole_angle,pole_velocity]\n",
        "print(env.observation_space.low)#[position,cart_velocity,pole_angle,pole_velocity]\n",
        "print(env.action_space.n)"
      ],
      "execution_count": 21,
      "outputs": [
        {
          "output_type": "stream",
          "text": [
            "[4.8000002e+00 3.4028235e+38 4.1887903e-01 3.4028235e+38]\n",
            "[-4.8000002e+00 -3.4028235e+38 -4.1887903e-01 -3.4028235e+38]\n",
            "2\n"
          ],
          "name": "stdout"
        }
      ]
    },
    {
      "cell_type": "code",
      "metadata": {
        "id": "wmg6zdKnzTCp",
        "colab_type": "code",
        "colab": {}
      },
      "source": [
        "#Reference 1 for discretizizng -> https://medium.com/@tuzzer/cart-pole-balancing-with-q-learning-b54c6068d947 \n",
        "#Reference 2 for discretizing -> https://github.com/deepakkavoor/cartpole-rl/blob/master/cartpole-q_learning.py\n",
        "import math\n",
        "env.observation_space.high[1]= 0.5\n",
        "env.observation_space.low[1]= -0.5\n",
        "env.observation_space.high[3]= math.radians(50)\n",
        "env.observation_space.low[3]= -math.radians(50)"
      ],
      "execution_count": 0,
      "outputs": []
    },
    {
      "cell_type": "code",
      "metadata": {
        "id": "z96cAbpnzTCt",
        "colab_type": "code",
        "colab": {
          "base_uri": "https://localhost:8080/",
          "height": 35
        },
        "outputId": "a8a9d9f1-1dfd-49ae-8a5b-5c6e8ca5749d"
      },
      "source": [
        "import numpy as np\n",
        "LEARNING_RATE = 0.1 #hyperparameter \n",
        "DISCOUNT = 0.95 #hyperparameter; how important are future rewards  \n",
        "EPISODES = 20000 #hyperparameter\n",
        "RENDER_EVERY = 1000\n",
        "\n",
        "\n",
        "#Reference for discretizing=> https://mc.ai/openai-gyms-cart-pole-balancing-using-q-learning/\n",
        "buckets=(1, 1, 6, 12,) #hyperparameter -> dimensions of Q Table (position,cart_velocity,pole_angle,pole_velocity)\n",
        "q_table = np.zeros(buckets + (env.action_space.n,))\n",
        "print(q_table.shape)\n",
        "\n",
        "\n",
        "#a helper function to discretize continous states as returned by the environment \n",
        "def get_discrete_state(state):\n",
        "    ratios = [(state[i] + abs(env.observation_space.low[i])) / (env.observation_space.high[i] - env.observation_space.low[i]) for i in range(len(state))]\n",
        "    new_obs = [int(round((buckets[i] - 1) * ratios[i])) for i in range(len(state))]\n",
        "    new_obs = [min(buckets[i] - 1, max(0, new_obs[i])) for i in range(len(state))]\n",
        "    return tuple(new_obs)\n"
      ],
      "execution_count": 23,
      "outputs": [
        {
          "output_type": "stream",
          "text": [
            "(1, 1, 6, 12, 2)\n"
          ],
          "name": "stdout"
        }
      ]
    },
    {
      "cell_type": "code",
      "metadata": {
        "id": "SrHJGk8WzTCy",
        "colab_type": "code",
        "colab": {}
      },
      "source": [
        "# Exploration settings\n",
        "epsilon = 1  # not a constant, qoing to be decayed\n",
        "START_EPSILON_DECAYING = 1\n",
        "END_EPSILON_DECAYING = EPISODES//2\n",
        "epsilon_decay_value = epsilon/(END_EPSILON_DECAYING - START_EPSILON_DECAYING)"
      ],
      "execution_count": 0,
      "outputs": []
    },
    {
      "cell_type": "code",
      "metadata": {
        "id": "xiOcISjgzTC2",
        "colab_type": "code",
        "colab": {
          "base_uri": "https://localhost:8080/",
          "height": 568
        },
        "outputId": "cee887e6-0235-418a-e530-8f51bbd15985"
      },
      "source": [
        "for episode in range(EPISODES):\n",
        "    done = False\n",
        "    discrete_state = get_discrete_state(env.reset()) #we always start with initial discrete state'\n",
        "    if episode % RENDER_EVERY == 0:\n",
        "        render=True\n",
        "        print(episode)\n",
        "    else:\n",
        "        render=False\n",
        "    #steps_per_episode = 0\n",
        "    while not done:\n",
        "        \n",
        "        if render:\n",
        "            #env.render() # Will not work in Colab\n",
        "            #steps_per_episode+=1\n",
        "            #print('Step Count'+str(steps_per_episode))\n",
        "            pass\n",
        "        \n",
        "        if np.random.random() > epsilon:\n",
        "            # Get action from Q table\n",
        "            action = np.argmax(q_table[discrete_state])\n",
        "        else:\n",
        "            # Get random action\n",
        "            action = np.random.randint(0, env.action_space.n)\n",
        "        \n",
        "        state, reward, done, _ = env.step(action)# state is a tuple of (position,cart_velocity,pole_angle,pole_velocity)\n",
        "        new_discrete_state = get_discrete_state(state)\n",
        "        if not done:\n",
        "            q_st_at=q_table[discrete_state+(action,)]\n",
        "            q_st_plus_1_a = np.max(q_table[new_discrete_state])\n",
        "            new_q_st_at = q_st_at + LEARNING_RATE * (reward + DISCOUNT * q_st_plus_1_a - q_st_at)\n",
        "            q_table[discrete_state+(action,)] = new_q_st_at\n",
        "        discrete_state = new_discrete_state\n",
        "     # Decaying is being done every episode if episode number is within decaying range\n",
        "    if END_EPSILON_DECAYING >= episode >= START_EPSILON_DECAYING:\n",
        "        epsilon -= epsilon_decay_value\n",
        "env.close()\n",
        "show_video()#displays the agent interaction with evironment in last episode"
      ],
      "execution_count": 25,
      "outputs": [
        {
          "output_type": "stream",
          "text": [
            "0\n",
            "1000\n",
            "2000\n",
            "3000\n",
            "4000\n",
            "5000\n",
            "6000\n",
            "7000\n",
            "8000\n",
            "9000\n",
            "10000\n",
            "11000\n",
            "12000\n",
            "13000\n",
            "14000\n",
            "15000\n",
            "16000\n",
            "17000\n",
            "18000\n",
            "19000\n"
          ],
          "name": "stdout"
        },
        {
          "output_type": "display_data",
          "data": {
            "text/html": [
              "<video alt=\"test\" autoplay \n",
              "                loop controls style=\"height: 200px;\">\n",
              "                <source src=\"data:video/mp4;base64,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\" type=\"video/mp4\" />\n",
              "             </video>"
            ],
            "text/plain": [
              "<IPython.core.display.HTML object>"
            ]
          },
          "metadata": {
            "tags": []
          }
        }
      ]
    },
    {
      "cell_type": "code",
      "metadata": {
        "id": "mdNq3AzeLUCU",
        "colab_type": "code",
        "colab": {
          "base_uri": "https://localhost:8080/",
          "height": 35
        },
        "outputId": "29e09db5-a0b6-4999-c988-43f9da18a18a"
      },
      "source": [
        "#remove video to free memory\n",
        "!rm video/*\n",
        "env = wrap_env(gym.make('CartPole-v0')) #for discription https://github.com/openai/gym/wiki/CartPole-v0\n",
        "env.reset()"
      ],
      "execution_count": 26,
      "outputs": [
        {
          "output_type": "execute_result",
          "data": {
            "text/plain": [
              "array([ 0.03316721,  0.00279346,  0.02626314, -0.03610807])"
            ]
          },
          "metadata": {
            "tags": []
          },
          "execution_count": 26
        }
      ]
    },
    {
      "cell_type": "markdown",
      "metadata": {
        "id": "IKeVueCizTC9",
        "colab_type": "text"
      },
      "source": [
        "## Sample Run of Agent After Training"
      ]
    },
    {
      "cell_type": "code",
      "metadata": {
        "id": "EbarC8apzTC-",
        "colab_type": "code",
        "colab": {
          "base_uri": "https://localhost:8080/",
          "height": 276
        },
        "outputId": "f4b80898-25fe-4c18-ca09-a2e4b45994d0"
      },
      "source": [
        "done = False\n",
        "discrete_state = get_discrete_state(env.reset()) #we always start with initial discrete state'\n",
        "steps=0\n",
        "while not done:\n",
        "    #steps+=1\n",
        "    #print(steps)\n",
        "    #env.render() # does not work in colab\n",
        "        \n",
        "    action = np.argmax(q_table[discrete_state])\n",
        "        \n",
        "    state, reward, done, _ = env.step(action)# state is a tuple of (position,cart_velocity,pole_angle,pole_velocity)\n",
        "\n",
        "    discrete_state=get_discrete_state(state)\n",
        "env.close()\n",
        "show_video()"
      ],
      "execution_count": 27,
      "outputs": [
        {
          "output_type": "stream",
          "text": [
            "/usr/local/lib/python3.6/dist-packages/ipykernel_launcher.py:16: RuntimeWarning: overflow encountered in float_scalars\n",
            "  app.launch_new_instance()\n"
          ],
          "name": "stderr"
        },
        {
          "output_type": "display_data",
          "data": {
            "text/html": [
              "<video alt=\"test\" autoplay \n",
              "                loop controls style=\"height: 200px;\">\n",
              "                <source src=\"data:video/mp4;base64,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\" type=\"video/mp4\" />\n",
              "             </video>"
            ],
            "text/plain": [
              "<IPython.core.display.HTML object>"
            ]
          },
          "metadata": {
            "tags": []
          }
        }
      ]
    },
    {
      "cell_type": "code",
      "metadata": {
        "id": "Sb_gB01GMblO",
        "colab_type": "code",
        "colab": {
          "base_uri": "https://localhost:8080/",
          "height": 35
        },
        "outputId": "e840f43e-cdf9-449a-b70c-e50b7f995f4c"
      },
      "source": [
        "#remove video to free memory\n",
        "!rm video/*\n",
        "env = wrap_env(gym.make('CartPole-v0')) #for discription https://github.com/openai/gym/wiki/CartPole-v0\n",
        "env.reset()"
      ],
      "execution_count": 28,
      "outputs": [
        {
          "output_type": "execute_result",
          "data": {
            "text/plain": [
              "array([ 0.00836097,  0.00353917,  0.00705049, -0.01645726])"
            ]
          },
          "metadata": {
            "tags": []
          },
          "execution_count": 28
        }
      ]
    },
    {
      "cell_type": "markdown",
      "metadata": {
        "id": "csGzR7DdzTDL",
        "colab_type": "text"
      },
      "source": [
        "# Q Learning Hyperparameter Optimization -> Finding Appropriate Number of Episodes"
      ]
    },
    {
      "cell_type": "code",
      "metadata": {
        "id": "H2GBMu5mzTDh",
        "colab_type": "code",
        "colab": {
          "base_uri": "https://localhost:8080/",
          "height": 69
        },
        "outputId": "6399b17f-5624-4153-bc97-5e4332b0fa2c"
      },
      "source": [
        "#display observation space low and high values\n",
        "print(env.observation_space.high)#[position,cart_velocity,pole_angle,pole_velocity]\n",
        "print(env.observation_space.low)#[position,cart_velocity,pole_angle,pole_velocity]\n",
        "print(env.action_space.n)"
      ],
      "execution_count": 29,
      "outputs": [
        {
          "output_type": "stream",
          "text": [
            "[4.8000002e+00 3.4028235e+38 4.1887903e-01 3.4028235e+38]\n",
            "[-4.8000002e+00 -3.4028235e+38 -4.1887903e-01 -3.4028235e+38]\n",
            "2\n"
          ],
          "name": "stdout"
        }
      ]
    },
    {
      "cell_type": "code",
      "metadata": {
        "id": "-_osF2OvzTDk",
        "colab_type": "code",
        "colab": {}
      },
      "source": [
        "#Reference 1 for discretizizng -> https://medium.com/@tuzzer/cart-pole-balancing-with-q-learning-b54c6068d947 \n",
        "#Reference 2 for discretizing -> https://github.com/deepakkavoor/cartpole-rl/blob/master/cartpole-q_learning.py\n",
        "import math\n",
        "env.observation_space.high[1]= 0.5\n",
        "env.observation_space.low[1]= -0.5\n",
        "env.observation_space.high[3]= math.radians(50)\n",
        "env.observation_space.low[3]= -math.radians(50)"
      ],
      "execution_count": 0,
      "outputs": []
    },
    {
      "cell_type": "markdown",
      "metadata": {
        "id": "nzV1OMf2zTDm",
        "colab_type": "text"
      },
      "source": [
        "## Now we will implement SARSAMAX algorithm to fill the Q Table"
      ]
    },
    {
      "cell_type": "code",
      "metadata": {
        "id": "AF6rHBH5zTDn",
        "colab_type": "code",
        "colab": {
          "base_uri": "https://localhost:8080/",
          "height": 35
        },
        "outputId": "5bcb08b2-d58c-47a3-bdfc-f95c28b9b271"
      },
      "source": [
        "import numpy as np\n",
        "LEARNING_RATE = 0.05 #hyperparameter \n",
        "DISCOUNT = 0.95 #hyperparameter; how important are future rewards  \n",
        "EPISODES = 25000 #hyperparameter\n",
        "RENDER_EVERY = 1000\n",
        "episode_rewards=[]#to store total reward obtained in each step\n",
        "aggr_ep_rewards = {'ep': [], 'avg': [], 'max': [], 'min': []}#To store various stats\n",
        "\n",
        "\n",
        "#Reference for discretizing=> https://mc.ai/openai-gyms-cart-pole-balancing-using-q-learning/\n",
        "buckets=(1, 1, 6, 12,) #hyperparameter -> dimensions of Q Table (position,cart_velocity,pole_angle,pole_velocity)\n",
        "q_table = np.zeros(buckets + (env.action_space.n,))\n",
        "print(q_table.shape)\n",
        "\n",
        "\n",
        "\n",
        "#a helper function to discretize continous states as returned by the environment \n",
        "def get_discrete_state(state):\n",
        "    ratios = [(state[i] + abs(env.observation_space.low[i])) / (env.observation_space.high[i] - env.observation_space.low[i]) for i in range(len(state))]\n",
        "    new_obs = [int(round((buckets[i] - 1) * ratios[i])) for i in range(len(state))]\n",
        "    new_obs = [min(buckets[i] - 1, max(0, new_obs[i])) for i in range(len(state))]\n",
        "    return tuple(new_obs)"
      ],
      "execution_count": 31,
      "outputs": [
        {
          "output_type": "stream",
          "text": [
            "(1, 1, 6, 12, 2)\n"
          ],
          "name": "stdout"
        }
      ]
    },
    {
      "cell_type": "code",
      "metadata": {
        "id": "oAR2xEn_zTDp",
        "colab_type": "code",
        "colab": {}
      },
      "source": [
        "# Exploration settings\n",
        "epsilon = 1  # not a constant, qoing to be decayed\n",
        "START_EPSILON_DECAYING = 1\n",
        "END_EPSILON_DECAYING = EPISODES//2\n",
        "epsilon_decay_value = epsilon/(END_EPSILON_DECAYING - START_EPSILON_DECAYING)"
      ],
      "execution_count": 0,
      "outputs": []
    },
    {
      "cell_type": "code",
      "metadata": {
        "id": "ufKdvTihzTDr",
        "colab_type": "code",
        "colab": {
          "base_uri": "https://localhost:8080/",
          "height": 1000
        },
        "outputId": "73d96f02-d58f-4f28-84d3-1521229713aa"
      },
      "source": [
        "for episode in range(EPISODES):\n",
        "    done = False\n",
        "    discrete_state = get_discrete_state(env.reset()) #we always start with initial discrete state'\n",
        "    if episode % RENDER_EVERY == 0:\n",
        "        render=True\n",
        "        print(episode)\n",
        "    else:\n",
        "        render=False\n",
        "    steps_per_episode = 0\n",
        "    episode_reward = 0#To track each episode rewards\n",
        "    while not done:\n",
        "        \n",
        "        if render:\n",
        "            #env.render() #->does not work in colab\n",
        "            #steps_per_episode+=1\n",
        "            #print('Step Count'+str(steps_per_episode))\n",
        "            pass\n",
        "        \n",
        "        if np.random.random() > epsilon:\n",
        "            # Get action from Q table\n",
        "            action = np.argmax(q_table[discrete_state])\n",
        "        else:\n",
        "            # Get random action\n",
        "            action = np.random.randint(0, env.action_space.n)\n",
        "        \n",
        "        state, reward, done, _ = env.step(action)# state is a tuple of (position,cart_velocity,pole_angle,pole_velocity)\n",
        "        episode_reward += reward\n",
        "        new_discrete_state = get_discrete_state(state)\n",
        "        if not done:\n",
        "            q_st_at=q_table[discrete_state+(action,)]\n",
        "            q_st_plus_1_a = np.max(q_table[new_discrete_state])\n",
        "            new_q_st_at = q_st_at + LEARNING_RATE * (reward + DISCOUNT * q_st_plus_1_a - q_st_at)\n",
        "            q_table[discrete_state+(action,)] = new_q_st_at\n",
        "        discrete_state = new_discrete_state\n",
        "    \n",
        "    # Decaying is being done every episode if episode number is within decaying range\n",
        "    if END_EPSILON_DECAYING >= episode >= START_EPSILON_DECAYING:\n",
        "        epsilon -= epsilon_decay_value\n",
        "    \n",
        "    episode_rewards.append(episode_reward)\n",
        "    if not episode % RENDER_EVERY:\n",
        "        avg_reward = sum(episode_rewards[-RENDER_EVERY:])/RENDER_EVERY\n",
        "        aggr_ep_rewards['ep'].append(episode)\n",
        "        aggr_ep_rewards['avg'].append(avg_reward)\n",
        "        aggr_ep_rewards['max'].append(max(episode_rewards[-RENDER_EVERY:]))\n",
        "        aggr_ep_rewards['min'].append(min(episode_rewards[-RENDER_EVERY:]))\n",
        "        \n",
        "env.close()\n",
        "show_video()"
      ],
      "execution_count": 33,
      "outputs": [
        {
          "output_type": "stream",
          "text": [
            "0\n",
            "1000\n",
            "2000\n",
            "3000\n",
            "4000\n",
            "5000\n",
            "6000\n",
            "7000\n",
            "8000\n",
            "9000\n",
            "10000\n",
            "11000\n",
            "12000\n",
            "13000\n",
            "14000\n",
            "15000\n",
            "16000\n",
            "17000\n",
            "18000\n",
            "19000\n",
            "20000\n",
            "21000\n",
            "22000\n",
            "23000\n",
            "24000\n",
            "25000\n",
            "26000\n",
            "27000\n",
            "28000\n",
            "29000\n",
            "30000\n",
            "31000\n",
            "32000\n",
            "33000\n",
            "34000\n",
            "35000\n",
            "36000\n",
            "37000\n",
            "38000\n",
            "39000\n",
            "40000\n",
            "41000\n",
            "42000\n",
            "43000\n",
            "44000\n",
            "45000\n",
            "46000\n",
            "47000\n",
            "48000\n",
            "49000\n"
          ],
          "name": "stdout"
        },
        {
          "output_type": "display_data",
          "data": {
            "text/html": [
              "<video alt=\"test\" autoplay \n",
              "                loop controls style=\"height: 200px;\">\n",
              "                <source src=\"data:video/mp4;base64,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\" type=\"video/mp4\" />\n",
              "             </video>"
            ],
            "text/plain": [
              "<IPython.core.display.HTML object>"
            ]
          },
          "metadata": {
            "tags": []
          }
        }
      ]
    },
    {
      "cell_type": "code",
      "metadata": {
        "id": "EBpNZAOwzTDw",
        "colab_type": "code",
        "colab": {
          "base_uri": "https://localhost:8080/",
          "height": 279
        },
        "outputId": "7e6cde2d-3842-4e53-d2bf-a93620a7055e"
      },
      "source": [
        "%matplotlib inline\n",
        "import matplotlib.pyplot as plt \n",
        "plt.xlabel('Episodes')\n",
        "plt.ylabel('Rewards')\n",
        "plt.plot(aggr_ep_rewards['ep'], aggr_ep_rewards['avg'], label=\"average rewards\")\n",
        "plt.plot(aggr_ep_rewards['ep'], aggr_ep_rewards['max'], label=\"max rewards\")\n",
        "plt.plot(aggr_ep_rewards['ep'], aggr_ep_rewards['min'], label=\"min rewards\")\n",
        "plt.legend(loc=4)\n",
        "plt.show()"
      ],
      "execution_count": 34,
      "outputs": [
        {
          "output_type": "display_data",
          "data": {
            "image/png": "[encoded data removed]",
            "text/plain": [
              "<Figure size 432x288 with 1 Axes>"
            ]
          },
          "metadata": {
            "tags": []
          }
        }
      ]
    },
    {
      "cell_type": "code",
      "metadata": {
        "id": "ISaX0RK4zTDz",
        "colab_type": "code",
        "colab": {
          "base_uri": "https://localhost:8080/",
          "height": 89
        },
        "outputId": "278d26bf-340f-4da9-d697-574f609343d1"
      },
      "source": [
        "print(aggr_ep_rewards['ep'])\n",
        "print(aggr_ep_rewards['min'])\n",
        "print(aggr_ep_rewards['avg'])"
      ],
      "execution_count": 35,
      "outputs": [
        {
          "output_type": "stream",
          "text": [
            "[0, 1000, 2000, 3000, 4000, 5000, 6000, 7000, 8000, 9000, 10000, 11000, 12000, 13000, 14000, 15000, 16000, 17000, 18000, 19000, 20000, 21000, 22000, 23000, 24000, 25000, 26000, 27000, 28000, 29000, 30000, 31000, 32000, 33000, 34000, 35000, 36000, 37000, 38000, 39000, 40000, 41000, 42000, 43000, 44000, 45000, 46000, 47000, 48000, 49000]\n",
            "[24.0, 8.0, 8.0, 8.0, 8.0, 9.0, 9.0, 8.0, 9.0, 9.0, 8.0, 10.0, 9.0, 8.0, 9.0, 9.0, 9.0, 9.0, 12.0, 9.0, 8.0, 11.0, 12.0, 22.0, 17.0, 14.0, 128.0, 130.0, 131.0, 130.0, 130.0, 130.0, 129.0, 129.0, 128.0, 132.0, 133.0, 131.0, 131.0, 129.0, 130.0, 133.0, 130.0, 132.0, 130.0, 131.0, 129.0, 132.0, 130.0, 129.0]\n",
            "[0.024, 22.215, 24.305, 26.729, 29.023, 33.176, 35.454, 37.386, 44.17, 52.201, 59.014, 65.303, 74.616, 81.408, 97.609, 108.122, 114.403, 119.283, 141.588, 151.611, 166.708, 178.815, 188.727, 194.413, 189.621, 187.956, 190.52, 191.073, 190.841, 191.089, 190.414, 191.11, 190.75, 190.68, 190.952, 191.279, 191.122, 190.805, 191.672, 191.588, 191.818, 191.009, 190.262, 190.454, 191.143, 190.696, 190.928, 190.173, 190.594, 191.358]\n"
          ],
          "name": "stdout"
        }
      ]
    },
    {
      "cell_type": "code",
      "metadata": {
        "id": "gZw9L71PPJFv",
        "colab_type": "code",
        "colab": {}
      },
      "source": [
        "#remove video to free memory\n",
        "!rm video/*"
      ],
      "execution_count": 0,
      "outputs": []
    },
    {
      "cell_type": "markdown",
      "metadata": {
        "id": "oKVluy66zTD5",
        "colab_type": "text"
      },
      "source": [
        "# Creating Own RL Environment"
      ]
    },
    {
      "cell_type": "code",
      "metadata": {
        "id": "JYL6M6mhzTD6",
        "colab_type": "code",
        "colab": {}
      },
      "source": [
        "#May require to install opencv if it is not available: conda install -c menpo opencv\n",
        "\n",
        "#REMEMBER: Open CV used BGR image encoding format\n",
        "import cv2\n",
        "\n",
        "import numpy as np \n",
        "from PIL import Image\n",
        "import pickle #to save and load python objects\n",
        "import matplotlib.pyplot as plt\n",
        "from matplotlib import style \n",
        "import time\n",
        "import os"
      ],
      "execution_count": 0,
      "outputs": []
    },
    {
      "cell_type": "code",
      "metadata": {
        "id": "iSyMzTkNzTEB",
        "colab_type": "code",
        "colab": {}
      },
      "source": [
        "#Setting the constants\n",
        "SIZE = 10 #Grid size of environment will be 10*10\n",
        "EPISODES = 24000\n",
        "MOVE_PENALTY = 1\n",
        "ENEMY_PENALTY = 300\n",
        "FOOD_REWARD = 25\n",
        "epsilon = 1 #epsilon greedy policy\n",
        "EPS_DECAY = 0.9998\n",
        "SHOW_EVERY = 3000\n",
        "start_q_table = None #can be prior q table saved using pickle library\n",
        "LEARNING_RATE = 0.1\n",
        "DISCOUNT = 0.95"
      ],
      "execution_count": 0,
      "outputs": []
    },
    {
      "cell_type": "code",
      "metadata": {
        "id": "PDqEI3NdzTED",
        "colab_type": "code",
        "colab": {}
      },
      "source": [
        "PLAYER_N=1\n",
        "FOOD_N=2\n",
        "ENEMY_N=3\n",
        "\n",
        "#Our custom environment will display in BGR Format\n",
        "d={1:(255,0,0), #Player is Blue\n",
        "   2:(0,255,0), #Food is Green\n",
        "   3:(0,0,255)  #Enemy is Red\n",
        "}"
      ],
      "execution_count": 0,
      "outputs": []
    },
    {
      "cell_type": "code",
      "metadata": {
        "id": "_QTi5ErqzTEF",
        "colab_type": "code",
        "colab": {}
      },
      "source": [
        "#Creating class for player, food and enemy\n",
        "class Blob:\n",
        "    def __init__(self): #Python constructor\n",
        "        self.x = np.random.randint(0,SIZE)\n",
        "        self.y = np.random.randint(0,SIZE)\n",
        "        #To Do: There can be a issue in which enemy and/or player and/or food land on the same cell\n",
        "    \n",
        "    #for debugging purposes\n",
        "    def __str__(self):\n",
        "        return f\"{self.x}, {self.y}\"\n",
        "    \n",
        "    #operator overloading\n",
        "    def __sub__(self,second):\n",
        "        return (self.x - second.x, self.y-second.y)\n",
        "        \n",
        "    #defining possible actions by Blob agent\n",
        "    def action(self,choice): #very simplified discrete action space consisting of four actions only\n",
        "        if choice == 0:\n",
        "            self.move(x=1,y=1)\n",
        "        elif choice==1:\n",
        "            self.move(x=-1,y=-1)\n",
        "        elif choice ==2:\n",
        "            self.move(x=-1,y=1)\n",
        "        elif choice ==3:\n",
        "            self.move(x=1,y=-1)\n",
        "        elif choice == 4:#Move right\n",
        "            self.move(x=1,y=0)\n",
        "        elif choice ==5 :#Move left\n",
        "            self.move(x=-1,y=0)\n",
        "        elif choice ==6: #Move Up\n",
        "            self.move(x=0,y=1)\n",
        "        elif choice ==7: #Move Down\n",
        "            self.move(x=0,y=-1)\n",
        "        #To Do: Add more choices\n",
        "    \n",
        "    def move(self, x=False,y=False):\n",
        "        #The agent will move either randomly or based on value passed in x or y\n",
        "        #if not x:#x is local var and self.x is class var\n",
        "        #    self.x = np.random.randint(-1,2)  \n",
        "        #else:\n",
        "        self.x += x\n",
        "            \n",
        "        #if not y:\n",
        "        #    self.y = np.random.randint(-1,2)  \n",
        "        #else:\n",
        "        self.y += y\n",
        "        \n",
        "        #We have to also ensure that blob does not move outside the boundaries\n",
        "        if self.x < 0:\n",
        "            self.x = 0\n",
        "        elif self.x > (SIZE-1):\n",
        "            self.x = SIZE-1\n",
        "        \n",
        "        if self.y < 0:\n",
        "            self.y = 0\n",
        "        elif self.y > (SIZE-1):\n",
        "            self.y = SIZE-1"
      ],
      "execution_count": 0,
      "outputs": []
    },
    {
      "cell_type": "code",
      "metadata": {
        "id": "vCDFGWwTzTEI",
        "colab_type": "code",
        "colab": {}
      },
      "source": [
        "#States of our Q Table consist of difference between x and y coordinates of the player and food Blob AND player and enemy Blob\n",
        "if start_q_table is None:\n",
        "    q_table = {} #dictionary\n",
        "    for x1 in range(-SIZE+1, SIZE):\n",
        "        for y1 in range(-SIZE+1, SIZE):\n",
        "            for x2 in range(-SIZE+1, SIZE):\n",
        "                for y2 in range(-SIZE+1,SIZE):\n",
        "                    q_table[((x1,y1),(x2,y2))]= [np.random.uniform(-5,0) for i in range(8)] #since there are eight discrete actions\n",
        "                    #The initial values need to be modified to see the impact\n",
        "                    \n",
        "else: #The Q Table exists and may be present in the form of pickle object\n",
        "    with open(start_q_table,\"rb\") as f:\n",
        "        q_table = pickle.load(f)\n",
        "\n"
      ],
      "execution_count": 0,
      "outputs": []
    },
    {
      "cell_type": "markdown",
      "metadata": {
        "id": "WxPwX2WxzTEL",
        "colab_type": "text"
      },
      "source": [
        "## Q Learning Algorithm on Custom RL Environment"
      ]
    },
    {
      "cell_type": "code",
      "metadata": {
        "id": "OriB0WNbSC7_",
        "colab_type": "code",
        "colab": {}
      },
      "source": [
        "from IPython import display\n",
        "import matplotlib.pyplot as plt\n",
        "%matplotlib inline"
      ],
      "execution_count": 0,
      "outputs": []
    },
    {
      "cell_type": "code",
      "metadata": {
        "id": "mbdHZ0CMzTEL",
        "colab_type": "code",
        "outputId": "480fbaa9-25da-4efb-c4d3-1b25be615210",
        "colab": {
          "base_uri": "https://localhost:8080/",
          "height": 384
        }
      },
      "source": [
        "START_EPSILON_DECAYING = 1#From which episode we want to start to decay epsilon\n",
        "END_EPSILON_DECAYING = EPISODES // 2 #Till which episode we want to decay epsilon\n",
        "epsilon_decay_value = epsilon / (END_EPSILON_DECAYING - START_EPSILON_DECAYING)\n",
        "episode_rewards = []\n",
        "for episode in range(EPISODES):\n",
        "    pathOut = f'{episode}.webm'#to hold files for rendering the environment\n",
        "    player = Blob()\n",
        "    food = Blob()\n",
        "    enemy = Blob()\n",
        "    \n",
        "    if episode % SHOW_EVERY == 0:\n",
        "        print(f'on #{episode}, epsilon: {epsilon}')\n",
        "        print(f'ep mean {np.mean(episode_rewards[-SHOW_EVERY: ])}')\n",
        "        show = True\n",
        "    else:\n",
        "        show = False\n",
        "    \n",
        "    #updating epsilon value\n",
        "    \n",
        "    episode_reward = 0\n",
        "    img_frame = [] #to hold all different images of our environment\n",
        "    for i in range(200): #Here 200 is the steps in each episode. It is a hyperparameter\n",
        "        obs = (player - food, player - enemy)#Remember the function overriding\n",
        "        if np.random.random() > epsilon:\n",
        "            action = np.argmax(q_table[obs])\n",
        "        else:\n",
        "            action = np.random.randint(0,8)\n",
        "        \n",
        "        player.action(action)\n",
        "       \n",
        "        #Deciding the reward or penalty of agent after every step in each episode\n",
        "        if player.x == enemy.x and player.y == enemy.y:\n",
        "            reward = -ENEMY_PENALTY\n",
        "        elif player.x == food.x and player.y == food.y:\n",
        "            reward = FOOD_REWARD\n",
        "        else:\n",
        "            reward = -MOVE_PENALTY\n",
        "            \n",
        "        new_obs = (player-food,player-enemy)\n",
        "        max_future_q = np.max(q_table[new_obs])\n",
        "        current_q = q_table[obs][action]\n",
        "    \n",
        "        if reward == FOOD_REWARD:\n",
        "            new_q = FOOD_REWARD\n",
        "            q_table[obs][action] = new_q\n",
        "            episode_rewards.append(reward)\n",
        "            break\n",
        "        elif reward == -ENEMY_PENALTY:\n",
        "            new_q = -ENEMY_PENALTY\n",
        "            q_table[obs][action] = new_q\n",
        "            episode_rewards.append(reward)\n",
        "            break\n",
        "        else:\n",
        "            new_q = (1 - LEARNING_RATE) * current_q + LEARNING_RATE * (reward + DISCOUNT * max_future_q)\n",
        "            q_table[obs][action] = new_q\n",
        "            episode_rewards.append(reward)\n",
        "        \n",
        "        #Code to display the environment\n",
        "        if episode%SHOW_EVERY==0:\n",
        "            env=np.zeros((SIZE,SIZE,3),dtype=np.uint8)\n",
        "            env[food.y][food.x] = d[FOOD_N]\n",
        "            env[player.y][player.x] = d[PLAYER_N]\n",
        "            env[enemy.y][enemy.x] = d[ENEMY_N]            \n",
        "            \n",
        "            img = Image.fromarray(env,'RGB')#from PIL library\n",
        "            img = img.resize((400,400))\n",
        "            img_array=np.asarray(img)\n",
        "            \n",
        "            #replicate each frame 3 times so that rendering will display each frame longer\n",
        "            img_frame.append(img_array)\n",
        "            img_frame.append(img_array)\n",
        "            img_frame.append(img_array)\n",
        "            \n",
        "    \n",
        "    if episode%SHOW_EVERY==0:\n",
        "        out = cv2.VideoWriter(pathOut,cv2.VideoWriter_fourcc(*'VP80'), 25, (400,400))\n",
        "        for i in range(len(img_frame)):\n",
        "            # writing to a image array\n",
        "            out.write(img_frame[i])\n",
        "        out.release()\n",
        "\n",
        "    # Decaying is being done every episode if episode number is within decaying range\n",
        "    if END_EPSILON_DECAYING >= episode >= START_EPSILON_DECAYING:\n",
        "        epsilon -= epsilon_decay_value"
      ],
      "execution_count": 43,
      "outputs": [
        {
          "output_type": "stream",
          "text": [
            "on #0, epsilon: 1\n",
            "ep mean nan\n"
          ],
          "name": "stdout"
        },
        {
          "output_type": "stream",
          "text": [
            "/usr/local/lib/python3.6/dist-packages/numpy/core/fromnumeric.py:3257: RuntimeWarning: Mean of empty slice.\n",
            "  out=out, **kwargs)\n",
            "/usr/local/lib/python3.6/dist-packages/numpy/core/_methods.py:161: RuntimeWarning: invalid value encountered in double_scalars\n",
            "  ret = ret.dtype.type(ret / rcount)\n"
          ],
          "name": "stderr"
        },
        {
          "output_type": "stream",
          "text": [
            "on #3000, epsilon: 0.7500625052087145\n",
            "ep mean -2.1786666666666665\n",
            "on #6000, epsilon: 0.5000416701390725\n",
            "ep mean -2.04\n",
            "on #9000, epsilon: 0.2500208350694305\n",
            "ep mean -1.4506666666666668\n",
            "on #12000, epsilon: -1.451281315175551e-13\n",
            "ep mean -0.5926666666666667\n",
            "on #15000, epsilon: -8.334027850165784e-05\n",
            "ep mean -0.545\n",
            "on #18000, epsilon: -8.334027850165784e-05\n",
            "ep mean -0.31966666666666665\n",
            "on #21000, epsilon: -8.334027850165784e-05\n",
            "ep mean -0.28933333333333333\n"
          ],
          "name": "stdout"
        }
      ]
    },
    {
      "cell_type": "markdown",
      "metadata": {
        "id": "zgaO_X8-TbOV",
        "colab_type": "text"
      },
      "source": [
        "### Visualization of Environment after 3000 Episodes"
      ]
    },
    {
      "cell_type": "code",
      "metadata": {
        "id": "MNAOtfIuTHIg",
        "colab_type": "code",
        "colab": {
          "base_uri": "https://localhost:8080/",
          "height": 421
        },
        "outputId": "70b23eb1-9f53-4f33-f33d-eb337c57e76b"
      },
      "source": [
        "#Status of our environment after 3000 Episodes\n",
        "#code to display ith episode\n",
        "EPISODE = 3000 # can be 0, 3000, 6000, 9000, 12000, 15000, 18000,21000\n",
        "webm = open(str(EPISODE)+'.webm','rb').read()\n",
        "data_url = \"data:video/webm;base64,\" + b64encode(webm).decode()\n",
        "HTML(\"\"\"\n",
        "    <video width=400 height=400 autoplay loop controls>\n",
        "    <source src=\"%s\" type=\"video/webm\">\n",
        "    </video>\n",
        "    \"\"\" % data_url)"
      ],
      "execution_count": 44,
      "outputs": [
        {
          "output_type": "execute_result",
          "data": {
            "text/html": [
              "\n",
              "    <video width=400 height=400 autoplay loop controls>\n",
              "    <source src=\"data:video/webm;base64,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\" type=\"video/webm\">\n",
              "    </video>\n",
              "    "
            ],
            "text/plain": [
              "<IPython.core.display.HTML object>"
            ]
          },
          "metadata": {
            "tags": []
          },
          "execution_count": 44
        }
      ]
    },
    {
      "cell_type": "markdown",
      "metadata": {
        "id": "rm889_J_UkgM",
        "colab_type": "text"
      },
      "source": [
        "### Visualization of Environment after 21000 Episodes"
      ]
    },
    {
      "cell_type": "code",
      "metadata": {
        "id": "R120vodqO3Lu",
        "colab_type": "code",
        "outputId": "c63facfe-7072-44bf-91a7-d43935cbac54",
        "colab": {
          "base_uri": "https://localhost:8080/",
          "height": 421
        }
      },
      "source": [
        "#Status of our environment after 3000 Episodes\n",
        "#code to display ith episode\n",
        "EPISODE = 21000 # can be 0, 3000, 6000, 9000, 12000, 15000, 18000,21000\n",
        "webm = open(str(EPISODE)+'.webm','rb').read()\n",
        "data_url = \"data:video/webm;base64,\" + b64encode(webm).decode()\n",
        "HTML(\"\"\"\n",
        "    <video width=400 height=400 autoplay loop controls>\n",
        "    <source src=\"%s\" type=\"video/webm\">\n",
        "    </video>\n",
        "    \"\"\" % data_url)"
      ],
      "execution_count": 45,
      "outputs": [
        {
          "output_type": "execute_result",
          "data": {
            "text/html": [
              "\n",
              "    <video width=400 height=400 autoplay loop controls>\n",
              "    <source src=\"data:video/webm;base64,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\" type=\"video/webm\">\n",
              "    </video>\n",
              "    "
            ],
            "text/plain": [
              "<IPython.core.display.HTML object>"
            ]
          },
          "metadata": {
            "tags": []
          },
          "execution_count": 45
        }
      ]
    },
    {
      "cell_type": "markdown",
      "metadata": {
        "id": "9U6QF3aizTEN",
        "colab_type": "text"
      },
      "source": [
        "# Deep Q Network (DQN)\n",
        "![alt text](https://github.com/anubhavpatrick/Advanced-Deep-Learning-Workshop/raw/master/dqn.png)"
      ]
    },
    {
      "cell_type": "code",
      "metadata": {
        "id": "F5_O3uKAzTEO",
        "colab_type": "code",
        "colab": {
          "base_uri": "https://localhost:8080/",
          "height": 35
        },
        "outputId": "ae76f734-f9f6-4815-ae58-184a1e28b6e2"
      },
      "source": [
        "import numpy as np\n",
        "import keras.backend.tensorflow_backend as backend\n",
        "from keras.models import Sequential\n",
        "from keras.layers import Dense, Dropout, Conv2D, MaxPooling2D, Activation, Flatten\n",
        "from keras.optimizers import Adam\n",
        "from keras.callbacks import TensorBoard\n",
        "import tensorflow as tf\n",
        "from collections import deque\n",
        "import time\n",
        "import random\n",
        "from tqdm import tqdm\n",
        "import os\n",
        "from PIL import Image\n",
        "import cv2\n",
        "\n",
        "\n",
        "DISCOUNT = 0.99\n",
        "REPLAY_MEMORY_SIZE = 50_000  # How many last steps to keep for model training\n",
        "MIN_REPLAY_MEMORY_SIZE = 1_000  # Minimum number of steps in a memory to start training\n",
        "MINIBATCH_SIZE = 64  # How many steps (samples) to use for training\n",
        "UPDATE_TARGET_EVERY = 5  # Terminal states (end of episodes)\n",
        "MODEL_NAME = '2x256'\n",
        "MIN_REWARD = -200  # For model save\n",
        "MEMORY_FRACTION = 0.20\n",
        "\n",
        "# Environment settings\n",
        "EPISODES = 5_00\n",
        "\n",
        "# Exploration settings\n",
        "epsilon = 1  # not a constant, going to be decayed\n",
        "EPSILON_DECAY = 0.99975\n",
        "MIN_EPSILON = 0.001\n",
        "\n",
        "#  Stats settings\n",
        "AGGREGATE_STATS_EVERY = 10  # episodes\n",
        "SHOW_PREVIEW = True"
      ],
      "execution_count": 46,
      "outputs": [
        {
          "output_type": "stream",
          "text": [
            "Using TensorFlow backend.\n"
          ],
          "name": "stderr"
        }
      ]
    },
    {
      "cell_type": "code",
      "metadata": {
        "id": "vhdLU46XzTER",
        "colab_type": "code",
        "colab": {}
      },
      "source": [
        "#Custom RL Environment Coding\n",
        "class Blob:\n",
        "    def __init__(self, size):\n",
        "        self.size = size\n",
        "        self.x = np.random.randint(0, size)\n",
        "        self.y = np.random.randint(0, size)\n",
        "\n",
        "    def __str__(self):\n",
        "        return f\"Blob ({self.x}, {self.y})\"\n",
        "\n",
        "    def __sub__(self, other):\n",
        "        return (self.x-other.x, self.y-other.y)\n",
        "\n",
        "    def __eq__(self, other):\n",
        "        return self.x == other.x and self.y == other.y\n",
        "\n",
        "    def action(self, choice):\n",
        "        '''\n",
        "        Gives us 9 total movement options. (0,1,2,3,4,5,6,7,8)\n",
        "        '''\n",
        "        if choice == 0:\n",
        "            self.move(x=1, y=1)\n",
        "        elif choice == 1:\n",
        "            self.move(x=-1, y=-1)\n",
        "        elif choice == 2:\n",
        "            self.move(x=-1, y=1)\n",
        "        elif choice == 3:\n",
        "            self.move(x=1, y=-1)\n",
        "\n",
        "        elif choice == 4:\n",
        "            self.move(x=1, y=0)\n",
        "        elif choice == 5:\n",
        "            self.move(x=-1, y=0)\n",
        "\n",
        "        elif choice == 6:\n",
        "            self.move(x=0, y=1)\n",
        "        elif choice == 7:\n",
        "            self.move(x=0, y=-1)\n",
        "\n",
        "        elif choice == 8:\n",
        "            self.move(x=0, y=0)\n",
        "\n",
        "    def move(self, x=False, y=False):\n",
        "\n",
        "        # If no value for x, move randomly\n",
        "        if not x:\n",
        "            self.x += np.random.randint(-1, 2)\n",
        "        else:\n",
        "            self.x += x\n",
        "\n",
        "        # If no value for y, move randomly\n",
        "        if not y:\n",
        "            self.y += np.random.randint(-1, 2)\n",
        "        else:\n",
        "            self.y += y\n",
        "\n",
        "        # If we are out of bounds, fix!\n",
        "        if self.x < 0:\n",
        "            self.x = 0\n",
        "        elif self.x > self.size-1:\n",
        "            self.x = self.size-1\n",
        "        if self.y < 0:\n",
        "            self.y = 0\n",
        "        elif self.y > self.size-1:\n",
        "            self.y = self.size-1\n",
        "\n",
        "\n",
        "class BlobEnv:\n",
        "    SIZE = 10\n",
        "    RETURN_IMAGES = True\n",
        "    MOVE_PENALTY = 1\n",
        "    ENEMY_PENALTY = 300\n",
        "    FOOD_REWARD = 25\n",
        "    OBSERVATION_SPACE_VALUES = (SIZE, SIZE, 3)  # 4\n",
        "    ACTION_SPACE_SIZE = 9\n",
        "    PLAYER_N = 1  # player key in dict\n",
        "    FOOD_N = 2  # food key in dict\n",
        "    ENEMY_N = 3  # enemy key in dict\n",
        "    # the dict! (colors)\n",
        "    d = {1: (0, 0, 255),\n",
        "         2: (0, 255, 0),\n",
        "         3: (255, 0, 0)}\n",
        "\n",
        "    def reset(self):\n",
        "        self.player = Blob(self.SIZE)\n",
        "        self.food = Blob(self.SIZE)\n",
        "        while self.food == self.player:\n",
        "            self.food = Blob(self.SIZE)\n",
        "        self.enemy = Blob(self.SIZE)\n",
        "        while self.enemy == self.player or self.enemy == self.food:\n",
        "            self.enemy = Blob(self.SIZE)\n",
        "\n",
        "        self.episode_step = 0\n",
        "\n",
        "        if self.RETURN_IMAGES:\n",
        "            observation = np.array(self.get_image())\n",
        "        else:\n",
        "            observation = (self.player-self.food) + (self.player-self.enemy)\n",
        "        return observation\n",
        "\n",
        "    def step(self, action):\n",
        "        self.episode_step += 1\n",
        "        self.player.action(action)\n",
        "\n",
        "        \n",
        "\n",
        "        if self.RETURN_IMAGES:\n",
        "            new_observation = np.array(self.get_image())\n",
        "        else:\n",
        "            new_observation = (self.player-self.food) + (self.player-self.enemy)\n",
        "\n",
        "        if self.player == self.enemy:\n",
        "            reward = -self.ENEMY_PENALTY\n",
        "        elif self.player == self.food:\n",
        "            reward = self.FOOD_REWARD\n",
        "        else:\n",
        "            reward = -self.MOVE_PENALTY\n",
        "\n",
        "        done = False\n",
        "        if reward == self.FOOD_REWARD or reward == -self.ENEMY_PENALTY or self.episode_step >= 200:\n",
        "            done = True\n",
        "\n",
        "        return new_observation, reward, done\n",
        "\n",
        "    def render(self):\n",
        "        img = self.get_image()\n",
        "        img = img.resize((300, 300))  # resizing so we can see our agent in all its glory.\n",
        "        #cv2.imshow(\"image\", np.array(img))  # does not work in colab\n",
        "        #cv2.waitKey(1)\n",
        "        return img\n",
        "\n",
        "    # FOR CNN #\n",
        "    def get_image(self):\n",
        "        env = np.zeros((self.SIZE, self.SIZE, 3), dtype=np.uint8)  # starts an rbg of our size\n",
        "        env[self.food.x][self.food.y] = self.d[self.FOOD_N]  # sets the food location tile to green color\n",
        "        env[self.enemy.x][self.enemy.y] = self.d[self.ENEMY_N]  # sets the enemy location to red\n",
        "        env[self.player.x][self.player.y] = self.d[self.PLAYER_N]  # sets the player tile to blue\n",
        "        img = Image.fromarray(env, 'RGB')  # reading to rgb. Apparently. Even tho color definitions are bgr. ???\n",
        "        return img\n",
        "\n",
        "\n",
        "env = BlobEnv()"
      ],
      "execution_count": 0,
      "outputs": []
    },
    {
      "cell_type": "code",
      "metadata": {
        "id": "x0GPzTHBzTET",
        "colab_type": "code",
        "colab": {
          "base_uri": "https://localhost:8080/",
          "height": 1000
        },
        "outputId": "78c432a8-785d-4d2b-834c-6bd0ea53c6b4"
      },
      "source": [
        "#DQN Algorithnm\n",
        "# For stats\n",
        "ep_rewards = [-200]\n",
        "\n",
        "# For more repetitive results\n",
        "random.seed(1)\n",
        "np.random.seed(1)\n",
        "tf.set_random_seed(1)\n",
        "\n",
        "# Memory fraction, used mostly when trai8ning multiple agents\n",
        "#gpu_options = tf.GPUOptions(per_process_gpu_memory_fraction=MEMORY_FRACTION)\n",
        "#backend.set_session(tf.Session(config=tf.ConfigProto(gpu_options=gpu_options)))\n",
        "\n",
        "# Create models folder\n",
        "if not os.path.isdir('models'):\n",
        "    os.makedirs('models')\n",
        "\n",
        "\n",
        "# Own Tensorboard class\n",
        "class ModifiedTensorBoard(TensorBoard):\n",
        "\n",
        "    # Overriding init to set initial step and writer (we want one log file for all .fit() calls)\n",
        "    def __init__(self, **kwargs):\n",
        "        super().__init__(**kwargs)\n",
        "        self.step = 1\n",
        "        self.writer = tf.summary.FileWriter(self.log_dir)\n",
        "\n",
        "    # Overriding this method to stop creating default log writer\n",
        "    def set_model(self, model):\n",
        "        pass\n",
        "\n",
        "    # Overrided, saves logs with our step number\n",
        "    # (otherwise every .fit() will start writing from 0th step)\n",
        "    def on_epoch_end(self, epoch, logs=None):\n",
        "        self.update_stats(**logs)\n",
        "\n",
        "    # Overrided\n",
        "    # We train for one batch only, no need to save anything at epoch end\n",
        "    def on_batch_end(self, batch, logs=None):\n",
        "        pass\n",
        "\n",
        "    # Overrided, so won't close writer\n",
        "    def on_train_end(self, _):\n",
        "        pass\n",
        "\n",
        "    # Custom method for saving own metrics\n",
        "    # Creates writer, writes custom metrics and closes writer\n",
        "    def update_stats(self, **stats):\n",
        "        self._write_logs(stats, self.step)\n",
        "\n",
        "\n",
        "# Agent class\n",
        "class DQNAgent:\n",
        "    def __init__(self):\n",
        "\n",
        "        # Main model\n",
        "        self.model = self.create_model()\n",
        "\n",
        "        # Target network\n",
        "        self.target_model = self.create_model()\n",
        "        self.target_model.set_weights(self.model.get_weights())\n",
        "\n",
        "        # An array with last n steps for training\n",
        "        self.replay_memory = deque(maxlen=REPLAY_MEMORY_SIZE)\n",
        "\n",
        "        # Custom tensorboard object\n",
        "        self.tensorboard = ModifiedTensorBoard(log_dir=\"logs/{}-{}\".format(MODEL_NAME, int(time.time())))\n",
        "\n",
        "        # Used to count when to update target network with main network's weights\n",
        "        self.target_update_counter = 0\n",
        "\n",
        "    def create_model(self):\n",
        "        model = Sequential()\n",
        "\n",
        "        model.add(Conv2D(256, (3, 3), input_shape=env.OBSERVATION_SPACE_VALUES))  # OBSERVATION_SPACE_VALUES = (10, 10, 3) a 10x10 RGB image.\n",
        "        model.add(Activation('relu'))\n",
        "        model.add(MaxPooling2D(pool_size=(2, 2)))\n",
        "        model.add(Dropout(0.2))\n",
        "\n",
        "        model.add(Conv2D(256, (3, 3)))\n",
        "        model.add(Activation('relu'))\n",
        "        model.add(MaxPooling2D(pool_size=(2, 2)))\n",
        "        model.add(Dropout(0.2))\n",
        "\n",
        "        model.add(Flatten())  # this converts our 3D feature maps to 1D feature vectors\n",
        "        model.add(Dense(64))\n",
        "\n",
        "        model.add(Dense(env.ACTION_SPACE_SIZE, activation='linear'))  # ACTION_SPACE_SIZE = how many choices (9)\n",
        "        model.compile(loss=\"mse\", optimizer=Adam(lr=0.001), metrics=['accuracy'])\n",
        "        return model\n",
        "\n",
        "    # Adds step's data to a memory replay array\n",
        "    # (observation space, action, reward, new observation space, done)\n",
        "    def update_replay_memory(self, transition):\n",
        "        self.replay_memory.append(transition)\n",
        "\n",
        "    # Trains main network every step during episode\n",
        "    def train(self, terminal_state, step):\n",
        "\n",
        "        # Start training only if certain number of samples is already saved\n",
        "        if len(self.replay_memory) < MIN_REPLAY_MEMORY_SIZE:\n",
        "            return\n",
        "\n",
        "        # Get a minibatch of random samples from memory replay table\n",
        "        minibatch = random.sample(self.replay_memory, MINIBATCH_SIZE)\n",
        "\n",
        "        # Get current states from minibatch, then query NN model for Q values\n",
        "        current_states = np.array([transition[0] for transition in minibatch])/255\n",
        "        current_qs_list = self.model.predict(current_states)\n",
        "\n",
        "        # Get future states from minibatch, then query NN model for Q values\n",
        "        # When using target network, query it, otherwise main network should be queried\n",
        "        new_current_states = np.array([transition[3] for transition in minibatch])/255\n",
        "        future_qs_list = self.target_model.predict(new_current_states)\n",
        "\n",
        "        X = []\n",
        "        y = []\n",
        "\n",
        "        # Now we need to enumerate our batches\n",
        "        for index, (current_state, action, reward, new_current_state, done) in enumerate(minibatch):\n",
        "\n",
        "            # If not a terminal state, get new q from future states, otherwise set it to 0\n",
        "            # almost like with Q Learning, but we use just part of equation here\n",
        "            if not done:\n",
        "                max_future_q = np.max(future_qs_list[index])\n",
        "                new_q = reward + DISCOUNT * max_future_q\n",
        "            else:\n",
        "                new_q = reward\n",
        "\n",
        "            # Update Q value for given state\n",
        "            current_qs = current_qs_list[index]\n",
        "            current_qs[action] = new_q\n",
        "\n",
        "            # And append to our training data\n",
        "            X.append(current_state)\n",
        "            y.append(current_qs)\n",
        "\n",
        "        # Fit on all samples as one batch, log only on terminal state\n",
        "        self.model.fit(np.array(X)/255, np.array(y), batch_size=MINIBATCH_SIZE, verbose=0, shuffle=False, callbacks=[self.tensorboard] if terminal_state else None)\n",
        "\n",
        "        # Update target network counter every episode\n",
        "        if terminal_state:\n",
        "            self.target_update_counter += 1\n",
        "\n",
        "        # If counter reaches set value, update target network with weights of main network\n",
        "        if self.target_update_counter > UPDATE_TARGET_EVERY:\n",
        "            self.target_model.set_weights(self.model.get_weights())\n",
        "            self.target_update_counter = 0\n",
        "\n",
        "    # Queries main network for Q values given current observation space (environment state)\n",
        "    def get_qs(self, state):\n",
        "        return self.model.predict(np.array(state).reshape(-1, *state.shape)/255)[0]\n",
        "\n",
        "\n",
        "agent = DQNAgent()\n",
        "\n",
        "# Iterate over episodes\n",
        "for episode in tqdm(range(1, EPISODES + 1), ascii=True, unit='episodes'):\n",
        "\n",
        "    pathOut = f'{episode}dqn.webm'#to hold files for rendering the environment\n",
        "    img_frame = [] #to hold all different images of our environment\n",
        "    # Update tensorboard step every episode\n",
        "    agent.tensorboard.step = episode\n",
        "\n",
        "    # Restarting episode - reset episode reward and step number\n",
        "    episode_reward = 0\n",
        "    step = 1\n",
        "\n",
        "    # Reset environment and get initial state\n",
        "    current_state = env.reset()\n",
        "\n",
        "    # Reset flag and start iterating until episode ends\n",
        "    done = False\n",
        "    while not done:\n",
        "\n",
        "        # This part stays mostly the same, the change is to query a model for Q values\n",
        "        if np.random.random() > epsilon:\n",
        "            # Get action from Q table\n",
        "            action = np.argmax(agent.get_qs(current_state))\n",
        "        else:\n",
        "            # Get random action\n",
        "            action = np.random.randint(0, env.ACTION_SPACE_SIZE)\n",
        "\n",
        "        new_state, reward, done = env.step(action)\n",
        "\n",
        "        # Transform new continous state to new discrete state and count reward\n",
        "        episode_reward += reward\n",
        "\n",
        "        if SHOW_PREVIEW and not episode % AGGREGATE_STATS_EVERY:\n",
        "            #env.render() #does not work in colab\n",
        "            img_array=np.asarray(env.render())\n",
        "            \n",
        "            #replicate each frame 3 times so that rendering will display each frame longer\n",
        "            img_frame.append(img_array)\n",
        "            img_frame.append(img_array)\n",
        "            img_frame.append(img_array)\n",
        "\n",
        "\n",
        "        # Every step we update replay memory and train main network\n",
        "        agent.update_replay_memory((current_state, action, reward, new_state, done))\n",
        "        agent.train(done, step)\n",
        "\n",
        "        current_state = new_state\n",
        "        step += 1\n",
        "\n",
        "    # Append episode reward to a list and log stats (every given number of episodes)\n",
        "    ep_rewards.append(episode_reward)\n",
        "    if not episode % AGGREGATE_STATS_EVERY or episode == 1:\n",
        "        average_reward = sum(ep_rewards[-AGGREGATE_STATS_EVERY:])/len(ep_rewards[-AGGREGATE_STATS_EVERY:])\n",
        "        min_reward = min(ep_rewards[-AGGREGATE_STATS_EVERY:])\n",
        "        max_reward = max(ep_rewards[-AGGREGATE_STATS_EVERY:])\n",
        "        agent.tensorboard.update_stats(reward_avg=average_reward, reward_min=min_reward, reward_max=max_reward, epsilon=epsilon)\n",
        "\n",
        "        # Save model, but only when min reward is greater or equal a set value\n",
        "        if min_reward >= MIN_REWARD:\n",
        "            agent.model.save(f'models/{MODEL_NAME}__{max_reward:_>7.2f}max_{average_reward:_>7.2f}avg_{min_reward:_>7.2f}min__{int(time.time())}.model')\n",
        "\n",
        "    #Writing the visualization as video file\n",
        "    if SHOW_PREVIEW and not episode % AGGREGATE_STATS_EVERY:\n",
        "        out = cv2.VideoWriter(pathOut,cv2.VideoWriter_fourcc(*'VP80'), 25, (300,300))\n",
        "        for i in range(len(img_frame)):\n",
        "            # writing to a image array\n",
        "            out.write(img_frame[i])\n",
        "        out.release()\n",
        "\n",
        "    # Decay epsilon\n",
        "    if epsilon > MIN_EPSILON:\n",
        "        epsilon *= EPSILON_DECAY\n",
        "        epsilon = max(MIN_EPSILON, epsilon)"
      ],
      "execution_count": 69,
      "outputs": [
        {
          "output_type": "stream",
          "text": [
            "\n",
            "\n",
            "  0%|          | 0/5000 [00:00<?, ?episodes/s]\u001b[A\u001b[A\n",
            "\n",
            "  0%|          | 1/5000 [00:00<12:38,  6.59episodes/s]\u001b[A\u001b[A\n",
            "\n",
            "  0%|          | 7/5000 [00:00<09:21,  8.89episodes/s]\u001b[A\u001b[A\n",
            "\n",
            "  0%|          | 10/5000 [00:00<10:31,  7.90episodes/s]\u001b[A\u001b[A\n",
            "\n",
            "  0%|          | 12/5000 [00:03<40:23,  2.06episodes/s]\u001b[A\u001b[A\n",
            "\n",
            "  0%|          | 13/5000 [00:04<1:04:46,  1.28episodes/s]\u001b[A\u001b[A\n",
            "\n",
            "  0%|          | 14/5000 [00:05<57:18,  1.45episodes/s]  \u001b[A\u001b[A\n",
            "\n",
            "  0%|          | 15/5000 [00:05<44:24,  1.87episodes/s]\u001b[A\u001b[A\n",
            "\n",
            "  0%|          | 16/5000 [00:07<1:26:05,  1.04s/episodes]\u001b[A\u001b[A\n",
            "\n",
            "  0%|          | 17/5000 [00:12<2:51:04,  2.06s/episodes]\u001b[A\u001b[A\n",
            "\n",
            "  0%|          | 18/5000 [00:14<2:59:17,  2.16s/episodes]\u001b[A\u001b[A\n",
            "\n",
            "  0%|          | 19/5000 [00:15<2:37:20,  1.90s/episodes]\u001b[A\u001b[A\n",
            "\n",
            "  0%|          | 20/5000 [00:15<1:52:56,  1.36s/episodes]\u001b[A\u001b[A\n",
            "\n",
            "  0%|          | 21/5000 [00:17<2:09:32,  1.56s/episodes]\u001b[A\u001b[A\n",
            "\n",
            "  0%|          | 22/5000 [00:19<1:57:39,  1.42s/episodes]\u001b[A\u001b[A\n",
            "\n",
            "  0%|          | 23/5000 [00:20<1:59:57,  1.45s/episodes]\u001b[A\u001b[A\n",
            "\n",
            "  0%|          | 24/5000 [00:20<1:33:42,  1.13s/episodes]\u001b[A\u001b[A\n",
            "\n",
            "  0%|          | 25/5000 [00:21<1:14:17,  1.12episodes/s]\u001b[A\u001b[A\n",
            "\n",
            "  1%|          | 26/5000 [00:23<1:46:51,  1.29s/episodes]\u001b[A\u001b[A\n",
            "\n",
            "  1%|          | 27/5000 [00:24<1:27:27,  1.06s/episodes]\u001b[A\u001b[A\n",
            "\n",
            "  1%|          | 29/5000 [00:24<1:03:01,  1.31episodes/s]\u001b[A\u001b[A\n",
            "\n",
            "  1%|          | 30/5000 [00:30<3:12:37,  2.33s/episodes]\u001b[A\u001b[A\n",
            "\n",
            "  1%|          | 31/5000 [00:30<2:32:49,  1.85s/episodes]\u001b[A\u001b[A\n",
            "\n",
            "  1%|          | 32/5000 [00:32<2:15:43,  1.64s/episodes]\u001b[A\u001b[A\n",
            "\n",
            "  1%|          | 33/5000 [00:33<2:01:13,  1.46s/episodes]\u001b[A\u001b[A\n",
            "\n",
            "  1%|          | 34/5000 [00:33<1:28:59,  1.08s/episodes]\u001b[A\u001b[A\n",
            "\n",
            "  1%|          | 35/5000 [00:36<2:18:31,  1.67s/episodes]\u001b[A\u001b[A\n",
            "\n",
            "  1%|          | 36/5000 [00:38<2:18:25,  1.67s/episodes]\u001b[A\u001b[A\n",
            "\n",
            "  1%|          | 37/5000 [00:38<1:49:11,  1.32s/episodes]\u001b[A\u001b[A\n",
            "\n",
            "  1%|          | 38/5000 [00:39<1:37:43,  1.18s/episodes]\u001b[A\u001b[A\n",
            "\n",
            "  1%|          | 39/5000 [00:42<2:23:38,  1.74s/episodes]\u001b[A\u001b[A\n",
            "\n",
            "  1%|          | 40/5000 [00:44<2:33:40,  1.86s/episodes]\u001b[A\u001b[A"
          ],
          "name": "stderr"
        },
        {
          "output_type": "error",
          "ename": "KeyboardInterrupt",
          "evalue": "ignored",
          "traceback": [
            "\u001b[0;31m---------------------------------------------------------------------------\u001b[0m",
            "\u001b[0;31mKeyboardInterrupt\u001b[0m                         Traceback (most recent call last)",
            "\u001b[0;32m<ipython-input-69-c1f1482eb460>\u001b[0m in \u001b[0;36m<module>\u001b[0;34m()\u001b[0m\n\u001b[1;32m    197\u001b[0m         \u001b[0;31m# Every step we update replay memory and train main network\u001b[0m\u001b[0;34m\u001b[0m\u001b[0;34m\u001b[0m\u001b[0;34m\u001b[0m\u001b[0m\n\u001b[1;32m    198\u001b[0m         \u001b[0magent\u001b[0m\u001b[0;34m.\u001b[0m\u001b[0mupdate_replay_memory\u001b[0m\u001b[0;34m(\u001b[0m\u001b[0;34m(\u001b[0m\u001b[0mcurrent_state\u001b[0m\u001b[0;34m,\u001b[0m \u001b[0maction\u001b[0m\u001b[0;34m,\u001b[0m \u001b[0mreward\u001b[0m\u001b[0;34m,\u001b[0m \u001b[0mnew_state\u001b[0m\u001b[0;34m,\u001b[0m \u001b[0mdone\u001b[0m\u001b[0;34m)\u001b[0m\u001b[0;34m)\u001b[0m\u001b[0;34m\u001b[0m\u001b[0;34m\u001b[0m\u001b[0m\n\u001b[0;32m--> 199\u001b[0;31m         \u001b[0magent\u001b[0m\u001b[0;34m.\u001b[0m\u001b[0mtrain\u001b[0m\u001b[0;34m(\u001b[0m\u001b[0mdone\u001b[0m\u001b[0;34m,\u001b[0m \u001b[0mstep\u001b[0m\u001b[0;34m)\u001b[0m\u001b[0;34m\u001b[0m\u001b[0;34m\u001b[0m\u001b[0m\n\u001b[0m\u001b[1;32m    200\u001b[0m \u001b[0;34m\u001b[0m\u001b[0m\n\u001b[1;32m    201\u001b[0m         \u001b[0mcurrent_state\u001b[0m \u001b[0;34m=\u001b[0m \u001b[0mnew_state\u001b[0m\u001b[0;34m\u001b[0m\u001b[0;34m\u001b[0m\u001b[0m\n",
            "\u001b[0;32m<ipython-input-69-c1f1482eb460>\u001b[0m in \u001b[0;36mtrain\u001b[0;34m(self, terminal_state, step)\u001b[0m\n\u001b[1;32m    105\u001b[0m         \u001b[0;31m# Get current states from minibatch, then query NN model for Q values\u001b[0m\u001b[0;34m\u001b[0m\u001b[0;34m\u001b[0m\u001b[0;34m\u001b[0m\u001b[0m\n\u001b[1;32m    106\u001b[0m         \u001b[0mcurrent_states\u001b[0m \u001b[0;34m=\u001b[0m \u001b[0mnp\u001b[0m\u001b[0;34m.\u001b[0m\u001b[0marray\u001b[0m\u001b[0;34m(\u001b[0m\u001b[0;34m[\u001b[0m\u001b[0mtransition\u001b[0m\u001b[0;34m[\u001b[0m\u001b[0;36m0\u001b[0m\u001b[0;34m]\u001b[0m \u001b[0;32mfor\u001b[0m \u001b[0mtransition\u001b[0m \u001b[0;32min\u001b[0m \u001b[0mminibatch\u001b[0m\u001b[0;34m]\u001b[0m\u001b[0;34m)\u001b[0m\u001b[0;34m/\u001b[0m\u001b[0;36m255\u001b[0m\u001b[0;34m\u001b[0m\u001b[0;34m\u001b[0m\u001b[0m\n\u001b[0;32m--> 107\u001b[0;31m         \u001b[0mcurrent_qs_list\u001b[0m \u001b[0;34m=\u001b[0m \u001b[0mself\u001b[0m\u001b[0;34m.\u001b[0m\u001b[0mmodel\u001b[0m\u001b[0;34m.\u001b[0m\u001b[0mpredict\u001b[0m\u001b[0;34m(\u001b[0m\u001b[0mcurrent_states\u001b[0m\u001b[0;34m)\u001b[0m\u001b[0;34m\u001b[0m\u001b[0;34m\u001b[0m\u001b[0m\n\u001b[0m\u001b[1;32m    108\u001b[0m \u001b[0;34m\u001b[0m\u001b[0m\n\u001b[1;32m    109\u001b[0m         \u001b[0;31m# Get future states from minibatch, then query NN model for Q values\u001b[0m\u001b[0;34m\u001b[0m\u001b[0;34m\u001b[0m\u001b[0;34m\u001b[0m\u001b[0m\n",
            "\u001b[0;32m/usr/local/lib/python3.6/dist-packages/keras/engine/training.py\u001b[0m in \u001b[0;36mpredict\u001b[0;34m(self, x, batch_size, verbose, steps, callbacks, max_queue_size, workers, use_multiprocessing)\u001b[0m\n\u001b[1;32m   1399\u001b[0m                                             \u001b[0mverbose\u001b[0m\u001b[0;34m=\u001b[0m\u001b[0mverbose\u001b[0m\u001b[0;34m,\u001b[0m\u001b[0;34m\u001b[0m\u001b[0;34m\u001b[0m\u001b[0m\n\u001b[1;32m   1400\u001b[0m                                             \u001b[0msteps\u001b[0m\u001b[0;34m=\u001b[0m\u001b[0msteps\u001b[0m\u001b[0;34m,\u001b[0m\u001b[0;34m\u001b[0m\u001b[0;34m\u001b[0m\u001b[0m\n\u001b[0;32m-> 1401\u001b[0;31m                                             callbacks=callbacks)\n\u001b[0m\u001b[1;32m   1402\u001b[0m \u001b[0;34m\u001b[0m\u001b[0m\n\u001b[1;32m   1403\u001b[0m     def train_on_batch(self, x, y,\n",
            "\u001b[0;32m/usr/local/lib/python3.6/dist-packages/keras/engine/training_arrays.py\u001b[0m in \u001b[0;36mpredict_loop\u001b[0;34m(model, f, ins, batch_size, verbose, steps, callbacks)\u001b[0m\n\u001b[1;32m    330\u001b[0m             \u001b[0mbatch_logs\u001b[0m \u001b[0;34m=\u001b[0m \u001b[0;34m{\u001b[0m\u001b[0;34m'batch'\u001b[0m\u001b[0;34m:\u001b[0m \u001b[0mbatch_index\u001b[0m\u001b[0;34m,\u001b[0m \u001b[0;34m'size'\u001b[0m\u001b[0;34m:\u001b[0m \u001b[0mlen\u001b[0m\u001b[0;34m(\u001b[0m\u001b[0mbatch_ids\u001b[0m\u001b[0;34m)\u001b[0m\u001b[0;34m}\u001b[0m\u001b[0;34m\u001b[0m\u001b[0;34m\u001b[0m\u001b[0m\n\u001b[1;32m    331\u001b[0m             \u001b[0mcallbacks\u001b[0m\u001b[0;34m.\u001b[0m\u001b[0m_call_batch_hook\u001b[0m\u001b[0;34m(\u001b[0m\u001b[0;34m'predict'\u001b[0m\u001b[0;34m,\u001b[0m \u001b[0;34m'begin'\u001b[0m\u001b[0;34m,\u001b[0m \u001b[0mbatch_index\u001b[0m\u001b[0;34m,\u001b[0m \u001b[0mbatch_logs\u001b[0m\u001b[0;34m)\u001b[0m\u001b[0;34m\u001b[0m\u001b[0;34m\u001b[0m\u001b[0m\n\u001b[0;32m--> 332\u001b[0;31m             \u001b[0mbatch_outs\u001b[0m \u001b[0;34m=\u001b[0m \u001b[0mf\u001b[0m\u001b[0;34m(\u001b[0m\u001b[0mins_batch\u001b[0m\u001b[0;34m)\u001b[0m\u001b[0;34m\u001b[0m\u001b[0;34m\u001b[0m\u001b[0m\n\u001b[0m\u001b[1;32m    333\u001b[0m             \u001b[0mbatch_outs\u001b[0m \u001b[0;34m=\u001b[0m \u001b[0mto_list\u001b[0m\u001b[0;34m(\u001b[0m\u001b[0mbatch_outs\u001b[0m\u001b[0;34m)\u001b[0m\u001b[0;34m\u001b[0m\u001b[0;34m\u001b[0m\u001b[0m\n\u001b[1;32m    334\u001b[0m             \u001b[0;32mif\u001b[0m \u001b[0mbatch_index\u001b[0m \u001b[0;34m==\u001b[0m \u001b[0;36m0\u001b[0m\u001b[0;34m:\u001b[0m\u001b[0;34m\u001b[0m\u001b[0;34m\u001b[0m\u001b[0m\n",
            "\u001b[0;32m/usr/local/lib/python3.6/dist-packages/keras/backend/tensorflow_backend.py\u001b[0m in \u001b[0;36m__call__\u001b[0;34m(self, inputs)\u001b[0m\n\u001b[1;32m   2977\u001b[0m                     \u001b[0;32mreturn\u001b[0m \u001b[0mself\u001b[0m\u001b[0;34m.\u001b[0m\u001b[0m_legacy_call\u001b[0m\u001b[0;34m(\u001b[0m\u001b[0minputs\u001b[0m\u001b[0;34m)\u001b[0m\u001b[0;34m\u001b[0m\u001b[0;34m\u001b[0m\u001b[0m\n\u001b[1;32m   2978\u001b[0m \u001b[0;34m\u001b[0m\u001b[0m\n\u001b[0;32m-> 2979\u001b[0;31m             \u001b[0;32mreturn\u001b[0m \u001b[0mself\u001b[0m\u001b[0;34m.\u001b[0m\u001b[0m_call\u001b[0m\u001b[0;34m(\u001b[0m\u001b[0minputs\u001b[0m\u001b[0;34m)\u001b[0m\u001b[0;34m\u001b[0m\u001b[0;34m\u001b[0m\u001b[0m\n\u001b[0m\u001b[1;32m   2980\u001b[0m         \u001b[0;32melse\u001b[0m\u001b[0;34m:\u001b[0m\u001b[0;34m\u001b[0m\u001b[0;34m\u001b[0m\u001b[0m\n\u001b[1;32m   2981\u001b[0m             \u001b[0;32mif\u001b[0m \u001b[0mpy_any\u001b[0m\u001b[0;34m(\u001b[0m\u001b[0mis_tensor\u001b[0m\u001b[0;34m(\u001b[0m\u001b[0mx\u001b[0m\u001b[0;34m)\u001b[0m \u001b[0;32mfor\u001b[0m \u001b[0mx\u001b[0m \u001b[0;32min\u001b[0m \u001b[0minputs\u001b[0m\u001b[0;34m)\u001b[0m\u001b[0;34m:\u001b[0m\u001b[0;34m\u001b[0m\u001b[0;34m\u001b[0m\u001b[0m\n",
            "\u001b[0;32m/usr/local/lib/python3.6/dist-packages/keras/backend/tensorflow_backend.py\u001b[0m in \u001b[0;36m_call\u001b[0;34m(self, inputs)\u001b[0m\n\u001b[1;32m   2935\u001b[0m             \u001b[0mfetched\u001b[0m \u001b[0;34m=\u001b[0m \u001b[0mself\u001b[0m\u001b[0;34m.\u001b[0m\u001b[0m_callable_fn\u001b[0m\u001b[0;34m(\u001b[0m\u001b[0;34m*\u001b[0m\u001b[0marray_vals\u001b[0m\u001b[0;34m,\u001b[0m \u001b[0mrun_metadata\u001b[0m\u001b[0;34m=\u001b[0m\u001b[0mself\u001b[0m\u001b[0;34m.\u001b[0m\u001b[0mrun_metadata\u001b[0m\u001b[0;34m)\u001b[0m\u001b[0;34m\u001b[0m\u001b[0;34m\u001b[0m\u001b[0m\n\u001b[1;32m   2936\u001b[0m         \u001b[0;32melse\u001b[0m\u001b[0;34m:\u001b[0m\u001b[0;34m\u001b[0m\u001b[0;34m\u001b[0m\u001b[0m\n\u001b[0;32m-> 2937\u001b[0;31m             \u001b[0mfetched\u001b[0m \u001b[0;34m=\u001b[0m \u001b[0mself\u001b[0m\u001b[0;34m.\u001b[0m\u001b[0m_callable_fn\u001b[0m\u001b[0;34m(\u001b[0m\u001b[0;34m*\u001b[0m\u001b[0marray_vals\u001b[0m\u001b[0;34m)\u001b[0m\u001b[0;34m\u001b[0m\u001b[0;34m\u001b[0m\u001b[0m\n\u001b[0m\u001b[1;32m   2938\u001b[0m         \u001b[0;32mreturn\u001b[0m \u001b[0mfetched\u001b[0m\u001b[0;34m[\u001b[0m\u001b[0;34m:\u001b[0m\u001b[0mlen\u001b[0m\u001b[0;34m(\u001b[0m\u001b[0mself\u001b[0m\u001b[0;34m.\u001b[0m\u001b[0moutputs\u001b[0m\u001b[0;34m)\u001b[0m\u001b[0;34m]\u001b[0m\u001b[0;34m\u001b[0m\u001b[0;34m\u001b[0m\u001b[0m\n\u001b[1;32m   2939\u001b[0m \u001b[0;34m\u001b[0m\u001b[0m\n",
            "\u001b[0;32m/usr/local/lib/python3.6/dist-packages/tensorflow_core/python/client/session.py\u001b[0m in \u001b[0;36m__call__\u001b[0;34m(self, *args, **kwargs)\u001b[0m\n\u001b[1;32m   1470\u001b[0m         ret = tf_session.TF_SessionRunCallable(self._session._session,\n\u001b[1;32m   1471\u001b[0m                                                \u001b[0mself\u001b[0m\u001b[0;34m.\u001b[0m\u001b[0m_handle\u001b[0m\u001b[0;34m,\u001b[0m \u001b[0margs\u001b[0m\u001b[0;34m,\u001b[0m\u001b[0;34m\u001b[0m\u001b[0;34m\u001b[0m\u001b[0m\n\u001b[0;32m-> 1472\u001b[0;31m                                                run_metadata_ptr)\n\u001b[0m\u001b[1;32m   1473\u001b[0m         \u001b[0;32mif\u001b[0m \u001b[0mrun_metadata\u001b[0m\u001b[0;34m:\u001b[0m\u001b[0;34m\u001b[0m\u001b[0;34m\u001b[0m\u001b[0m\n\u001b[1;32m   1474\u001b[0m           \u001b[0mproto_data\u001b[0m \u001b[0;34m=\u001b[0m \u001b[0mtf_session\u001b[0m\u001b[0;34m.\u001b[0m\u001b[0mTF_GetBuffer\u001b[0m\u001b[0;34m(\u001b[0m\u001b[0mrun_metadata_ptr\u001b[0m\u001b[0;34m)\u001b[0m\u001b[0;34m\u001b[0m\u001b[0;34m\u001b[0m\u001b[0m\n",
            "\u001b[0;31mKeyboardInterrupt\u001b[0m: "
          ]
        }
      ]
    },
    {
      "cell_type": "markdown",
      "metadata": {
        "id": "9oREf-Xbf_o2",
        "colab_type": "text"
      },
      "source": [
        "### Visualization of Environment after 10 Episodes\n",
        "\n",
        "\n"
      ]
    },
    {
      "cell_type": "code",
      "metadata": {
        "id": "sD8iDKJ_flNK",
        "colab_type": "code",
        "colab": {
          "base_uri": "https://localhost:8080/",
          "height": 321
        },
        "outputId": "cb912e3c-155f-42fd-98b7-de2ce1be3f6b"
      },
      "source": [
        "#Status of our environment after 10 Episodes\n",
        "#code to display ith episode\n",
        "EPISODE = 10 # can be 0, 20, 30, 40 ........5000 \n",
        "webm = open(str(EPISODE)+'dqn.webm','rb').read()\n",
        "data_url = \"data:video/webm;base64,\" + b64encode(webm).decode()\n",
        "HTML(\"\"\"\n",
        "    <video width=300 height=300 autoplay loop controls>\n",
        "    <source src=\"%s\" type=\"video/webm\">\n",
        "    </video>\n",
        "    \"\"\" % data_url)"
      ],
      "execution_count": 70,
      "outputs": [
        {
          "output_type": "execute_result",
          "data": {
            "text/html": [
              "\n",
              "    <video width=300 height=300 autoplay loop controls>\n",
              "    <source src=\"data:video/webm;base64,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\" type=\"video/webm\">\n",
              "    </video>\n",
              "    "
            ],
            "text/plain": [
              "<IPython.core.display.HTML object>"
            ]
          },
          "metadata": {
            "tags": []
          },
          "execution_count": 70
        }
      ]
    },
    {
      "cell_type": "markdown",
      "metadata": {
        "id": "iX6tBL34gXfW",
        "colab_type": "text"
      },
      "source": [
        "### Visualization of Environment after 100 Episodes\n"
      ]
    },
    {
      "cell_type": "code",
      "metadata": {
        "id": "0KrdMZlnf-3l",
        "colab_type": "code",
        "colab": {
          "base_uri": "https://localhost:8080/",
          "height": 321
        },
        "outputId": "9ee3e785-d7b5-469d-d0e0-63ac630aa578"
      },
      "source": [
        "#Status of our environment after 10 Episodes\n",
        "#code to display ith episode\n",
        "EPISODE = 100 # can be 0, 20, 30, 40 ........5000 \n",
        "webm = open(str(EPISODE)+'dqn.webm','rb').read()\n",
        "data_url = \"data:video/webm;base64,\" + b64encode(webm).decode()\n",
        "HTML(\"\"\"\n",
        "    <video width=300 height=300 autoplay loop controls>\n",
        "    <source src=\"%s\" type=\"video/webm\">\n",
        "    </video>\n",
        "    \"\"\" % data_url)"
      ],
      "execution_count": 67,
      "outputs": [
        {
          "output_type": "execute_result",
          "data": {
            "text/html": [
              "\n",
              "    <video width=300 height=300 autoplay loop controls>\n",
              "    <source src=\"data:video/webm;base64,GkXfowEAAAAAAAAfQoaBAUL3gQFC8oEEQvOBCEKChHdlYm1Ch4ECQoWBAhhTgGcBAAAAAAAB9BFNm3RALE27i1OrhBVJqWZTrIHlTbuMU6uEFlSua1OsggEjTbuMU6uEElTDZ1OsggFs7AEAAAAAAACqAAAAAAAAAAAAAAAAAAAAAAAAAAAAAAAAAAAAAAAAAAAAAAAAAAAAAAAAAAAAAAAAAAAAAAAAAAAAAAAAAAAAAAAAAAAAAAAAAAAAAAAAAAAAAAAAAAAAAAAAAAAAAAAAAAAAAAAAAAAAAAAAAAAAAAAAAAAAAAAAAAAAAAAAAAAAAAAAAAAAAAAAAAAAAAAAAAAAAAAAAAAAAAAAAAAAAAAAAAAAAAAAAAAVSalmAQAAAAAAADIq17GDD0JATYCNTGF2ZjU4LjE3LjEwMVdBjUxhdmY1OC4xNy4xMDFEiYgAAAAAAAAAABZUrmsBAAAAAAAAPa4BAAAAAAAANNeBAXPFgQGcgQAitZyDdW5khoVWX1ZQOIOBASPjg4QCYloA4AEAAAAAAAAIsIIBkLqCAZASVMNnAQAAAAAAAHxzcwEAAAAAAAAuY8ABAAAAAAAAAGfIAQAAAAAAABpFo4dFTkNPREVSRIeNTGF2ZjU4LjE3LjEwMXNzAQAAAAAAADpjwAEAAAAAAAAEY8WBAWfIAQAAAAAAACJFo4hEVVJBVElPTkSHlDAwOjAwOjAwLjAwMDAwMDAwMAAA\" type=\"video/webm\">\n",
              "    </video>\n",
              "    "
            ],
            "text/plain": [
              "<IPython.core.display.HTML object>"
            ]
          },
          "metadata": {
            "tags": []
          },
          "execution_count": 67
        }
      ]
    },
    {
      "cell_type": "code",
      "metadata": {
        "id": "wjVHcGC7i58_",
        "colab_type": "code",
        "colab": {}
      },
      "source": [
        "!rm *webm"
      ],
      "execution_count": 0,
      "outputs": []
    },
    {
      "cell_type": "code",
      "metadata": {
        "id": "FpFm8rzHjCs2",
        "colab_type": "code",
        "colab": {}
      },
      "source": [
        ""
      ],
      "execution_count": 0,
      "outputs": []
    }
  ]
}