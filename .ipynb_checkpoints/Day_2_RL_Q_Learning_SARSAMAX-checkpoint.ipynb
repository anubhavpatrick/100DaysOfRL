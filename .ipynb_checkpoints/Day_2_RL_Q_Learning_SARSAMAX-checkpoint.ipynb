{
 "cells": [
  {
   "cell_type": "code",
   "execution_count": 1,
   "metadata": {
    "colab": {
     "base_uri": "https://localhost:8080/",
     "height": 228
    },
    "colab_type": "code",
    "id": "boWDpbXsHWTY",
    "outputId": "697136fc-87ef-4e25-ca0e-5574bd6f7508"
   },
   "outputs": [
    {
     "name": "stdout",
     "output_type": "stream",
     "text": [
      "Requirement already satisfied: gym in /Users/anubhavpatrick/miniconda3/envs/style-transfer/lib/python3.7/site-packages (0.15.3)\n",
      "Requirement already satisfied: numpy>=1.10.4 in /Users/anubhavpatrick/miniconda3/envs/style-transfer/lib/python3.7/site-packages (from gym) (1.17.2)\n",
      "Requirement already satisfied: scipy in /Users/anubhavpatrick/miniconda3/envs/style-transfer/lib/python3.7/site-packages (from gym) (1.1.0)\n",
      "Requirement already satisfied: pyglet<=1.3.2,>=1.2.0 in /Users/anubhavpatrick/miniconda3/envs/style-transfer/lib/python3.7/site-packages (from gym) (1.3.2)\n",
      "Requirement already satisfied: six in /Users/anubhavpatrick/miniconda3/envs/style-transfer/lib/python3.7/site-packages (from gym) (1.12.0)\n",
      "Requirement already satisfied: cloudpickle~=1.2.0 in /Users/anubhavpatrick/miniconda3/envs/style-transfer/lib/python3.7/site-packages (from gym) (1.2.2)\n",
      "Requirement already satisfied: future in /Users/anubhavpatrick/miniconda3/envs/style-transfer/lib/python3.7/site-packages (from pyglet<=1.3.2,>=1.2.0->gym) (0.18.1)\n"
     ]
    }
   ],
   "source": [
    "#Reference => sentdex tutorial on Youtube\n",
    "!pip install gym #already installed"
   ]
  },
  {
   "cell_type": "code",
   "execution_count": 2,
   "metadata": {
    "colab": {
     "base_uri": "https://localhost:8080/",
     "height": 35
    },
    "colab_type": "code",
    "id": "b8jAVyvSH4-F",
    "outputId": "f3c3d8e7-8dd9-435c-d391-c025cd1c13f5"
   },
   "outputs": [
    {
     "data": {
      "text/plain": [
       "array([-0.41462989,  0.        ])"
      ]
     },
     "execution_count": 2,
     "metadata": {},
     "output_type": "execute_result"
    }
   ],
   "source": [
    "import gym\n",
    "env = gym.make('MountainCar-v0') #for discription https://github.com/openai/gym/wiki/MountainCar-v0\n",
    "env.reset()"
   ]
  },
  {
   "cell_type": "code",
   "execution_count": 3,
   "metadata": {
    "colab": {
     "base_uri": "https://localhost:8080/",
     "height": 381
    },
    "colab_type": "code",
    "id": "swozPaMXMMzG",
    "outputId": "911a440b-c955-4ae9-fae4-eb8272067d7a"
   },
   "outputs": [
    {
     "name": "stdout",
     "output_type": "stream",
     "text": [
      "[-0.41643268 -0.00180279]\n",
      "[-0.41902544 -0.00259276]\n",
      "[-0.4223897  -0.00336426]\n",
      "[-0.42750141 -0.00511172]\n",
      "[-0.43432392 -0.0068225 ]\n",
      "[-0.44080801 -0.00648409]\n",
      "[-0.44890666 -0.00809866]\n",
      "[-0.45856083 -0.00965417]\n",
      "[-0.4676997  -0.00913887]\n",
      "[-0.47825584 -0.01055615]\n",
      "[-0.49015101 -0.01189517]\n",
      "[-0.50229662 -0.01214561]\n",
      "[-0.51560189 -0.01330527]\n",
      "[-0.52896712 -0.01336524]\n",
      "[-0.5412921  -0.01232498]\n",
      "[-0.55348444 -0.01219234]\n",
      "[-0.56545293 -0.0119685 ]\n",
      "[-0.57810835 -0.01265541]\n",
      "[-0.59135676 -0.01324841]\n",
      "[-0.60510048 -0.01374372]\n",
      "[-0.618239   -0.01313853]\n",
      "[-0.63167723 -0.01343822]\n",
      "[-0.64331899 -0.01164176]\n",
      "[-0.65408204 -0.01076304]\n",
      "[-0.66289126 -0.00880922]\n",
      "[-0.66968593 -0.00679467]\n",
      "[-0.67641968 -0.00673375]\n",
      "[-0.68204701 -0.00562733]\n",
      "[-0.68753022 -0.00548322]\n",
      "[-0.69183292 -0.00430269]\n",
      "[-0.69592674 -0.00409383]\n",
      "[-0.69878492 -0.00285818]\n",
      "[-6.99388853e-01 -6.03935248e-04]\n",
      "[-6.99734631e-01 -3.45778716e-04]\n",
      "[-6.99820013e-01 -8.53818686e-05]\n",
      "[-6.99644445e-01  1.75567963e-04]\n",
      "[-0.69820906  0.00143538]\n",
      "[-0.69552318  0.00268588]\n",
      "[-0.69160428  0.0039189 ]\n",
      "[-0.68747801  0.00412627]\n",
      "[-0.68317157  0.00430644]\n",
      "[-0.67771352  0.00545805]\n",
      "[-0.67014035  0.00757317]\n",
      "[-0.66150318  0.00863717]\n",
      "[-0.65186099  0.0096422 ]\n",
      "[-0.64028038  0.0115806 ]\n",
      "[-0.62784243  0.01243795]\n",
      "[-0.61563534  0.0122071 ]\n",
      "[-0.6037467   0.01188863]\n",
      "[-0.59026274  0.01348397]\n",
      "[-0.57728212  0.01298062]\n",
      "[-0.56290061  0.01438151]\n",
      "[-0.54822502  0.01467559]\n",
      "[-0.5343649   0.01386012]\n",
      "[-0.52142405  0.01294085]\n",
      "[-0.50849951  0.01292454]\n",
      "[-0.49568818  0.01281133]\n",
      "[-0.48408593  0.01160225]\n",
      "[-0.47377933  0.0103066 ]\n",
      "[-0.46284499  0.01093434]\n",
      "[-0.45236379  0.0104812 ]\n",
      "[-0.44341279  0.008951  ]\n",
      "[-0.4360574   0.00735539]\n",
      "[-0.42835105  0.00770635]\n",
      "[-0.42234938  0.00600167]\n",
      "[-0.41809545  0.00425393]\n",
      "[-0.41461966  0.0034758 ]\n",
      "[-0.41094672  0.00367294]\n",
      "[-0.40810268  0.00284404]\n",
      "[-0.40710764  0.00099504]\n",
      "[-4.06968602e-01  1.39037072e-04]\n",
      "[-4.06686552e-01  2.82049660e-04]\n",
      "[-0.40726348 -0.00057692]\n",
      "[-0.40869531 -0.00143183]\n",
      "[-0.41197196 -0.00327664]\n",
      "[-0.41607024 -0.00409829]\n",
      "[-0.42196108 -0.00589083]\n",
      "[-0.42960244 -0.00764136]\n",
      "[-0.43893946 -0.00933703]\n",
      "[-0.44890463 -0.00996517]\n",
      "[-0.45942533 -0.0105207 ]\n",
      "[-0.47142436 -0.01199903]\n",
      "[-0.4848131  -0.01338874]\n",
      "[-0.49749208 -0.01267898]\n",
      "[-0.51036666 -0.01287458]\n",
      "[-0.52234045 -0.01197379]\n",
      "[-0.53432369 -0.01198323]\n",
      "[-0.5472265  -0.01290281]\n",
      "[-0.55895224 -0.01172575]\n",
      "[-0.57041334 -0.0114611 ]\n",
      "[-0.58252448 -0.01211114]\n",
      "[-0.59419597 -0.01167149]\n",
      "[-0.60634194 -0.01214596]\n",
      "[-0.61687368 -0.01053174]\n",
      "[-0.62671496 -0.00984128]\n",
      "[-0.63479514 -0.00808018]\n",
      "[-0.64205673 -0.00726159]\n",
      "[-0.64844847 -0.00639174]\n",
      "[-0.65492557 -0.00647711]\n",
      "[-0.66044301 -0.00551744]\n",
      "[-0.66596271 -0.00551969]\n",
      "[-0.67144684 -0.00548413]\n",
      "[-0.67685811 -0.00541127]\n",
      "[-0.68216001 -0.0053019 ]\n",
      "[-0.68531704 -0.00315703]\n",
      "[-0.68830821 -0.00299117]\n",
      "[-0.69111372 -0.00280551]\n",
      "[-0.69371508 -0.00260137]\n",
      "[-0.69609524 -0.00238016]\n",
      "[-0.69723866 -0.00114341]\n",
      "[-0.69613787  0.00110078]\n",
      "[-0.69380006  0.00233781]\n",
      "[-0.68924049  0.00455957]\n",
      "[-0.68348911  0.00575138]\n",
      "[-0.675584   0.0079051]\n",
      "[-0.6665781  0.0090059]\n",
      "[-0.65753243  0.00904567]\n",
      "[-0.64750908  0.01002336]\n",
      "[-0.63757765  0.00993143]\n",
      "[-0.62580794  0.01176971]\n",
      "[-0.61328361  0.01252432]\n",
      "[-0.60009474  0.01318887]\n",
      "[-0.58533717  0.01475757]\n",
      "[-0.56911921  0.01621797]\n",
      "[-0.5515609   0.01755831]\n",
      "[-0.53379312  0.01776778]\n",
      "[-0.5159489   0.01784422]\n",
      "[-0.49716204  0.01878685]\n",
      "[-0.47957325  0.01758879]\n",
      "[-0.4633137   0.01625955]\n",
      "[-0.44750382  0.01580988]\n",
      "[-0.43225971  0.01524411]\n",
      "[-0.4176921   0.01456761]\n",
      "[-0.4029055  0.0147866]\n",
      "[-0.39000445  0.01290105]\n",
      "[-0.37707874  0.01292571]\n",
      "[-0.36421689  0.01286185]\n",
      "[-0.35150537  0.01271152]\n",
      "[-0.34002798  0.0114774 ]\n",
      "[-0.32985882  0.01016916]\n",
      "[-0.32006227  0.00979655]\n",
      "[-0.31269913  0.00736313]\n",
      "[-0.30781431  0.00488482]\n",
      "[-0.30543718  0.00237713]\n",
      "[-0.30458192  0.00085525]\n",
      "[-0.30625363 -0.00167171]\n",
      "[-0.31044235 -0.00418872]\n",
      "[-0.31512299 -0.00468064]\n",
      "[-0.32226725 -0.00714425]\n",
      "[-0.33183134 -0.00956409]\n",
      "[-0.34375565 -0.01192431]\n",
      "[-0.35696429 -0.01320864]\n",
      "[-0.37237129 -0.01540699]\n",
      "[-0.38787398 -0.01550269]\n",
      "[-0.40536671 -0.01749273]\n",
      "[-0.4247277 -0.019361 ]\n",
      "[-0.44581941 -0.0210917 ]\n",
      "[-0.46748917 -0.02166977]\n",
      "[-0.49057778 -0.02308861]\n",
      "[-0.51391364 -0.02333586]\n",
      "[-0.53832213 -0.02440849]\n",
      "[-0.56262022 -0.0242981 ]\n",
      "[-0.58662633 -0.02400611]\n",
      "[-0.60916254 -0.02253621]\n",
      "[-0.63006404 -0.02090151]\n",
      "[-0.65118057 -0.02111652]\n",
      "[-0.67136342 -0.02018285]\n",
      "[-0.69047398 -0.01911056]\n",
      "[-0.7073846  -0.01691062]\n",
      "[-0.72198561 -0.01460101]\n",
      "[-0.73518502 -0.01319941]\n",
      "[-0.74590197 -0.01071695]\n",
      "[-0.75407252 -0.00817055]\n",
      "[-0.76064899 -0.00657647]\n",
      "[-0.76559369 -0.0049447 ]\n",
      "[-0.76887871 -0.00328502]\n",
      "[-0.77148571 -0.002607  ]\n",
      "[-0.77340024 -0.00191453]\n",
      "[-0.77261176  0.00078848]\n",
      "[-0.77112461  0.00148715]\n",
      "[-0.76694698  0.00417762]\n",
      "[-0.7611021   0.00584488]\n",
      "[-0.75462289  0.00647922]\n",
      "[-0.74754641  0.00707648]\n",
      "[-0.73791386  0.00963255]\n",
      "[-0.72778242  0.01013144]\n",
      "[-0.71521359  0.01256883]\n",
      "[-0.7002855   0.01492809]\n",
      "[-0.68509344  0.01519205]\n",
      "[-0.66773701  0.01735643]\n",
      "[-0.64833291  0.01940409]\n",
      "[-0.62701499  0.02131792]\n",
      "[-0.60593383  0.02108116]\n",
      "[-0.58324142  0.02269241]\n",
      "[-0.56010407  0.02313735]\n",
      "[-0.53569348  0.02441059]\n",
      "[-0.5101922   0.02550128]\n",
      "[-0.48379144  0.02640076]\n",
      "[-0.45768853  0.02610291]\n",
      "[-0.43307673  0.0246118 ]\n"
     ]
    }
   ],
   "source": [
    "import random\n",
    "done = False\n",
    "\n",
    "while not done:\n",
    "  action = (int(random.random()*10))%3 #action 0->push car left; action 1->do nothing; action 2-> push car right\n",
    "  state, reward, done, _ = env.step(action)# state is a tuple of (position, velocity)\n",
    "  print(state)  \n",
    "\n",
    "  env.render()\n",
    "\n",
    "env.close()\n",
    "\n",
    "#the car needs to build momentum"
   ]
  },
  {
   "cell_type": "markdown",
   "metadata": {
    "colab": {},
    "colab_type": "code",
    "id": "PUOonNqESgB-"
   },
   "source": [
    "## Implementing Q Table\n",
    "\n",
    "We will be implementing SARSAMAX\n",
    "\n",
    "![](SARSAMAX.png)\n",
    "\n",
    "- State contains continous values\n",
    "- Q Table will contains prohibitively large number of state values\n",
    "- We need to **dicretize them** in order to create Q Table\n",
    "- Initially Q Table will contain random values"
   ]
  },
  {
   "cell_type": "code",
   "execution_count": 4,
   "metadata": {},
   "outputs": [
    {
     "name": "stdout",
     "output_type": "stream",
     "text": [
      "[0.6  0.07]\n",
      "[-1.2  -0.07]\n",
      "3\n"
     ]
    }
   ],
   "source": [
    "#display observation space low and high values\n",
    "print(env.observation_space.high)#[position,velocity]\n",
    "print(env.observation_space.low)#[position, velocity]\n",
    "print(env.action_space.n)"
   ]
  },
  {
   "cell_type": "code",
   "execution_count": 5,
   "metadata": {},
   "outputs": [
    {
     "data": {
      "text/plain": [
       "[20, 20]"
      ]
     },
     "execution_count": 5,
     "metadata": {},
     "output_type": "execute_result"
    }
   ],
   "source": [
    "DISCRETE_OS_SIZE = [20] * len(env.observation_space.high)#os->observation space; 20 is the bucket size chosen by us (hyperparameter)\n",
    "DISCRETE_OS_SIZE # We will have 20 discrete combinations for position and velocity. \n",
    "#State space will be 20 * 20 = 400"
   ]
  },
  {
   "cell_type": "code",
   "execution_count": 6,
   "metadata": {},
   "outputs": [
    {
     "data": {
      "text/plain": [
       "array([0.09 , 0.007])"
      ]
     },
     "execution_count": 6,
     "metadata": {},
     "output_type": "execute_result"
    }
   ],
   "source": [
    "#For each of 20 discrete state, we will have a bucket containing some range of position values and some range of velocity value\n",
    "discrete_os_bucket_size = (env.observation_space.high-env.observation_space.low)/DISCRETE_OS_SIZE\n",
    "discrete_os_bucket_size"
   ]
  },
  {
   "cell_type": "code",
   "execution_count": 7,
   "metadata": {},
   "outputs": [
    {
     "name": "stdout",
     "output_type": "stream",
     "text": [
      "(20, 20, 3)\n"
     ]
    },
    {
     "data": {
      "text/plain": [
       "array([[[0., 0., 0.],\n",
       "        [0., 0., 0.],\n",
       "        [0., 0., 0.],\n",
       "        ...,\n",
       "        [0., 0., 0.],\n",
       "        [0., 0., 0.],\n",
       "        [0., 0., 0.]],\n",
       "\n",
       "       [[0., 0., 0.],\n",
       "        [0., 0., 0.],\n",
       "        [0., 0., 0.],\n",
       "        ...,\n",
       "        [0., 0., 0.],\n",
       "        [0., 0., 0.],\n",
       "        [0., 0., 0.]],\n",
       "\n",
       "       [[0., 0., 0.],\n",
       "        [0., 0., 0.],\n",
       "        [0., 0., 0.],\n",
       "        ...,\n",
       "        [0., 0., 0.],\n",
       "        [0., 0., 0.],\n",
       "        [0., 0., 0.]],\n",
       "\n",
       "       ...,\n",
       "\n",
       "       [[0., 0., 0.],\n",
       "        [0., 0., 0.],\n",
       "        [0., 0., 0.],\n",
       "        ...,\n",
       "        [0., 0., 0.],\n",
       "        [0., 0., 0.],\n",
       "        [0., 0., 0.]],\n",
       "\n",
       "       [[0., 0., 0.],\n",
       "        [0., 0., 0.],\n",
       "        [0., 0., 0.],\n",
       "        ...,\n",
       "        [0., 0., 0.],\n",
       "        [0., 0., 0.],\n",
       "        [0., 0., 0.]],\n",
       "\n",
       "       [[0., 0., 0.],\n",
       "        [0., 0., 0.],\n",
       "        [0., 0., 0.],\n",
       "        ...,\n",
       "        [0., 0., 0.],\n",
       "        [0., 0., 0.],\n",
       "        [0., 0., 0.]]])"
      ]
     },
     "execution_count": 7,
     "metadata": {},
     "output_type": "execute_result"
    }
   ],
   "source": [
    "#creating Q Table\n",
    "import numpy as np\n",
    "#Q Table is assigned arbitrarily\n",
    "\n",
    "#q_table = np.random.uniform(low=-2,high=0,size=(DISCRETE_OS_SIZE + [3])) #uniform is used when we want random values drawn from [low,high) range\n",
    "\n",
    "q_table = np.zeros(DISCRETE_OS_SIZE + [3])\n",
    "\n",
    "#low and high are randomly chosen\n",
    "print(q_table.shape)\n",
    "q_table #Q Table is of 3 Dimension  poition_bucket (20) * velocity_bucket (20) * action (3)"
   ]
  },
  {
   "cell_type": "markdown",
   "metadata": {},
   "source": [
    "## Now we will implement SARSAMAX algorithm to fill the Q Table"
   ]
  },
  {
   "cell_type": "code",
   "execution_count": 8,
   "metadata": {},
   "outputs": [],
   "source": [
    "LEARNING_RATE = 0.1 #hyperparameter \n",
    "DISCOUNT = 0.95 #hyperparameter; how important are future rewards  \n",
    "EPISODES = 25000 #hyperparameter\n",
    "RENDER_EVERY = 5000\n",
    "\n",
    "#a helper function to discretize continous states as returned by the environment \n",
    "def get_discrete_state(state):\n",
    "    #discrete_state -> floor((current_state- lowest_state)/bucket_size)\n",
    "    discrete_state = (state - env.observation_space.low) / discrete_os_bucket_size\n",
    "    return tuple(discrete_state.astype(np.int)) #taking the floor value"
   ]
  },
  {
   "cell_type": "code",
   "execution_count": 9,
   "metadata": {},
   "outputs": [],
   "source": [
    "# Exploration settings\n",
    "epsilon = 1  # not a constant, qoing to be decayed\n",
    "START_EPSILON_DECAYING = 1\n",
    "END_EPSILON_DECAYING = EPISODES//2\n",
    "epsilon_decay_value = epsilon/(END_EPSILON_DECAYING - START_EPSILON_DECAYING)"
   ]
  },
  {
   "cell_type": "code",
   "execution_count": null,
   "metadata": {},
   "outputs": [
    {
     "name": "stdout",
     "output_type": "stream",
     "text": [
      "0\n"
     ]
    }
   ],
   "source": [
    "for episode in range(EPISODES):\n",
    "    done = False\n",
    "    discrete_state = get_discrete_state(env.reset()) #we always start with initial discrete state\n",
    "    if episode % RENDER_EVERY == 0:\n",
    "        render=True\n",
    "        print(episode)\n",
    "    else:\n",
    "        render=False\n",
    "        \n",
    "    while not done:\n",
    "        if np.random.random() > epsilon:\n",
    "            # Get action from Q table\n",
    "            action = np.argmax(q_table[discrete_state])\n",
    "        else:\n",
    "            # Get random action\n",
    "            action = np.random.randint(0, env.action_space.n)\n",
    "        state, reward, done, _ = env.step(action)# state is a tuple of (position, velocity)\n",
    "        if render:\n",
    "            env.render()\n",
    "        new_discrete_state = get_discrete_state(state)\n",
    "        if not done:\n",
    "            q_st_at=q_table[discrete_state+(action,)]\n",
    "            q_st_plus_1_a = np.max(q_table[new_discrete_state])\n",
    "            new_q_st_at = q_st_at + LEARNING_RATE * (reward + DISCOUNT * q_st_plus_1_a - q_st_at)\n",
    "            q_table[discrete_state+(action,)] = new_q_st_at\n",
    "        elif state[0] >= env.goal_position: #if the episode terminates because we have achieved our goal\n",
    "            new_q_st_at = q_st_at + LEARNING_RATE * (0 + DISCOUNT * q_st_plus_1_a - q_st_at)\n",
    "        discrete_state = new_discrete_state\n",
    "     # Decaying is being done every episode if episode number is within decaying range\n",
    "    if END_EPSILON_DECAYING >= episode >= START_EPSILON_DECAYING:\n",
    "        epsilon -= epsilon_decay_value\n",
    "env.close()"
   ]
  },
  {
   "cell_type": "code",
   "execution_count": null,
   "metadata": {},
   "outputs": [],
   "source": [
    "discrete_state+(action,)"
   ]
  },
  {
   "cell_type": "code",
   "execution_count": null,
   "metadata": {},
   "outputs": [],
   "source": []
  }
 ],
 "metadata": {
  "colab": {
   "collapsed_sections": [],
   "name": "Day 1 RL Q Learning.ipynb",
   "provenance": []
  },
  "kernelspec": {
   "display_name": "Python 3",
   "language": "python",
   "name": "python3"
  },
  "language_info": {
   "codemirror_mode": {
    "name": "ipython",
    "version": 3
   },
   "file_extension": ".py",
   "mimetype": "text/x-python",
   "name": "python",
   "nbconvert_exporter": "python",
   "pygments_lexer": "ipython3",
   "version": "3.7.4"
  }
 },
 "nbformat": 4,
 "nbformat_minor": 1
}
