{
 "cells": [
  {
   "cell_type": "code",
   "execution_count": 1,
   "metadata": {},
   "outputs": [],
   "source": [
    "#May require to install opencv if it is not available: conda install -c menpo opencv\n",
    "\n",
    "#REMEMBER: Open CV used BGR image encoding format\n",
    "import cv2\n",
    "\n",
    "import numpy as np \n",
    "from PIL import Image#?\n",
    "import pickle #to save and load python objects\n",
    "import matplotlib.pyplot as plt\n",
    "from matplotlib import style \n",
    "import time"
   ]
  },
  {
   "cell_type": "code",
   "execution_count": 3,
   "metadata": {},
   "outputs": [],
   "source": [
    "style.use('ggplot')"
   ]
  },
  {
   "cell_type": "code",
   "execution_count": 6,
   "metadata": {},
   "outputs": [],
   "source": [
    "#Setting the constants\n",
    "SIZE = 10\n",
    "EPISODES = 25000\n",
    "MOVE_PENALTY = 1\n",
    "ENEMY_PENALTY = 300\n",
    "FOOD_REWARD = 25\n",
    "epsilon = 0.9 #epsilon greedy policy\n",
    "EPS_DECAY = 0.9998\n",
    "SHOW_EVERY = 3000\n",
    "start_q_table = None #can be prior q table saved using pickle library\n",
    "LEARNING_RATE = 0.1\n",
    "DISCOUNT = 0.95"
   ]
  },
  {
   "cell_type": "code",
   "execution_count": 7,
   "metadata": {},
   "outputs": [],
   "source": [
    "PLAYER_N=1\n",
    "FOOD_N=2\n",
    "ENEMY_N=3\n",
    "#open cv using BGR format for image representation\n",
    "d={1:(255,0,0),\n",
    "   2:(0,255,0),\n",
    "   3:(0,0,255)\n",
    "}"
   ]
  },
  {
   "cell_type": "code",
   "execution_count": null,
   "metadata": {},
   "outputs": [],
   "source": [
    "#Creating class for player, food and enemy\n",
    "class Blob:\n",
    "    def __init__(self): #Python constructor\n",
    "        self.x = np.random.randint(0,SIZE)\n",
    "        self.y = np.random.randint(0,SIZE)\n",
    "        #To Do: There can be a issue in which enemy and/or player and/or food land on the same cell"
   ]
  }
 ],
 "metadata": {
  "kernelspec": {
   "display_name": "Python 3",
   "language": "python",
   "name": "python3"
  },
  "language_info": {
   "codemirror_mode": {
    "name": "ipython",
    "version": 3
   },
   "file_extension": ".py",
   "mimetype": "text/x-python",
   "name": "python",
   "nbconvert_exporter": "python",
   "pygments_lexer": "ipython3",
   "version": "3.7.4"
  }
 },
 "nbformat": 4,
 "nbformat_minor": 2
}
