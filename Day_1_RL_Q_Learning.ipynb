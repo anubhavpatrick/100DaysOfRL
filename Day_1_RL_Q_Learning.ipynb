{
 "cells": [
  {
   "cell_type": "code",
   "execution_count": 1,
   "metadata": {
    "colab": {
     "base_uri": "https://localhost:8080/",
     "height": 228
    },
    "colab_type": "code",
    "id": "boWDpbXsHWTY",
    "outputId": "697136fc-87ef-4e25-ca0e-5574bd6f7508"
   },
   "outputs": [
    {
     "name": "stdout",
     "output_type": "stream",
     "text": [
      "Requirement already satisfied: gym in /Users/anubhavpatrick/miniconda3/envs/style-transfer/lib/python3.7/site-packages (0.15.3)\n",
      "Requirement already satisfied: six in /Users/anubhavpatrick/miniconda3/envs/style-transfer/lib/python3.7/site-packages (from gym) (1.12.0)\n",
      "Requirement already satisfied: scipy in /Users/anubhavpatrick/miniconda3/envs/style-transfer/lib/python3.7/site-packages (from gym) (1.1.0)\n",
      "Requirement already satisfied: pyglet<=1.3.2,>=1.2.0 in /Users/anubhavpatrick/miniconda3/envs/style-transfer/lib/python3.7/site-packages (from gym) (1.3.2)\n",
      "Requirement already satisfied: numpy>=1.10.4 in /Users/anubhavpatrick/miniconda3/envs/style-transfer/lib/python3.7/site-packages (from gym) (1.17.2)\n",
      "Requirement already satisfied: cloudpickle~=1.2.0 in /Users/anubhavpatrick/miniconda3/envs/style-transfer/lib/python3.7/site-packages (from gym) (1.2.2)\n",
      "Requirement already satisfied: future in /Users/anubhavpatrick/miniconda3/envs/style-transfer/lib/python3.7/site-packages (from pyglet<=1.3.2,>=1.2.0->gym) (0.18.1)\n"
     ]
    }
   ],
   "source": [
    "#Reference => sentdex tutorial on Youtube\n",
    "!pip install gym #already installed"
   ]
  },
  {
   "cell_type": "code",
   "execution_count": 2,
   "metadata": {
    "colab": {
     "base_uri": "https://localhost:8080/",
     "height": 35
    },
    "colab_type": "code",
    "id": "b8jAVyvSH4-F",
    "outputId": "f3c3d8e7-8dd9-435c-d391-c025cd1c13f5"
   },
   "outputs": [
    {
     "data": {
      "text/plain": [
       "array([-0.46036249,  0.        ])"
      ]
     },
     "execution_count": 2,
     "metadata": {},
     "output_type": "execute_result"
    }
   ],
   "source": [
    "import gym\n",
    "env = gym.make('MountainCar-v0') #for discription https://gym.openai.com/envs/MountainCar-v0/\n",
    "env.reset()"
   ]
  },
  {
   "cell_type": "code",
   "execution_count": 3,
   "metadata": {
    "colab": {
     "base_uri": "https://localhost:8080/",
     "height": 381
    },
    "colab_type": "code",
    "id": "swozPaMXMMzG",
    "outputId": "911a440b-c955-4ae9-fae4-eb8272067d7a"
   },
   "outputs": [],
   "source": [
    "import random\n",
    "done = False\n",
    "\n",
    "while not done:\n",
    "  action = (int(random.random()*10))%3 #action 0->push car left; action 1->do nothing; action 2-> push car right\n",
    "  state, reward, done, _ = env.step(action)# state is a tuple of (position, velocity)\n",
    "  env.render()\n",
    "\n",
    "env.close()"
   ]
  },
  {
   "cell_type": "code",
   "execution_count": null,
   "metadata": {
    "colab": {},
    "colab_type": "code",
    "id": "PUOonNqESgB-"
   },
   "outputs": [],
   "source": []
  },
  {
   "cell_type": "code",
   "execution_count": null,
   "metadata": {},
   "outputs": [],
   "source": []
  }
 ],
 "metadata": {
  "colab": {
   "collapsed_sections": [],
   "name": "Day 1 RL Q Learning.ipynb",
   "provenance": []
  },
  "kernelspec": {
   "display_name": "Python 3",
   "language": "python",
   "name": "python3"
  },
  "language_info": {
   "codemirror_mode": {
    "name": "ipython",
    "version": 3
   },
   "file_extension": ".py",
   "mimetype": "text/x-python",
   "name": "python",
   "nbconvert_exporter": "python",
   "pygments_lexer": "ipython3",
   "version": "3.7.4"
  }
 },
 "nbformat": 4,
 "nbformat_minor": 1
}
