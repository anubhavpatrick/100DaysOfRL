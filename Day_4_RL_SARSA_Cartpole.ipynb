{
 "cells": [
  {
   "cell_type": "code",
   "execution_count": 9,
   "metadata": {
    "colab": {
     "base_uri": "https://localhost:8080/",
     "height": 228
    },
    "colab_type": "code",
    "id": "boWDpbXsHWTY",
    "outputId": "697136fc-87ef-4e25-ca0e-5574bd6f7508"
   },
   "outputs": [
    {
     "name": "stdout",
     "output_type": "stream",
     "text": [
      "Requirement already satisfied: gym in /Users/anubhavpatrick/miniconda3/envs/style-transfer/lib/python3.7/site-packages (0.15.3)\n",
      "Requirement already satisfied: six in /Users/anubhavpatrick/miniconda3/envs/style-transfer/lib/python3.7/site-packages (from gym) (1.12.0)\n",
      "Requirement already satisfied: cloudpickle~=1.2.0 in /Users/anubhavpatrick/miniconda3/envs/style-transfer/lib/python3.7/site-packages (from gym) (1.2.2)\n",
      "Requirement already satisfied: numpy>=1.10.4 in /Users/anubhavpatrick/miniconda3/envs/style-transfer/lib/python3.7/site-packages (from gym) (1.17.2)\n",
      "Requirement already satisfied: scipy in /Users/anubhavpatrick/miniconda3/envs/style-transfer/lib/python3.7/site-packages (from gym) (1.1.0)\n",
      "Requirement already satisfied: pyglet<=1.3.2,>=1.2.0 in /Users/anubhavpatrick/miniconda3/envs/style-transfer/lib/python3.7/site-packages (from gym) (1.3.2)\n",
      "Requirement already satisfied: future in /Users/anubhavpatrick/miniconda3/envs/style-transfer/lib/python3.7/site-packages (from pyglet<=1.3.2,>=1.2.0->gym) (0.18.1)\n"
     ]
    }
   ],
   "source": [
    "#Reference => sentdex tutorial on Youtube\n",
    "!pip install gym #already installed"
   ]
  },
  {
   "cell_type": "code",
   "execution_count": 10,
   "metadata": {
    "colab": {
     "base_uri": "https://localhost:8080/",
     "height": 35
    },
    "colab_type": "code",
    "id": "b8jAVyvSH4-F",
    "outputId": "f3c3d8e7-8dd9-435c-d391-c025cd1c13f5"
   },
   "outputs": [
    {
     "data": {
      "text/plain": [
       "array([-0.00778331, -0.03744282, -0.03113949, -0.01015828])"
      ]
     },
     "execution_count": 10,
     "metadata": {},
     "output_type": "execute_result"
    }
   ],
   "source": [
    "import gym\n",
    "env = gym.make('CartPole-v0') #for discription https://github.com/openai/gym/wiki/CartPole-v0\n",
    "env.reset()"
   ]
  },
  {
   "cell_type": "code",
   "execution_count": 11,
   "metadata": {
    "colab": {
     "base_uri": "https://localhost:8080/",
     "height": 381
    },
    "colab_type": "code",
    "id": "swozPaMXMMzG",
    "outputId": "911a440b-c955-4ae9-fae4-eb8272067d7a"
   },
   "outputs": [
    {
     "name": "stdout",
     "output_type": "stream",
     "text": [
      "[-0.00853217 -0.23210467 -0.03134265  0.27253941]\n",
      "[-0.01317426 -0.03654984 -0.02589186 -0.02986201]\n",
      "[-0.01390526  0.15893366 -0.0264891  -0.33060034]\n",
      "[-0.01072658 -0.0358014  -0.03310111 -0.0463871 ]\n",
      "[-0.01144261 -0.23043345 -0.03402885  0.2356711 ]\n",
      "[-0.01605128 -0.42505312 -0.02931543  0.51742904]\n",
      "[-0.02455234 -0.22953093 -0.01896685  0.21565427]\n",
      "[-0.02914296 -0.42437667 -0.01465377  0.50229438]\n",
      "[-0.03763049 -0.61928903 -0.00460788  0.79032349]\n",
      "[-0.05001627 -0.81434741  0.01119859  1.08155324]\n",
      "[-0.06630322 -1.00961538  0.03282966  1.37772914]\n",
      "[-0.08649553 -1.20513162  0.06038424  1.68049566]\n",
      "[-0.11059816 -1.01075909  0.09399415  1.40721043]\n",
      "[-0.13081334 -1.20691337  0.12213836  1.72773667]\n",
      "[-0.15495161 -1.40320159  0.15669309  2.05579505]\n",
      "[-0.18301564 -1.20999108  0.197809    1.81540939]\n",
      "[-0.20721547 -1.01754453  0.23411718  1.59014609]\n"
     ]
    }
   ],
   "source": [
    "import random\n",
    "done = False\n",
    "\n",
    "while not done:\n",
    "  action = (int(random.random()*10))%2 #action 0->push cart left; action 1->push cart right\n",
    "  state, reward, done, _ = env.step(action)# state is a tuple of (cart position, cart velocity, pole angle, pole velocity at tip)\n",
    "  print(state)  \n",
    "  env.render()\n",
    "\n",
    "env.close()\n",
    "\n",
    "#the cart need to balance the pole as much as possible"
   ]
  },
  {
   "cell_type": "markdown",
   "metadata": {
    "colab": {},
    "colab_type": "code",
    "id": "PUOonNqESgB-"
   },
   "source": [
    "## Implementing Q Table\n",
    "\n",
    "We will be implementing SARSA\n",
    "\n",
    "![](SARSA.png)\n",
    "\n",
    "- State contains continous values\n",
    "- Q Table will contains prohibitively large number of state values\n",
    "- We need to **dicretize them** in order to create Q Table\n",
    "- Initially Q Table will contain random values"
   ]
  },
  {
   "cell_type": "code",
   "execution_count": 12,
   "metadata": {},
   "outputs": [
    {
     "name": "stdout",
     "output_type": "stream",
     "text": [
      "[4.8000002e+00 3.4028235e+38 4.1887903e-01 3.4028235e+38]\n",
      "[-4.8000002e+00 -3.4028235e+38 -4.1887903e-01 -3.4028235e+38]\n",
      "2\n"
     ]
    }
   ],
   "source": [
    "#display observation space low and high values\n",
    "print(env.observation_space.high)#[position,cart_velocity,pole_angle,pole_velocity]\n",
    "print(env.observation_space.low)#[position,cart_velocity,pole_angle,pole_velocity]\n",
    "print(env.action_space.n)"
   ]
  },
  {
   "cell_type": "code",
   "execution_count": 92,
   "metadata": {},
   "outputs": [],
   "source": [
    "#Reference 1 for discretizizng -> https://medium.com/@tuzzer/cart-pole-balancing-with-q-learning-b54c6068d947 \n",
    "#Reference 2 for discretizing -> https://github.com/deepakkavoor/cartpole-rl/blob/master/cartpole-q_learning.py\n",
    "import math\n",
    "env.observation_space.high[1]= 0.5\n",
    "env.observation_space.low[1]= -0.5\n",
    "env.observation_space.high[3]= math.radians(50)\n",
    "env.observation_space.low[3]= -math.radians(50)"
   ]
  },
  {
   "cell_type": "markdown",
   "metadata": {},
   "source": [
    "## Now we will implement SARSAMAX algorithm to fill the Q Table"
   ]
  },
  {
   "cell_type": "code",
   "execution_count": 102,
   "metadata": {},
   "outputs": [
    {
     "name": "stdout",
     "output_type": "stream",
     "text": [
      "(1, 1, 6, 12, 2)\n"
     ]
    }
   ],
   "source": [
    "import numpy as np\n",
    "LEARNING_RATE = 0.1 #hyperparameter \n",
    "DISCOUNT = 0.95 #hyperparameter; how important are future rewards  \n",
    "EPISODES = 20000 #hyperparameter\n",
    "#Test for higher values of EPISODES -> the performance deteriorate\n",
    "RENDER_EVERY = 1000\n",
    "\n",
    "\n",
    "\n",
    "#Reference for discretizing=> https://mc.ai/openai-gyms-cart-pole-balancing-using-q-learning/\n",
    "buckets=(1, 1, 6, 12,) #hyperparameter -> dimensions of Q Table (position,cart_velocity,pole_angle,pole_velocity)\n",
    "q_table = np.zeros(buckets + (env.action_space.n,))\n",
    "print(q_table.shape)\n",
    "\n",
    "\n",
    "\n",
    "#a helper function to discretize continous states as returned by the environment \n",
    "def get_discrete_state(state):\n",
    "    ratios = [(state[i] + abs(env.observation_space.low[i])) / (env.observation_space.high[i] - env.observation_space.low[i]) for i in range(len(state))]\n",
    "    new_obs = [int(round((buckets[i] - 1) * ratios[i])) for i in range(len(state))]\n",
    "    new_obs = [min(buckets[i] - 1, max(0, new_obs[i])) for i in range(len(state))]\n",
    "    return tuple(new_obs)\n",
    "    "
   ]
  },
  {
   "cell_type": "code",
   "execution_count": 103,
   "metadata": {},
   "outputs": [],
   "source": [
    "# Exploration settings\n",
    "epsilon = 1  # not a constant, qoing to be decayed\n",
    "START_EPSILON_DECAYING = 1\n",
    "END_EPSILON_DECAYING = EPISODES//2\n",
    "epsilon_decay_value = epsilon/(END_EPSILON_DECAYING - START_EPSILON_DECAYING)"
   ]
  },
  {
   "cell_type": "code",
   "execution_count": 104,
   "metadata": {},
   "outputs": [
    {
     "name": "stdout",
     "output_type": "stream",
     "text": [
      "Episode:0 Epsilon: 1 Decay Value: 5.000250012500625e-05\n",
      "Episode:1000 Epsilon: 0.9499974998750096 Decay Value: 5.000250012500625e-05\n",
      "Episode:2000 Epsilon: 0.8999949997500192 Decay Value: 5.000250012500625e-05\n",
      "Episode:3000 Epsilon: 0.8499924996250288 Decay Value: 5.000250012500625e-05\n",
      "Episode:4000 Epsilon: 0.7999899995000384 Decay Value: 5.000250012500625e-05\n",
      "Episode:5000 Epsilon: 0.7499874993750479 Decay Value: 5.000250012500625e-05\n",
      "Episode:6000 Epsilon: 0.6999849992500575 Decay Value: 5.000250012500625e-05\n",
      "Episode:7000 Epsilon: 0.6499824991250671 Decay Value: 5.000250012500625e-05\n",
      "Episode:8000 Epsilon: 0.5999799990000767 Decay Value: 5.000250012500625e-05\n",
      "Episode:9000 Epsilon: 0.5499774988750863 Decay Value: 5.000250012500625e-05\n",
      "Episode:10000 Epsilon: 0.4999749987500959 Decay Value: 5.000250012500625e-05\n",
      "Episode:11000 Epsilon: 0.44997249862510547 Decay Value: 5.000250012500625e-05\n",
      "Episode:12000 Epsilon: 0.39996999850011505 Decay Value: 5.000250012500625e-05\n",
      "Episode:13000 Epsilon: 0.34996749837512464 Decay Value: 5.000250012500625e-05\n",
      "Episode:14000 Epsilon: 0.29996499825013423 Decay Value: 5.000250012500625e-05\n",
      "Episode:15000 Epsilon: 0.2499624981251438 Decay Value: 5.000250012500625e-05\n",
      "Episode:16000 Epsilon: 0.19995999800012562 Decay Value: 5.000250012500625e-05\n",
      "Episode:17000 Epsilon: 0.14995749787510745 Decay Value: 5.000250012500625e-05\n",
      "Episode:18000 Epsilon: 0.09995499775009624 Decay Value: 5.000250012500625e-05\n",
      "Episode:19000 Epsilon: 0.04995249762509195 Decay Value: 5.000250012500625e-05\n",
      "Episode:20000 Epsilon: -5.0002499913994065e-05 Decay Value: 5.000250012500625e-05\n",
      "Episode:21000 Epsilon: -5.0002499913994065e-05 Decay Value: 5.000250012500625e-05\n",
      "Episode:22000 Epsilon: -5.0002499913994065e-05 Decay Value: 5.000250012500625e-05\n",
      "Episode:23000 Epsilon: -5.0002499913994065e-05 Decay Value: 5.000250012500625e-05\n",
      "Episode:24000 Epsilon: -5.0002499913994065e-05 Decay Value: 5.000250012500625e-05\n",
      "Episode:25000 Epsilon: -5.0002499913994065e-05 Decay Value: 5.000250012500625e-05\n",
      "Episode:26000 Epsilon: -5.0002499913994065e-05 Decay Value: 5.000250012500625e-05\n",
      "Episode:27000 Epsilon: -5.0002499913994065e-05 Decay Value: 5.000250012500625e-05\n",
      "Episode:28000 Epsilon: -5.0002499913994065e-05 Decay Value: 5.000250012500625e-05\n",
      "Episode:29000 Epsilon: -5.0002499913994065e-05 Decay Value: 5.000250012500625e-05\n",
      "Episode:30000 Epsilon: -5.0002499913994065e-05 Decay Value: 5.000250012500625e-05\n",
      "Episode:31000 Epsilon: -5.0002499913994065e-05 Decay Value: 5.000250012500625e-05\n",
      "Episode:32000 Epsilon: -5.0002499913994065e-05 Decay Value: 5.000250012500625e-05\n",
      "Episode:33000 Epsilon: -5.0002499913994065e-05 Decay Value: 5.000250012500625e-05\n",
      "Episode:34000 Epsilon: -5.0002499913994065e-05 Decay Value: 5.000250012500625e-05\n",
      "Episode:35000 Epsilon: -5.0002499913994065e-05 Decay Value: 5.000250012500625e-05\n",
      "Episode:36000 Epsilon: -5.0002499913994065e-05 Decay Value: 5.000250012500625e-05\n",
      "Episode:37000 Epsilon: -5.0002499913994065e-05 Decay Value: 5.000250012500625e-05\n",
      "Episode:38000 Epsilon: -5.0002499913994065e-05 Decay Value: 5.000250012500625e-05\n",
      "Episode:39000 Epsilon: -5.0002499913994065e-05 Decay Value: 5.000250012500625e-05\n"
     ]
    }
   ],
   "source": [
    "for episode in range(EPISODES):\n",
    "    done = False\n",
    "    discrete_state = get_discrete_state(env.reset()) #we always start with initial discrete state'\n",
    "    if episode % RENDER_EVERY == 0:\n",
    "        render=True\n",
    "        print(episode)\n",
    "    else:\n",
    "        render=False\n",
    "    steps_per_episode = 0\n",
    "    while not done:\n",
    "        \n",
    "        if render:\n",
    "            env.render()\n",
    "            steps_per_episode+=1\n",
    "            print('Step Count'+str(steps_per_episode))\n",
    "        \n",
    "        if np.random.random() > epsilon: #exploitation\n",
    "            # Get action from Q table\n",
    "            action = np.argmax(q_table[discrete_state])\n",
    "        else:#exploration\n",
    "            # Get random action\n",
    "            action = np.random.randint(0, env.action_space.n)\n",
    "        \n",
    "        state, reward, done, _ = env.step(action)# state is a tuple of (position,cart_velocity,pole_angle,pole_velocity)\n",
    "        new_discrete_state = get_discrete_state(state)\n",
    "        \n",
    "        if not done:\n",
    "            q_st_at=q_table[discrete_state+(action,)]\n",
    "            \n",
    "            #Find out next action At+1\n",
    "            if np.random.random() > epsilon:#exploitation\n",
    "                # Get action from Q table\n",
    "                action_t_plus_1 = np.argmax(q_table[new_discrete_state])\n",
    "            else:#exploration\n",
    "                # Get random action\n",
    "                action_t_plus_1 = np.random.randint(0, env.action_space.n)\n",
    "            \n",
    "            q_st_plus_1_at_plus_1 = q_table[new_discrete_state+(action_t_plus_1,)]\n",
    "            new_q_st_at = q_st_at + LEARNING_RATE * (reward + DISCOUNT * q_st_plus_1_at_plus_1 - q_st_at)\n",
    "            q_table[discrete_state+(action,)] = new_q_st_at\n",
    "        \n",
    "        discrete_state = new_discrete_state\n",
    "     # Decaying is being done every episode if episode number is within decaying range\n",
    "    if END_EPSILON_DECAYING >= episode >= START_EPSILON_DECAYING:\n",
    "        epsilon -= epsilon_decay_value\n",
    "env.close()"
   ]
  },
  {
   "cell_type": "markdown",
   "metadata": {},
   "source": [
    "## Sample Run of Agent"
   ]
  },
  {
   "cell_type": "code",
   "execution_count": 74,
   "metadata": {},
   "outputs": [
    {
     "name": "stdout",
     "output_type": "stream",
     "text": [
      "1\n",
      "2\n",
      "3\n",
      "4\n",
      "5\n",
      "6\n",
      "7\n",
      "8\n",
      "9\n",
      "10\n",
      "11\n",
      "12\n",
      "13\n",
      "14\n",
      "15\n",
      "16\n",
      "17\n",
      "18\n",
      "19\n",
      "20\n",
      "21\n",
      "22\n",
      "23\n",
      "24\n",
      "25\n",
      "26\n",
      "27\n",
      "28\n",
      "29\n",
      "30\n",
      "31\n",
      "32\n",
      "33\n",
      "34\n",
      "35\n",
      "36\n",
      "37\n",
      "38\n",
      "39\n",
      "40\n",
      "41\n",
      "42\n",
      "43\n",
      "44\n",
      "45\n",
      "46\n",
      "47\n",
      "48\n",
      "49\n",
      "50\n",
      "51\n",
      "52\n",
      "53\n",
      "54\n",
      "55\n",
      "56\n",
      "57\n",
      "58\n",
      "59\n",
      "60\n",
      "61\n",
      "62\n",
      "63\n",
      "64\n",
      "65\n",
      "66\n",
      "67\n",
      "68\n",
      "69\n",
      "70\n",
      "71\n",
      "72\n",
      "73\n",
      "74\n",
      "75\n",
      "76\n",
      "77\n",
      "78\n",
      "79\n",
      "80\n",
      "81\n",
      "82\n",
      "83\n",
      "84\n",
      "85\n",
      "86\n",
      "87\n",
      "88\n",
      "89\n",
      "90\n",
      "91\n",
      "92\n",
      "93\n",
      "94\n",
      "95\n",
      "96\n",
      "97\n",
      "98\n",
      "99\n",
      "100\n",
      "101\n",
      "102\n",
      "103\n",
      "104\n",
      "105\n",
      "106\n",
      "107\n",
      "108\n",
      "109\n",
      "110\n",
      "111\n",
      "112\n",
      "113\n",
      "114\n",
      "115\n",
      "116\n",
      "117\n",
      "118\n",
      "119\n",
      "120\n",
      "121\n",
      "122\n",
      "123\n",
      "124\n",
      "125\n",
      "126\n",
      "127\n",
      "128\n",
      "129\n",
      "130\n",
      "131\n",
      "132\n",
      "133\n",
      "134\n",
      "135\n",
      "136\n",
      "137\n",
      "138\n",
      "139\n",
      "140\n",
      "141\n",
      "142\n",
      "143\n",
      "144\n",
      "145\n",
      "146\n",
      "147\n",
      "148\n",
      "149\n",
      "150\n",
      "151\n",
      "152\n",
      "153\n",
      "154\n",
      "155\n",
      "156\n",
      "157\n",
      "158\n",
      "159\n",
      "160\n",
      "161\n",
      "162\n",
      "163\n",
      "164\n",
      "165\n",
      "166\n",
      "167\n",
      "168\n",
      "169\n",
      "170\n",
      "171\n",
      "172\n",
      "173\n",
      "174\n",
      "175\n",
      "176\n",
      "177\n",
      "178\n",
      "179\n",
      "180\n",
      "181\n",
      "182\n",
      "183\n",
      "184\n",
      "185\n",
      "186\n",
      "187\n",
      "188\n",
      "189\n",
      "190\n",
      "191\n",
      "192\n",
      "193\n",
      "194\n",
      "195\n",
      "196\n",
      "197\n",
      "198\n",
      "199\n",
      "200\n"
     ]
    }
   ],
   "source": [
    "\n",
    "done = False\n",
    "discrete_state = get_discrete_state(env.reset()) #we always start with initial discrete state'\n",
    "steps=0\n",
    "while not done:\n",
    "    steps+=1\n",
    "    print(steps)\n",
    "    env.render()\n",
    "        \n",
    "    action = np.argmax(q_table[discrete_state])\n",
    "        \n",
    "    state, reward, done, _ = env.step(action)# state is a tuple of (position,cart_velocity,pole_angle,pole_velocity)\n",
    "\n",
    "    discrete_state=get_discrete_state(state)"
   ]
  },
  {
   "cell_type": "code",
   "execution_count": null,
   "metadata": {},
   "outputs": [],
   "source": []
  },
  {
   "cell_type": "code",
   "execution_count": null,
   "metadata": {},
   "outputs": [],
   "source": []
  }
 ],
 "metadata": {
  "colab": {
   "collapsed_sections": [],
   "name": "Day 1 RL Q Learning.ipynb",
   "provenance": []
  },
  "kernelspec": {
   "display_name": "Python 3",
   "language": "python",
   "name": "python3"
  },
  "language_info": {
   "codemirror_mode": {
    "name": "ipython",
    "version": 3
   },
   "file_extension": ".py",
   "mimetype": "text/x-python",
   "name": "python",
   "nbconvert_exporter": "python",
   "pygments_lexer": "ipython3",
   "version": "3.7.4"
  }
 },
 "nbformat": 4,
 "nbformat_minor": 1
}
